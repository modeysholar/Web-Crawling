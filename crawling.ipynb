{
  "nbformat": 4,
  "nbformat_minor": 0,
  "metadata": {
    "colab": {
      "name": "New IR.ipynb",
      "provenance": [],
      "collapsed_sections": []
    },
    "kernelspec": {
      "name": "python3",
      "display_name": "Python 3"
    },
    "language_info": {
      "name": "python"
    }
  },
  "cells": [
    {
      "cell_type": "code",
      "metadata": {
        "id": "eoJ6kDuTl_-0"
      },
      "source": [
        "import requests\n",
        "from requests import get\n",
        "from bs4 import BeautifulSoup\n",
        "import time\n",
        "from time import *\n",
        "from random import randint\n",
        "from time import sleep  \n",
        "import numpy as np\n",
        "import pandas as pd"
      ],
      "execution_count": null,
      "outputs": []
    },
    {
      "cell_type": "markdown",
      "metadata": {
        "id": "n_WgpsNbQsXV"
      },
      "source": [
        "**Building A Crawler**  We extract the publications of some staff of coventry university "
      ]
    },
    {
      "cell_type": "code",
      "metadata": {
        "id": "QsuZZkmDk_8F"
      },
      "source": [
        "#First we crawl the seed page with this line of code which extarcts only the first 50 profile links \n",
        "Base_url = requests.get('https://pureportal.coventry.ac.uk/en/organisations/coventry-university/persons/')\n",
        "profile_links=[ ]\n",
        "  \n",
        "source= Base_url.text\n",
        "soup= BeautifulSoup(source, 'html.parser')\n",
        "\n",
        "for h3_tag in soup.find_all(\"h3\", class_= 'title'):\n",
        "    a_tag= h3_tag.find('a')\n",
        "    links= a_tag.attrs['href']\n",
        "\n",
        "    profile_links.append(links)\n"
      ],
      "execution_count": null,
      "outputs": []
    },
    {
      "cell_type": "code",
      "metadata": {
        "colab": {
          "base_uri": "https://localhost:8080/"
        },
        "id": "5V7bmx4Q_O6S",
        "outputId": "5b93dbe5-00b6-4089-d60d-4d2b47b5bbbe"
      },
      "source": [
        "len(profile_links)"
      ],
      "execution_count": null,
      "outputs": [
        {
          "output_type": "execute_result",
          "data": {
            "text/plain": [
              "50"
            ]
          },
          "metadata": {
            "tags": []
          },
          "execution_count": 3
        }
      ]
    },
    {
      "cell_type": "code",
      "metadata": {
        "colab": {
          "base_uri": "https://localhost:8080/"
        },
        "id": "bVRuPmuSXap-",
        "outputId": "15bd00cf-5bb9-451e-da49-87e8c6cb4db6"
      },
      "source": [
        "print(profile_links)"
      ],
      "execution_count": null,
      "outputs": [
        {
          "output_type": "stream",
          "text": [
            "['https://pureportal.coventry.ac.uk/en/persons/mohammadreza-abbassi-monjezi', 'https://pureportal.coventry.ac.uk/en/persons/mohsen-abbaszadeh', 'https://pureportal.coventry.ac.uk/en/persons/meryem-abdelhafid', 'https://pureportal.coventry.ac.uk/en/persons/mohamed-abdelshafy', 'https://pureportal.coventry.ac.uk/en/persons/ali-mohamed-abdi', 'https://pureportal.coventry.ac.uk/en/persons/mohamad-nazri-abd-karim', 'https://pureportal.coventry.ac.uk/en/persons/mohammed-abdulla', 'https://pureportal.coventry.ac.uk/en/persons/mohammed-abdullahi', 'https://pureportal.coventry.ac.uk/en/persons/jackie-abell', 'https://pureportal.coventry.ac.uk/en/persons/rebecca-aberton', 'https://pureportal.coventry.ac.uk/en/persons/essam-abo-serie-abdelfatah', 'https://pureportal.coventry.ac.uk/en/persons/btissam-aboubichr', 'https://pureportal.coventry.ac.uk/en/persons/omar-abou-hamdan', 'https://pureportal.coventry.ac.uk/en/persons/siham-aboujanah', 'https://pureportal.coventry.ac.uk/en/persons/nacey-abraham', 'https://pureportal.coventry.ac.uk/en/persons/jay-abrahams', 'https://pureportal.coventry.ac.uk/en/persons/ahmad-abras', 'https://pureportal.coventry.ac.uk/en/persons/habib-gajam-abubakar', 'https://pureportal.coventry.ac.uk/en/persons/alim-abubakre', 'https://pureportal.coventry.ac.uk/en/persons/adam-abukari', 'https://pureportal.coventry.ac.uk/en/persons/anees-abu-monshar', 'https://pureportal.coventry.ac.uk/en/persons/mohsen-abumuamar', 'https://pureportal.coventry.ac.uk/en/persons/pius-maduakonam-achuama', 'https://pureportal.coventry.ac.uk/en/persons/joseph-esuman-acquaah', 'https://pureportal.coventry.ac.uk/en/persons/elijah-acquah-andoh', 'https://pureportal.coventry.ac.uk/en/persons/gbenga-adamolekun', 'https://pureportal.coventry.ac.uk/en/persons/victor-aderogba-adebiyi', 'https://pureportal.coventry.ac.uk/en/persons/arinola-adefila', 'https://pureportal.coventry.ac.uk/en/persons/abiodun-adegbile', 'https://pureportal.coventry.ac.uk/en/persons/amanda-r-a-adegboye', 'https://pureportal.coventry.ac.uk/en/persons/janneke-adema', 'https://pureportal.coventry.ac.uk/en/persons/mohammed-aderemi-adepoju', 'https://pureportal.coventry.ac.uk/en/persons/kamilah-adetunji', 'https://pureportal.coventry.ac.uk/en/persons/thomas-kayode-adeyemi', 'https://pureportal.coventry.ac.uk/en/persons/mahalaxmi-adhikari-parajuli', 'https://pureportal.coventry.ac.uk/en/persons/mahnoor-adil', 'https://pureportal.coventry.ac.uk/en/persons/frank-adom', 'https://pureportal.coventry.ac.uk/en/persons/olivia-agar', 'https://pureportal.coventry.ac.uk/en/persons/dami-agbato', 'https://pureportal.coventry.ac.uk/en/persons/daniel-aghanya', 'https://pureportal.coventry.ac.uk/en/persons/rishav-agrawal', 'https://pureportal.coventry.ac.uk/en/persons/ismeil-ahamed', 'https://pureportal.coventry.ac.uk/en/persons/bilal-ahmad', 'https://pureportal.coventry.ac.uk/en/persons/farhan-ahmad', 'https://pureportal.coventry.ac.uk/en/persons/mahmood-abdulsattar-ahmad-ahmad', 'https://pureportal.coventry.ac.uk/en/persons/zahir-ahmad', 'https://pureportal.coventry.ac.uk/en/persons/abdullahi-ahmed', 'https://pureportal.coventry.ac.uk/en/persons/ahmed-hafiz', 'https://pureportal.coventry.ac.uk/en/persons/hany-ahmed', 'https://pureportal.coventry.ac.uk/en/persons/mohammed-lawal-ahmed']\n"
          ],
          "name": "stdout"
        }
      ]
    },
    {
      "cell_type": "code",
      "metadata": {
        "id": "eWJTkWaaACLM"
      },
      "source": [
        "#This lines of code crawls profiles of the next 4 pages of the seed page to extract 200 profile links more to make 250 in total.\n",
        "from time import time \n",
        "import random\n",
        "pages= np.arange(1, 5, 1)\n",
        "\n",
        "more_profiles= []\n",
        "for page in pages:\n",
        "    #time.sleep(random.randint(1,10))\n",
        "\n",
        "    url= 'https://pureportal.coventry.ac.uk/en/organisations/coventry-university/persons/?page=' + str(page)\n",
        "    results= requests.get(url)\n",
        "    soups= BeautifulSoup(results.text, 'html.parser')\n",
        "\n",
        "    for h3_tag1 in soups.find_all(\"h3\", class_= 'title'):\n",
        "      a_tag1= h3_tag1.find('a')\n",
        "      links1= a_tag1.attrs['href']\n",
        "\n",
        "      more_profiles.append(links1)"
      ],
      "execution_count": null,
      "outputs": []
    },
    {
      "cell_type": "code",
      "metadata": {
        "colab": {
          "base_uri": "https://localhost:8080/"
        },
        "id": "t49EkMaGFAua",
        "outputId": "7c13115d-4564-4814-9ae9-b58203933550"
      },
      "source": [
        "len(more_profiles)"
      ],
      "execution_count": null,
      "outputs": [
        {
          "output_type": "execute_result",
          "data": {
            "text/plain": [
              "200"
            ]
          },
          "metadata": {
            "tags": []
          },
          "execution_count": 6
        }
      ]
    },
    {
      "cell_type": "code",
      "metadata": {
        "colab": {
          "base_uri": "https://localhost:8080/"
        },
        "id": "SkjP1mNx_e3n",
        "outputId": "41246c3f-c8d4-446f-fd1f-166f6abdce61"
      },
      "source": [
        "print(more_profiles)"
      ],
      "execution_count": null,
      "outputs": [
        {
          "output_type": "stream",
          "text": [
            "['https://pureportal.coventry.ac.uk/en/persons/sarfraz-ahmed', 'https://pureportal.coventry.ac.uk/en/persons/tanveer-ahmed', 'https://pureportal.coventry.ac.uk/en/persons/tanvir-ahmed', 'https://pureportal.coventry.ac.uk/en/persons/zahoor-ahmed', 'https://pureportal.coventry.ac.uk/en/persons/nurudeen-aigoro', 'https://pureportal.coventry.ac.uk/en/persons/olubunmi-ajala', 'https://pureportal.coventry.ac.uk/en/persons/michael-ajao-olarinoye', 'https://pureportal.coventry.ac.uk/en/persons/toluwanimi-akaehomen', 'https://pureportal.coventry.ac.uk/en/persons/emre-akgun', 'https://pureportal.coventry.ac.uk/en/persons/sanam-akhavannasab', 'https://pureportal.coventry.ac.uk/en/persons/christiana-olajumoke-akintoye', 'https://pureportal.coventry.ac.uk/en/persons/josiah-akintunde-2', 'https://pureportal.coventry.ac.uk/en/persons/sule-akkoyunlu', 'https://pureportal.coventry.ac.uk/en/persons/daniel-akpan', 'https://pureportal.coventry.ac.uk/en/persons/tega-akpobi', 'https://pureportal.coventry.ac.uk/en/persons/michail-akritidis', 'https://pureportal.coventry.ac.uk/en/persons/shahzad-alam', 'https://pureportal.coventry.ac.uk/en/persons/lara-alamad', 'https://pureportal.coventry.ac.uk/en/persons/saif-faris-ahmad-alatrash', 'https://pureportal.coventry.ac.uk/en/persons/nahla-juma-khamis-al-balushi', 'https://pureportal.coventry.ac.uk/en/persons/ammar-al-bazi', 'https://pureportal.coventry.ac.uk/en/persons/amna-mohammad-hassan-ibrahim-alblooshi', 'https://pureportal.coventry.ac.uk/en/persons/reda-al-bodour', 'https://pureportal.coventry.ac.uk/en/persons/robert-aldham', 'https://pureportal.coventry.ac.uk/en/persons/tim-aldsworth', 'https://pureportal.coventry.ac.uk/en/persons/svetlana-aleksandrova', 'https://pureportal.coventry.ac.uk/en/persons/haitham-alfannah', 'https://pureportal.coventry.ac.uk/en/persons/kholoud-mashour-s-al-garni', 'https://pureportal.coventry.ac.uk/en/persons/salem-alhababsah', 'https://pureportal.coventry.ac.uk/en/persons/alaa-alhaj-ismail', 'https://pureportal.coventry.ac.uk/en/persons/hesham-ali', 'https://pureportal.coventry.ac.uk/en/persons/mustafa-ali', 'https://pureportal.coventry.ac.uk/en/persons/rashid-ali', 'https://pureportal.coventry.ac.uk/en/persons/reza-ali', 'https://pureportal.coventry.ac.uk/en/persons/taher-mabkhut-ali-al-junaibi', 'https://pureportal.coventry.ac.uk/en/persons/hajar-al-kaddo', 'https://pureportal.coventry.ac.uk/en/persons/mabel-alkali', 'https://pureportal.coventry.ac.uk/en/persons/khaled-al-khudir', 'https://pureportal.coventry.ac.uk/en/persons/amira-iqbal-ali-al-lawati', 'https://pureportal.coventry.ac.uk/en/persons/john-allen', 'https://pureportal.coventry.ac.uk/en/persons/laura-allen-2', 'https://pureportal.coventry.ac.uk/en/persons/ashraf-al-mamari', 'https://pureportal.coventry.ac.uk/en/persons/sayeda-mubarak-ali-mubarak-almansoori', 'https://pureportal.coventry.ac.uk/en/persons/khulood-almarzooqi', 'https://pureportal.coventry.ac.uk/en/persons/suhaib-almarzooqi', 'https://pureportal.coventry.ac.uk/en/persons/jamal-al-masrouri', 'https://pureportal.coventry.ac.uk/en/persons/bader-mohammed-saif-mohammed-almentheri', 'https://pureportal.coventry.ac.uk/en/persons/abdulla-rashed-sultan-bin-qaba-almheiri', 'https://pureportal.coventry.ac.uk/en/persons/tariq-al-montaser', 'https://pureportal.coventry.ac.uk/en/persons/eman-abdulla-abdulrahman-abdulrahim-almulla', 'https://pureportal.coventry.ac.uk/en/persons/khaled-nagi-hussin-alosaimi', 'https://pureportal.coventry.ac.uk/en/persons/m-al-qubeissi', 'https://pureportal.coventry.ac.uk/en/persons/mazin-mahmood-ahmed-al-raisi', 'https://pureportal.coventry.ac.uk/en/persons/yahya-mohammed-zahran-al-rawahi', 'https://pureportal.coventry.ac.uk/en/persons/mohammad-a-m-a-h-a-a-alrefae', 'https://pureportal.coventry.ac.uk/en/persons/raid-mohammed-saleh-al-rubaiey', 'https://pureportal.coventry.ac.uk/en/persons/loai-alsaid', 'https://pureportal.coventry.ac.uk/en/persons/farah-mahdi-yaseen-al-sallami-2', 'https://pureportal.coventry.ac.uk/en/persons/sam-al-samarraie', 'https://pureportal.coventry.ac.uk/en/persons/sian-alsop', 'https://pureportal.coventry.ac.uk/en/persons/abdulrahman-al-surmi', 'https://pureportal.coventry.ac.uk/en/persons/faisal-ali-al-yahyaee', 'https://pureportal.coventry.ac.uk/en/persons/eric-amaechi', 'https://pureportal.coventry.ac.uk/en/persons/ambi-ambituuni', 'https://pureportal.coventry.ac.uk/en/persons/misbah-ameen-khan-2', 'https://pureportal.coventry.ac.uk/en/persons/kofi-amegashie', 'https://pureportal.coventry.ac.uk/en/persons/taz-amietszajew', 'https://pureportal.coventry.ac.uk/en/persons/shohel-amin', 'https://pureportal.coventry.ac.uk/en/persons/sam-amiri', 'https://pureportal.coventry.ac.uk/en/persons/isaac-amoako', 'https://pureportal.coventry.ac.uk/en/persons/christabell-amoakoh', 'https://pureportal.coventry.ac.uk/en/persons/daniel-amund', 'https://pureportal.coventry.ac.uk/en/persons/xiaojue-an', 'https://pureportal.coventry.ac.uk/en/persons/sunil-anandatheertha', 'https://pureportal.coventry.ac.uk/en/persons/rachid-anane', 'https://pureportal.coventry.ac.uk/en/persons/colin-anderson', 'https://pureportal.coventry.ac.uk/en/persons/daniel-anderson-2', 'https://pureportal.coventry.ac.uk/en/persons/hannah-andrews', 'https://pureportal.coventry.ac.uk/en/persons/panagiotis-andrikopoulos', 'https://pureportal.coventry.ac.uk/en/persons/christopher-aniche', 'https://pureportal.coventry.ac.uk/en/persons/babatunde-anifowose', 'https://pureportal.coventry.ac.uk/en/persons/sara-anisi', 'https://pureportal.coventry.ac.uk/en/persons/nancy-annan-2', 'https://pureportal.coventry.ac.uk/en/persons/ihechiluru-fortune-chinatu-anya', 'https://pureportal.coventry.ac.uk/en/persons/evangelos-symeon-apostolopoulos', 'https://pureportal.coventry.ac.uk/en/persons/lindsey-appleyard', 'https://pureportal.coventry.ac.uk/en/persons/ana-carolina-araujo-lascano', 'https://pureportal.coventry.ac.uk/en/persons/oussama-arbouche', 'https://pureportal.coventry.ac.uk/en/persons/deji-aremu', 'https://pureportal.coventry.ac.uk/en/persons/balaji-aresh', 'https://pureportal.coventry.ac.uk/en/persons/kiev-ariza', 'https://pureportal.coventry.ac.uk/en/persons/anthony-armstrong', 'https://pureportal.coventry.ac.uk/en/persons/sylvester-arnab', 'https://pureportal.coventry.ac.uk/en/persons/sara-arouch', 'https://pureportal.coventry.ac.uk/en/persons/john-arvanitakis', 'https://pureportal.coventry.ac.uk/en/persons/ken-asare', 'https://pureportal.coventry.ac.uk/en/persons/mike-ashford', 'https://pureportal.coventry.ac.uk/en/persons/folajimi-ashiru', 'https://pureportal.coventry.ac.uk/en/persons/craig-ashley', 'https://pureportal.coventry.ac.uk/en/persons/patricia-ashman', 'https://pureportal.coventry.ac.uk/en/persons/rjaa-jawad-ashraf', 'https://pureportal.coventry.ac.uk/en/persons/farzana-aslam', 'https://pureportal.coventry.ac.uk/en/persons/hussan-aslam', 'https://pureportal.coventry.ac.uk/en/persons/muhammad-aslam-2', 'https://pureportal.coventry.ac.uk/en/persons/uzzi-aslam', 'https://pureportal.coventry.ac.uk/en/persons/mujahid-asmal-lee', 'https://pureportal.coventry.ac.uk/en/persons/richard-aspinall', 'https://pureportal.coventry.ac.uk/en/persons/taufiq-asyhari', 'https://pureportal.coventry.ac.uk/en/persons/christopher-atkin', 'https://pureportal.coventry.ac.uk/en/persons/lauren-atkins', 'https://pureportal.coventry.ac.uk/en/persons/samantha-atkins', 'https://pureportal.coventry.ac.uk/en/persons/nina-atkinson', 'https://pureportal.coventry.ac.uk/en/persons/shalika-atlas', 'https://pureportal.coventry.ac.uk/en/persons/vani-aul', 'https://pureportal.coventry.ac.uk/en/persons/randhir-auluck', 'https://pureportal.coventry.ac.uk/en/persons/kristin-aune', 'https://pureportal.coventry.ac.uk/en/persons/elicia-austin', 'https://pureportal.coventry.ac.uk/en/persons/stephen-austin', 'https://pureportal.coventry.ac.uk/en/persons/melissa-avdeeff', 'https://pureportal.coventry.ac.uk/en/persons/simone-salvatore-aveni', 'https://pureportal.coventry.ac.uk/en/persons/kenny-awuson-david', 'https://pureportal.coventry.ac.uk/en/persons/mark-axon', 'https://pureportal.coventry.ac.uk/en/persons/haseeb-ayaz', 'https://pureportal.coventry.ac.uk/en/persons/rami-ayoubi', 'https://pureportal.coventry.ac.uk/en/persons/rana-aytug', 'https://pureportal.coventry.ac.uk/en/persons/hoor-ayub', 'https://pureportal.coventry.ac.uk/en/persons/evronia-azer', 'https://pureportal.coventry.ac.uk/en/persons/farzaneh-azizsafaei', 'https://pureportal.coventry.ac.uk/en/persons/maryam-azizsafaei', 'https://pureportal.coventry.ac.uk/en/persons/zaneta-azuma', 'https://pureportal.coventry.ac.uk/en/persons/gbolahan-olusegun-babalola', 'https://pureportal.coventry.ac.uk/en/persons/abiola-babatunde', 'https://pureportal.coventry.ac.uk/en/persons/rachel-backhouse', 'https://pureportal.coventry.ac.uk/en/persons/simon-baddeley', 'https://pureportal.coventry.ac.uk/en/persons/echekwumemchukwu-emmanuel-badifu', 'https://pureportal.coventry.ac.uk/en/persons/meghdad-bagheri', 'https://pureportal.coventry.ac.uk/en/persons/nim-bahia', 'https://pureportal.coventry.ac.uk/en/persons/witold-bahr', 'https://pureportal.coventry.ac.uk/en/persons/mingwen-bai', 'https://pureportal.coventry.ac.uk/en/persons/anthony-bailey', 'https://pureportal.coventry.ac.uk/en/persons/elizabeth-bailey', 'https://pureportal.coventry.ac.uk/en/persons/katrin-bain', 'https://pureportal.coventry.ac.uk/en/persons/narinder-bains', 'https://pureportal.coventry.ac.uk/en/persons/adam-baird', 'https://pureportal.coventry.ac.uk/en/persons/lyndsey-baird', 'https://pureportal.coventry.ac.uk/en/persons/stuart-baird', 'https://pureportal.coventry.ac.uk/en/persons/katie-baker', 'https://pureportal.coventry.ac.uk/en/persons/ali-alperen-bakir', 'https://pureportal.coventry.ac.uk/en/persons/senthooran-balasubramaniam', 'https://pureportal.coventry.ac.uk/en/persons/ken-baldwin', 'https://pureportal.coventry.ac.uk/en/persons/laurence-baldwin', 'https://pureportal.coventry.ac.uk/en/persons/lindsay-balfour', 'https://pureportal.coventry.ac.uk/en/persons/jane-ball', 'https://pureportal.coventry.ac.uk/en/persons/kirstie-ball-2', 'https://pureportal.coventry.ac.uk/en/persons/brandon-ballard', 'https://pureportal.coventry.ac.uk/en/persons/daniel-babalola-bammeke', 'https://pureportal.coventry.ac.uk/en/persons/mahsa-baniasadi-2', 'https://pureportal.coventry.ac.uk/en/persons/shadi-ismail-mohammad-bani-hani', 'https://pureportal.coventry.ac.uk/en/persons/frano-barbic', 'https://pureportal.coventry.ac.uk/en/persons/vicky-barclay-2', 'https://pureportal.coventry.ac.uk/en/persons/victoria-barker-2', 'https://pureportal.coventry.ac.uk/en/persons/jacoba-magdelena-barnard', 'https://pureportal.coventry.ac.uk/en/persons/jennifer-barnes-hill', 'https://pureportal.coventry.ac.uk/en/persons/kate-barnett-richards-2', 'https://pureportal.coventry.ac.uk/en/persons/hazel-barrett', 'https://pureportal.coventry.ac.uk/en/persons/lorraine-barron', 'https://pureportal.coventry.ac.uk/en/persons/craig-bartle', 'https://pureportal.coventry.ac.uk/en/persons/james-bartlett', 'https://pureportal.coventry.ac.uk/en/persons/bahar-baser-ozturk', 'https://pureportal.coventry.ac.uk/en/persons/mahdi-bashiri', 'https://pureportal.coventry.ac.uk/en/persons/simran-basi', 'https://pureportal.coventry.ac.uk/en/persons/muhammad-lahandi-baskoro', 'https://pureportal.coventry.ac.uk/en/persons/tom-bason', 'https://pureportal.coventry.ac.uk/en/persons/tina-bass', 'https://pureportal.coventry.ac.uk/en/persons/enobong-bassey', 'https://pureportal.coventry.ac.uk/en/persons/christophe-bastien', 'https://pureportal.coventry.ac.uk/en/persons/richard-bateman', 'https://pureportal.coventry.ac.uk/en/persons/ian-bates', 'https://pureportal.coventry.ac.uk/en/persons/felix-batsch', 'https://pureportal.coventry.ac.uk/en/persons/jhonny-ismael-bautista-quispe', 'https://pureportal.coventry.ac.uk/en/persons/balki-begumhan-bayhan', 'https://pureportal.coventry.ac.uk/en/persons/imogen-baylis', 'https://pureportal.coventry.ac.uk/en/persons/lisa-bayliss-pratt', 'https://pureportal.coventry.ac.uk/en/persons/amr-bayoumy', 'https://pureportal.coventry.ac.uk/en/persons/marcus-beale', 'https://pureportal.coventry.ac.uk/en/persons/david-beauchamp', 'https://pureportal.coventry.ac.uk/en/persons/jayne-beaufoy-2', 'https://pureportal.coventry.ac.uk/en/persons/martin-beck', 'https://pureportal.coventry.ac.uk/en/persons/rebecca-beech-3', 'https://pureportal.coventry.ac.uk/en/persons/nik-beer', 'https://pureportal.coventry.ac.uk/en/persons/ty-beetseh', 'https://pureportal.coventry.ac.uk/en/persons/jason-begley', 'https://pureportal.coventry.ac.uk/en/persons/david-bek', 'https://pureportal.coventry.ac.uk/en/persons/fatima-zohra-belalem', 'https://pureportal.coventry.ac.uk/en/persons/renato-belindro-belindro', 'https://pureportal.coventry.ac.uk/en/persons/lauren-bell', 'https://pureportal.coventry.ac.uk/en/persons/jaliyyah-bello', 'https://pureportal.coventry.ac.uk/en/persons/macarena-beltran', 'https://pureportal.coventry.ac.uk/en/persons/elizabeth-benjamin', 'https://pureportal.coventry.ac.uk/en/persons/stephen-benjamin']\n"
          ],
          "name": "stdout"
        }
      ]
    },
    {
      "cell_type": "code",
      "metadata": {
        "id": "2Im4vEJ4DJg3"
      },
      "source": [
        "Profile_links= profile_links + more_profiles"
      ],
      "execution_count": null,
      "outputs": []
    },
    {
      "cell_type": "code",
      "metadata": {
        "colab": {
          "base_uri": "https://localhost:8080/"
        },
        "id": "rcX8d6gBDgsI",
        "outputId": "ca684914-44e7-4e8b-d7c1-6b6b3b7360a4"
      },
      "source": [
        "print(Profile_links)"
      ],
      "execution_count": null,
      "outputs": [
        {
          "output_type": "stream",
          "text": [
            "['https://pureportal.coventry.ac.uk/en/persons/mohammadreza-abbassi-monjezi', 'https://pureportal.coventry.ac.uk/en/persons/mohsen-abbaszadeh', 'https://pureportal.coventry.ac.uk/en/persons/meryem-abdelhafid', 'https://pureportal.coventry.ac.uk/en/persons/mohamed-abdelshafy', 'https://pureportal.coventry.ac.uk/en/persons/ali-mohamed-abdi', 'https://pureportal.coventry.ac.uk/en/persons/mohamad-nazri-abd-karim', 'https://pureportal.coventry.ac.uk/en/persons/mohammed-abdulla', 'https://pureportal.coventry.ac.uk/en/persons/mohammed-abdullahi', 'https://pureportal.coventry.ac.uk/en/persons/jackie-abell', 'https://pureportal.coventry.ac.uk/en/persons/rebecca-aberton', 'https://pureportal.coventry.ac.uk/en/persons/essam-abo-serie-abdelfatah', 'https://pureportal.coventry.ac.uk/en/persons/btissam-aboubichr', 'https://pureportal.coventry.ac.uk/en/persons/omar-abou-hamdan', 'https://pureportal.coventry.ac.uk/en/persons/siham-aboujanah', 'https://pureportal.coventry.ac.uk/en/persons/nacey-abraham', 'https://pureportal.coventry.ac.uk/en/persons/jay-abrahams', 'https://pureportal.coventry.ac.uk/en/persons/ahmad-abras', 'https://pureportal.coventry.ac.uk/en/persons/habib-gajam-abubakar', 'https://pureportal.coventry.ac.uk/en/persons/alim-abubakre', 'https://pureportal.coventry.ac.uk/en/persons/adam-abukari', 'https://pureportal.coventry.ac.uk/en/persons/anees-abu-monshar', 'https://pureportal.coventry.ac.uk/en/persons/mohsen-abumuamar', 'https://pureportal.coventry.ac.uk/en/persons/pius-maduakonam-achuama', 'https://pureportal.coventry.ac.uk/en/persons/joseph-esuman-acquaah', 'https://pureportal.coventry.ac.uk/en/persons/elijah-acquah-andoh', 'https://pureportal.coventry.ac.uk/en/persons/gbenga-adamolekun', 'https://pureportal.coventry.ac.uk/en/persons/victor-aderogba-adebiyi', 'https://pureportal.coventry.ac.uk/en/persons/arinola-adefila', 'https://pureportal.coventry.ac.uk/en/persons/abiodun-adegbile', 'https://pureportal.coventry.ac.uk/en/persons/amanda-r-a-adegboye', 'https://pureportal.coventry.ac.uk/en/persons/janneke-adema', 'https://pureportal.coventry.ac.uk/en/persons/mohammed-aderemi-adepoju', 'https://pureportal.coventry.ac.uk/en/persons/kamilah-adetunji', 'https://pureportal.coventry.ac.uk/en/persons/thomas-kayode-adeyemi', 'https://pureportal.coventry.ac.uk/en/persons/mahalaxmi-adhikari-parajuli', 'https://pureportal.coventry.ac.uk/en/persons/mahnoor-adil', 'https://pureportal.coventry.ac.uk/en/persons/frank-adom', 'https://pureportal.coventry.ac.uk/en/persons/olivia-agar', 'https://pureportal.coventry.ac.uk/en/persons/dami-agbato', 'https://pureportal.coventry.ac.uk/en/persons/daniel-aghanya', 'https://pureportal.coventry.ac.uk/en/persons/rishav-agrawal', 'https://pureportal.coventry.ac.uk/en/persons/ismeil-ahamed', 'https://pureportal.coventry.ac.uk/en/persons/bilal-ahmad', 'https://pureportal.coventry.ac.uk/en/persons/farhan-ahmad', 'https://pureportal.coventry.ac.uk/en/persons/mahmood-abdulsattar-ahmad-ahmad', 'https://pureportal.coventry.ac.uk/en/persons/zahir-ahmad', 'https://pureportal.coventry.ac.uk/en/persons/abdullahi-ahmed', 'https://pureportal.coventry.ac.uk/en/persons/ahmed-hafiz', 'https://pureportal.coventry.ac.uk/en/persons/hany-ahmed', 'https://pureportal.coventry.ac.uk/en/persons/mohammed-lawal-ahmed', 'https://pureportal.coventry.ac.uk/en/persons/sarfraz-ahmed', 'https://pureportal.coventry.ac.uk/en/persons/tanveer-ahmed', 'https://pureportal.coventry.ac.uk/en/persons/tanvir-ahmed', 'https://pureportal.coventry.ac.uk/en/persons/zahoor-ahmed', 'https://pureportal.coventry.ac.uk/en/persons/nurudeen-aigoro', 'https://pureportal.coventry.ac.uk/en/persons/olubunmi-ajala', 'https://pureportal.coventry.ac.uk/en/persons/michael-ajao-olarinoye', 'https://pureportal.coventry.ac.uk/en/persons/toluwanimi-akaehomen', 'https://pureportal.coventry.ac.uk/en/persons/emre-akgun', 'https://pureportal.coventry.ac.uk/en/persons/sanam-akhavannasab', 'https://pureportal.coventry.ac.uk/en/persons/christiana-olajumoke-akintoye', 'https://pureportal.coventry.ac.uk/en/persons/josiah-akintunde-2', 'https://pureportal.coventry.ac.uk/en/persons/sule-akkoyunlu', 'https://pureportal.coventry.ac.uk/en/persons/daniel-akpan', 'https://pureportal.coventry.ac.uk/en/persons/tega-akpobi', 'https://pureportal.coventry.ac.uk/en/persons/michail-akritidis', 'https://pureportal.coventry.ac.uk/en/persons/shahzad-alam', 'https://pureportal.coventry.ac.uk/en/persons/lara-alamad', 'https://pureportal.coventry.ac.uk/en/persons/saif-faris-ahmad-alatrash', 'https://pureportal.coventry.ac.uk/en/persons/nahla-juma-khamis-al-balushi', 'https://pureportal.coventry.ac.uk/en/persons/ammar-al-bazi', 'https://pureportal.coventry.ac.uk/en/persons/amna-mohammad-hassan-ibrahim-alblooshi', 'https://pureportal.coventry.ac.uk/en/persons/reda-al-bodour', 'https://pureportal.coventry.ac.uk/en/persons/robert-aldham', 'https://pureportal.coventry.ac.uk/en/persons/tim-aldsworth', 'https://pureportal.coventry.ac.uk/en/persons/svetlana-aleksandrova', 'https://pureportal.coventry.ac.uk/en/persons/haitham-alfannah', 'https://pureportal.coventry.ac.uk/en/persons/kholoud-mashour-s-al-garni', 'https://pureportal.coventry.ac.uk/en/persons/salem-alhababsah', 'https://pureportal.coventry.ac.uk/en/persons/alaa-alhaj-ismail', 'https://pureportal.coventry.ac.uk/en/persons/hesham-ali', 'https://pureportal.coventry.ac.uk/en/persons/mustafa-ali', 'https://pureportal.coventry.ac.uk/en/persons/rashid-ali', 'https://pureportal.coventry.ac.uk/en/persons/reza-ali', 'https://pureportal.coventry.ac.uk/en/persons/taher-mabkhut-ali-al-junaibi', 'https://pureportal.coventry.ac.uk/en/persons/hajar-al-kaddo', 'https://pureportal.coventry.ac.uk/en/persons/mabel-alkali', 'https://pureportal.coventry.ac.uk/en/persons/khaled-al-khudir', 'https://pureportal.coventry.ac.uk/en/persons/amira-iqbal-ali-al-lawati', 'https://pureportal.coventry.ac.uk/en/persons/john-allen', 'https://pureportal.coventry.ac.uk/en/persons/laura-allen-2', 'https://pureportal.coventry.ac.uk/en/persons/ashraf-al-mamari', 'https://pureportal.coventry.ac.uk/en/persons/sayeda-mubarak-ali-mubarak-almansoori', 'https://pureportal.coventry.ac.uk/en/persons/khulood-almarzooqi', 'https://pureportal.coventry.ac.uk/en/persons/suhaib-almarzooqi', 'https://pureportal.coventry.ac.uk/en/persons/jamal-al-masrouri', 'https://pureportal.coventry.ac.uk/en/persons/bader-mohammed-saif-mohammed-almentheri', 'https://pureportal.coventry.ac.uk/en/persons/abdulla-rashed-sultan-bin-qaba-almheiri', 'https://pureportal.coventry.ac.uk/en/persons/tariq-al-montaser', 'https://pureportal.coventry.ac.uk/en/persons/eman-abdulla-abdulrahman-abdulrahim-almulla', 'https://pureportal.coventry.ac.uk/en/persons/khaled-nagi-hussin-alosaimi', 'https://pureportal.coventry.ac.uk/en/persons/m-al-qubeissi', 'https://pureportal.coventry.ac.uk/en/persons/mazin-mahmood-ahmed-al-raisi', 'https://pureportal.coventry.ac.uk/en/persons/yahya-mohammed-zahran-al-rawahi', 'https://pureportal.coventry.ac.uk/en/persons/mohammad-a-m-a-h-a-a-alrefae', 'https://pureportal.coventry.ac.uk/en/persons/raid-mohammed-saleh-al-rubaiey', 'https://pureportal.coventry.ac.uk/en/persons/loai-alsaid', 'https://pureportal.coventry.ac.uk/en/persons/farah-mahdi-yaseen-al-sallami-2', 'https://pureportal.coventry.ac.uk/en/persons/sam-al-samarraie', 'https://pureportal.coventry.ac.uk/en/persons/sian-alsop', 'https://pureportal.coventry.ac.uk/en/persons/abdulrahman-al-surmi', 'https://pureportal.coventry.ac.uk/en/persons/faisal-ali-al-yahyaee', 'https://pureportal.coventry.ac.uk/en/persons/eric-amaechi', 'https://pureportal.coventry.ac.uk/en/persons/ambi-ambituuni', 'https://pureportal.coventry.ac.uk/en/persons/misbah-ameen-khan-2', 'https://pureportal.coventry.ac.uk/en/persons/kofi-amegashie', 'https://pureportal.coventry.ac.uk/en/persons/taz-amietszajew', 'https://pureportal.coventry.ac.uk/en/persons/shohel-amin', 'https://pureportal.coventry.ac.uk/en/persons/sam-amiri', 'https://pureportal.coventry.ac.uk/en/persons/isaac-amoako', 'https://pureportal.coventry.ac.uk/en/persons/christabell-amoakoh', 'https://pureportal.coventry.ac.uk/en/persons/daniel-amund', 'https://pureportal.coventry.ac.uk/en/persons/xiaojue-an', 'https://pureportal.coventry.ac.uk/en/persons/sunil-anandatheertha', 'https://pureportal.coventry.ac.uk/en/persons/rachid-anane', 'https://pureportal.coventry.ac.uk/en/persons/colin-anderson', 'https://pureportal.coventry.ac.uk/en/persons/daniel-anderson-2', 'https://pureportal.coventry.ac.uk/en/persons/hannah-andrews', 'https://pureportal.coventry.ac.uk/en/persons/panagiotis-andrikopoulos', 'https://pureportal.coventry.ac.uk/en/persons/christopher-aniche', 'https://pureportal.coventry.ac.uk/en/persons/babatunde-anifowose', 'https://pureportal.coventry.ac.uk/en/persons/sara-anisi', 'https://pureportal.coventry.ac.uk/en/persons/nancy-annan-2', 'https://pureportal.coventry.ac.uk/en/persons/ihechiluru-fortune-chinatu-anya', 'https://pureportal.coventry.ac.uk/en/persons/evangelos-symeon-apostolopoulos', 'https://pureportal.coventry.ac.uk/en/persons/lindsey-appleyard', 'https://pureportal.coventry.ac.uk/en/persons/ana-carolina-araujo-lascano', 'https://pureportal.coventry.ac.uk/en/persons/oussama-arbouche', 'https://pureportal.coventry.ac.uk/en/persons/deji-aremu', 'https://pureportal.coventry.ac.uk/en/persons/balaji-aresh', 'https://pureportal.coventry.ac.uk/en/persons/kiev-ariza', 'https://pureportal.coventry.ac.uk/en/persons/anthony-armstrong', 'https://pureportal.coventry.ac.uk/en/persons/sylvester-arnab', 'https://pureportal.coventry.ac.uk/en/persons/sara-arouch', 'https://pureportal.coventry.ac.uk/en/persons/john-arvanitakis', 'https://pureportal.coventry.ac.uk/en/persons/ken-asare', 'https://pureportal.coventry.ac.uk/en/persons/mike-ashford', 'https://pureportal.coventry.ac.uk/en/persons/folajimi-ashiru', 'https://pureportal.coventry.ac.uk/en/persons/craig-ashley', 'https://pureportal.coventry.ac.uk/en/persons/patricia-ashman', 'https://pureportal.coventry.ac.uk/en/persons/rjaa-jawad-ashraf', 'https://pureportal.coventry.ac.uk/en/persons/farzana-aslam', 'https://pureportal.coventry.ac.uk/en/persons/hussan-aslam', 'https://pureportal.coventry.ac.uk/en/persons/muhammad-aslam-2', 'https://pureportal.coventry.ac.uk/en/persons/uzzi-aslam', 'https://pureportal.coventry.ac.uk/en/persons/mujahid-asmal-lee', 'https://pureportal.coventry.ac.uk/en/persons/richard-aspinall', 'https://pureportal.coventry.ac.uk/en/persons/taufiq-asyhari', 'https://pureportal.coventry.ac.uk/en/persons/christopher-atkin', 'https://pureportal.coventry.ac.uk/en/persons/lauren-atkins', 'https://pureportal.coventry.ac.uk/en/persons/samantha-atkins', 'https://pureportal.coventry.ac.uk/en/persons/nina-atkinson', 'https://pureportal.coventry.ac.uk/en/persons/shalika-atlas', 'https://pureportal.coventry.ac.uk/en/persons/vani-aul', 'https://pureportal.coventry.ac.uk/en/persons/randhir-auluck', 'https://pureportal.coventry.ac.uk/en/persons/kristin-aune', 'https://pureportal.coventry.ac.uk/en/persons/elicia-austin', 'https://pureportal.coventry.ac.uk/en/persons/stephen-austin', 'https://pureportal.coventry.ac.uk/en/persons/melissa-avdeeff', 'https://pureportal.coventry.ac.uk/en/persons/simone-salvatore-aveni', 'https://pureportal.coventry.ac.uk/en/persons/kenny-awuson-david', 'https://pureportal.coventry.ac.uk/en/persons/mark-axon', 'https://pureportal.coventry.ac.uk/en/persons/haseeb-ayaz', 'https://pureportal.coventry.ac.uk/en/persons/rami-ayoubi', 'https://pureportal.coventry.ac.uk/en/persons/rana-aytug', 'https://pureportal.coventry.ac.uk/en/persons/hoor-ayub', 'https://pureportal.coventry.ac.uk/en/persons/evronia-azer', 'https://pureportal.coventry.ac.uk/en/persons/farzaneh-azizsafaei', 'https://pureportal.coventry.ac.uk/en/persons/maryam-azizsafaei', 'https://pureportal.coventry.ac.uk/en/persons/zaneta-azuma', 'https://pureportal.coventry.ac.uk/en/persons/gbolahan-olusegun-babalola', 'https://pureportal.coventry.ac.uk/en/persons/abiola-babatunde', 'https://pureportal.coventry.ac.uk/en/persons/rachel-backhouse', 'https://pureportal.coventry.ac.uk/en/persons/simon-baddeley', 'https://pureportal.coventry.ac.uk/en/persons/echekwumemchukwu-emmanuel-badifu', 'https://pureportal.coventry.ac.uk/en/persons/meghdad-bagheri', 'https://pureportal.coventry.ac.uk/en/persons/nim-bahia', 'https://pureportal.coventry.ac.uk/en/persons/witold-bahr', 'https://pureportal.coventry.ac.uk/en/persons/mingwen-bai', 'https://pureportal.coventry.ac.uk/en/persons/anthony-bailey', 'https://pureportal.coventry.ac.uk/en/persons/elizabeth-bailey', 'https://pureportal.coventry.ac.uk/en/persons/katrin-bain', 'https://pureportal.coventry.ac.uk/en/persons/narinder-bains', 'https://pureportal.coventry.ac.uk/en/persons/adam-baird', 'https://pureportal.coventry.ac.uk/en/persons/lyndsey-baird', 'https://pureportal.coventry.ac.uk/en/persons/stuart-baird', 'https://pureportal.coventry.ac.uk/en/persons/katie-baker', 'https://pureportal.coventry.ac.uk/en/persons/ali-alperen-bakir', 'https://pureportal.coventry.ac.uk/en/persons/senthooran-balasubramaniam', 'https://pureportal.coventry.ac.uk/en/persons/ken-baldwin', 'https://pureportal.coventry.ac.uk/en/persons/laurence-baldwin', 'https://pureportal.coventry.ac.uk/en/persons/lindsay-balfour', 'https://pureportal.coventry.ac.uk/en/persons/jane-ball', 'https://pureportal.coventry.ac.uk/en/persons/kirstie-ball-2', 'https://pureportal.coventry.ac.uk/en/persons/brandon-ballard', 'https://pureportal.coventry.ac.uk/en/persons/daniel-babalola-bammeke', 'https://pureportal.coventry.ac.uk/en/persons/mahsa-baniasadi-2', 'https://pureportal.coventry.ac.uk/en/persons/shadi-ismail-mohammad-bani-hani', 'https://pureportal.coventry.ac.uk/en/persons/frano-barbic', 'https://pureportal.coventry.ac.uk/en/persons/vicky-barclay-2', 'https://pureportal.coventry.ac.uk/en/persons/victoria-barker-2', 'https://pureportal.coventry.ac.uk/en/persons/jacoba-magdelena-barnard', 'https://pureportal.coventry.ac.uk/en/persons/jennifer-barnes-hill', 'https://pureportal.coventry.ac.uk/en/persons/kate-barnett-richards-2', 'https://pureportal.coventry.ac.uk/en/persons/hazel-barrett', 'https://pureportal.coventry.ac.uk/en/persons/lorraine-barron', 'https://pureportal.coventry.ac.uk/en/persons/craig-bartle', 'https://pureportal.coventry.ac.uk/en/persons/james-bartlett', 'https://pureportal.coventry.ac.uk/en/persons/bahar-baser-ozturk', 'https://pureportal.coventry.ac.uk/en/persons/mahdi-bashiri', 'https://pureportal.coventry.ac.uk/en/persons/simran-basi', 'https://pureportal.coventry.ac.uk/en/persons/muhammad-lahandi-baskoro', 'https://pureportal.coventry.ac.uk/en/persons/tom-bason', 'https://pureportal.coventry.ac.uk/en/persons/tina-bass', 'https://pureportal.coventry.ac.uk/en/persons/enobong-bassey', 'https://pureportal.coventry.ac.uk/en/persons/christophe-bastien', 'https://pureportal.coventry.ac.uk/en/persons/richard-bateman', 'https://pureportal.coventry.ac.uk/en/persons/ian-bates', 'https://pureportal.coventry.ac.uk/en/persons/felix-batsch', 'https://pureportal.coventry.ac.uk/en/persons/jhonny-ismael-bautista-quispe', 'https://pureportal.coventry.ac.uk/en/persons/balki-begumhan-bayhan', 'https://pureportal.coventry.ac.uk/en/persons/imogen-baylis', 'https://pureportal.coventry.ac.uk/en/persons/lisa-bayliss-pratt', 'https://pureportal.coventry.ac.uk/en/persons/amr-bayoumy', 'https://pureportal.coventry.ac.uk/en/persons/marcus-beale', 'https://pureportal.coventry.ac.uk/en/persons/david-beauchamp', 'https://pureportal.coventry.ac.uk/en/persons/jayne-beaufoy-2', 'https://pureportal.coventry.ac.uk/en/persons/martin-beck', 'https://pureportal.coventry.ac.uk/en/persons/rebecca-beech-3', 'https://pureportal.coventry.ac.uk/en/persons/nik-beer', 'https://pureportal.coventry.ac.uk/en/persons/ty-beetseh', 'https://pureportal.coventry.ac.uk/en/persons/jason-begley', 'https://pureportal.coventry.ac.uk/en/persons/david-bek', 'https://pureportal.coventry.ac.uk/en/persons/fatima-zohra-belalem', 'https://pureportal.coventry.ac.uk/en/persons/renato-belindro-belindro', 'https://pureportal.coventry.ac.uk/en/persons/lauren-bell', 'https://pureportal.coventry.ac.uk/en/persons/jaliyyah-bello', 'https://pureportal.coventry.ac.uk/en/persons/macarena-beltran', 'https://pureportal.coventry.ac.uk/en/persons/elizabeth-benjamin', 'https://pureportal.coventry.ac.uk/en/persons/stephen-benjamin']\n"
          ],
          "name": "stdout"
        }
      ]
    },
    {
      "cell_type": "code",
      "metadata": {
        "id": "TrPbY_QE97lU"
      },
      "source": [
        "#Then for each of the 250 profiles extracted, the crawler searches for links to their publication for those who have published a paper\n",
        "#and stores it in an empty list called Publication\n",
        "\n",
        "Publication=[]\n",
        "for url in Profile_links:\n",
        "    \n",
        "    publication_page = requests.get(url)\n",
        "    html = publication_page.text\n",
        "    soup = BeautifulSoup(html, \"html.parser\")\n",
        "    #time.sleep(random.randint(1,10))\n",
        "    for item in soup.find_all('h3', class_ ='title'): \n",
        "        path= item.find('a')\n",
        "        pub_url= path['href']\n",
        "        if 'https://pureportal.coventry.ac.uk/en/publications/' not in pub_url:\n",
        "          continue\n",
        "       \n",
        "        Publication.append(pub_url)\n",
        "\n",
        "\n"
      ],
      "execution_count": null,
      "outputs": []
    },
    {
      "cell_type": "code",
      "metadata": {
        "colab": {
          "base_uri": "https://localhost:8080/"
        },
        "id": "LCLDpw73JTA1",
        "outputId": "a40e4270-271a-4a9a-d1f4-9bb72e28a779"
      },
      "source": [
        "len(Publication)"
      ],
      "execution_count": null,
      "outputs": [
        {
          "output_type": "execute_result",
          "data": {
            "text/plain": [
              "536"
            ]
          },
          "metadata": {
            "tags": []
          },
          "execution_count": 11
        }
      ]
    },
    {
      "cell_type": "code",
      "metadata": {
        "id": "Why-nF_DYmvj"
      },
      "source": [
        "# From the list of publication, we the Extract the title and author, of the paper for each of the staff's publication and store in a list.\n",
        "\n",
        "Publication_content= []\n",
        "Authors_content= []\n",
        "\n",
        "for cont in Publication:\n",
        "    content = requests.get(cont)\n",
        "    html = content.text\n",
        "    soup1 = BeautifulSoup(html, \"html.parser\")\n",
        "    #time.sleep(random.randint(1,10))\n",
        "\n",
        "#Scraping title of the publication\n",
        "    for i in soup1.findAll('div', class_= 'row'):\n",
        "       div_title= i.findChild('div', class_= 'rendering')\n",
        "       title = div_title.find('h1')\n",
        "       Publication_content.append(title.text)\n",
        "\n",
        "      \n",
        "\n",
        "#Scraping Authors of the publication\n",
        "    for i in soup1.findAll('p', class_= 'relations persons'):\n",
        "        author= i.findChild('span').text\n",
        "        Authors_content.append(author)\n",
        "            \n",
        "\n",
        "\n"
      ],
      "execution_count": null,
      "outputs": []
    },
    {
      "cell_type": "code",
      "metadata": {
        "colab": {
          "base_uri": "https://localhost:8080/"
        },
        "id": "iAcasW8XuukW",
        "outputId": "ee535903-7fae-4cf7-f1b2-536be8b83ef1"
      },
      "source": [
        "len(Authors_content)"
      ],
      "execution_count": null,
      "outputs": [
        {
          "output_type": "execute_result",
          "data": {
            "text/plain": [
              "536"
            ]
          },
          "metadata": {
            "tags": []
          },
          "execution_count": 13
        }
      ]
    },
    {
      "cell_type": "code",
      "metadata": {
        "id": "ax818FGUR2g8",
        "colab": {
          "base_uri": "https://localhost:8080/"
        },
        "outputId": "ee41fea0-daa1-4176-bf10-11e75374fdbd"
      },
      "source": [
        "len(Publication_content)"
      ],
      "execution_count": null,
      "outputs": [
        {
          "output_type": "execute_result",
          "data": {
            "text/plain": [
              "536"
            ]
          },
          "metadata": {
            "tags": []
          },
          "execution_count": 14
        }
      ]
    },
    {
      "cell_type": "code",
      "metadata": {
        "id": "b2-9bvkc5bkQ"
      },
      "source": [
        "#Storing all extracted contents in a Dataframe\n",
        "\n",
        "import pandas as pd\n",
        "data= pd.DataFrame({'Title':Publication_content, 'Author':Authors_content, 'Paperlink':Publication })"
      ],
      "execution_count": null,
      "outputs": []
    },
    {
      "cell_type": "code",
      "metadata": {
        "id": "MmvFH3iTNuvZ"
      },
      "source": [
        "#Add new column id for identification. \n",
        "\n",
        "data['id'] = [i for i in range(1, len(data.values)+1)]"
      ],
      "execution_count": null,
      "outputs": []
    },
    {
      "cell_type": "code",
      "metadata": {
        "id": "G_bSIZQVOZCK"
      },
      "source": [
        "#Writing dataframe into a csv file\n",
        "data.to_csv('data.csv')\n",
        "\n",
        "#Read csv file to the notebook\n",
        "data= pd.read_csv('data.csv')\n"
      ],
      "execution_count": null,
      "outputs": []
    },
    {
      "cell_type": "code",
      "metadata": {
        "colab": {
          "base_uri": "https://localhost:8080/",
          "height": 359
        },
        "id": "U9g5oRNzPPa1",
        "outputId": "3c2dbd59-e4d4-4923-956e-16cb5d9a82e8"
      },
      "source": [
        "data.head(10)"
      ],
      "execution_count": null,
      "outputs": [
        {
          "output_type": "execute_result",
          "data": {
            "text/html": [
              "<div>\n",
              "<style scoped>\n",
              "    .dataframe tbody tr th:only-of-type {\n",
              "        vertical-align: middle;\n",
              "    }\n",
              "\n",
              "    .dataframe tbody tr th {\n",
              "        vertical-align: top;\n",
              "    }\n",
              "\n",
              "    .dataframe thead th {\n",
              "        text-align: right;\n",
              "    }\n",
              "</style>\n",
              "<table border=\"1\" class=\"dataframe\">\n",
              "  <thead>\n",
              "    <tr style=\"text-align: right;\">\n",
              "      <th></th>\n",
              "      <th>Unnamed: 0</th>\n",
              "      <th>Title</th>\n",
              "      <th>Author</th>\n",
              "      <th>Paperlink</th>\n",
              "      <th>id</th>\n",
              "      <th>text</th>\n",
              "    </tr>\n",
              "  </thead>\n",
              "  <tbody>\n",
              "    <tr>\n",
              "      <th>0</th>\n",
              "      <td>0</td>\n",
              "      <td>enhance co2 solubility aquifer use downhole co...</td>\n",
              "      <td>mohsen abbaszadeh</td>\n",
              "      <td>https://pureportal.coventry.ac.uk/en/publicati...</td>\n",
              "      <td>1</td>\n",
              "      <td>mohsen abbaszadeh  enhance co2 solubility aqui...</td>\n",
              "    </tr>\n",
              "    <tr>\n",
              "      <th>1</th>\n",
              "      <td>1</td>\n",
              "      <td>investigate impact temperature relative permea...</td>\n",
              "      <td>mohsen abbaszadeh</td>\n",
              "      <td>https://pureportal.coventry.ac.uk/en/publicati...</td>\n",
              "      <td>2</td>\n",
              "      <td>mohsen abbaszadeh  investigate impact temperat...</td>\n",
              "    </tr>\n",
              "    <tr>\n",
              "      <th>2</th>\n",
              "      <td>2</td>\n",
              "      <td>influence temperature wettability alteration c...</td>\n",
              "      <td>mohsen abbaszadeh</td>\n",
              "      <td>https://pureportal.coventry.ac.uk/en/publicati...</td>\n",
              "      <td>3</td>\n",
              "      <td>mohsen abbaszadeh  influence temperature wetta...</td>\n",
              "    </tr>\n",
              "    <tr>\n",
              "      <th>3</th>\n",
              "      <td>3</td>\n",
              "      <td>accelerate co2 solubility brine low temperatur...</td>\n",
              "      <td>mohsen abbaszadeh</td>\n",
              "      <td>https://pureportal.coventry.ac.uk/en/publicati...</td>\n",
              "      <td>4</td>\n",
              "      <td>mohsen abbaszadeh  accelerate co2 solubility b...</td>\n",
              "    </tr>\n",
              "    <tr>\n",
              "      <th>4</th>\n",
              "      <td>4</td>\n",
              "      <td>investigate impact relative permeability curve...</td>\n",
              "      <td>mohsen abbaszadeh</td>\n",
              "      <td>https://pureportal.coventry.ac.uk/en/publicati...</td>\n",
              "      <td>5</td>\n",
              "      <td>mohsen abbaszadeh  investigate impact relative...</td>\n",
              "    </tr>\n",
              "    <tr>\n",
              "      <th>5</th>\n",
              "      <td>5</td>\n",
              "      <td>crosslayer multipath multichannel mac protocol...</td>\n",
              "      <td>mohamed abdelshafy</td>\n",
              "      <td>https://pureportal.coventry.ac.uk/en/publicati...</td>\n",
              "      <td>6</td>\n",
              "      <td>mohamed abdelshafy  crosslayer multipath multi...</td>\n",
              "    </tr>\n",
              "    <tr>\n",
              "      <th>6</th>\n",
              "      <td>6</td>\n",
              "      <td>performance evaluation receiver direct transmi...</td>\n",
              "      <td>mohamed abdelshafy</td>\n",
              "      <td>https://pureportal.coventry.ac.uk/en/publicati...</td>\n",
              "      <td>7</td>\n",
              "      <td>mohamed abdelshafy  performance evaluation rec...</td>\n",
              "    </tr>\n",
              "    <tr>\n",
              "      <th>7</th>\n",
              "      <td>7</td>\n",
              "      <td>reliable multipath multichannel route migratio...</td>\n",
              "      <td>mohamed abdelshafy</td>\n",
              "      <td>https://pureportal.coventry.ac.uk/en/publicati...</td>\n",
              "      <td>8</td>\n",
              "      <td>mohamed abdelshafy  reliable multipath multich...</td>\n",
              "    </tr>\n",
              "    <tr>\n",
              "      <th>8</th>\n",
              "      <td>8</td>\n",
              "      <td>resist blackhole attack manet</td>\n",
              "      <td>mohamed abdelshafy</td>\n",
              "      <td>https://pureportal.coventry.ac.uk/en/publicati...</td>\n",
              "      <td>9</td>\n",
              "      <td>mohamed abdelshafy  resist blackhole attack ma...</td>\n",
              "    </tr>\n",
              "    <tr>\n",
              "      <th>9</th>\n",
              "      <td>9</td>\n",
              "      <td>dynamic source rout attack</td>\n",
              "      <td>mohamed abdelshafy</td>\n",
              "      <td>https://pureportal.coventry.ac.uk/en/publicati...</td>\n",
              "      <td>10</td>\n",
              "      <td>mohamed abdelshafy  dynamic source rout attack</td>\n",
              "    </tr>\n",
              "  </tbody>\n",
              "</table>\n",
              "</div>"
            ],
            "text/plain": [
              "   Unnamed: 0  ...                                               text\n",
              "0           0  ...  mohsen abbaszadeh  enhance co2 solubility aqui...\n",
              "1           1  ...  mohsen abbaszadeh  investigate impact temperat...\n",
              "2           2  ...  mohsen abbaszadeh  influence temperature wetta...\n",
              "3           3  ...  mohsen abbaszadeh  accelerate co2 solubility b...\n",
              "4           4  ...  mohsen abbaszadeh  investigate impact relative...\n",
              "5           5  ...  mohamed abdelshafy  crosslayer multipath multi...\n",
              "6           6  ...  mohamed abdelshafy  performance evaluation rec...\n",
              "7           7  ...  mohamed abdelshafy  reliable multipath multich...\n",
              "8           8  ...  mohamed abdelshafy  resist blackhole attack ma...\n",
              "9           9  ...    mohamed abdelshafy  dynamic source rout attack \n",
              "\n",
              "[10 rows x 6 columns]"
            ]
          },
          "metadata": {
            "tags": []
          },
          "execution_count": 71
        }
      ]
    },
    {
      "cell_type": "code",
      "metadata": {
        "id": "wg0yiRrBP2fM"
      },
      "source": [
        "#Drop irrelevant column\n",
        "data= data.drop('Unnamed: 0', 1)"
      ],
      "execution_count": null,
      "outputs": []
    },
    {
      "cell_type": "code",
      "metadata": {
        "colab": {
          "base_uri": "https://localhost:8080/"
        },
        "id": "-WQY3ex9QNAJ",
        "outputId": "3aaa6f6f-2182-4c43-ffe1-c191e5184a55"
      },
      "source": [
        "len(data)"
      ],
      "execution_count": null,
      "outputs": [
        {
          "output_type": "execute_result",
          "data": {
            "text/plain": [
              "536"
            ]
          },
          "metadata": {
            "tags": []
          },
          "execution_count": 20
        }
      ]
    },
    {
      "cell_type": "markdown",
      "metadata": {
        "id": "3ZtMJYQHQTv7"
      },
      "source": [
        "**Building Inverted Index**"
      ]
    },
    {
      "cell_type": "code",
      "metadata": {
        "colab": {
          "base_uri": "https://localhost:8080/"
        },
        "id": "_riOg6q1RkOQ",
        "outputId": "75ec1182-4e69-45a9-e4f7-fd1a0a1b51f5"
      },
      "source": [
        "import nltk\n",
        "import string\n",
        "from nltk.corpus import stopwords\n",
        "from nltk.corpus import wordnet\n",
        "from nltk import pos_tag\n",
        "from nltk.stem import WordNetLemmatizer \n",
        "nltk.download('averaged_perceptron_tagger')\n",
        "nltk.download('wordnet')\n",
        "nltk.download('stopwords')\n",
        "nltk.download('punkt')\n"
      ],
      "execution_count": null,
      "outputs": [
        {
          "output_type": "stream",
          "text": [
            "[nltk_data] Downloading package averaged_perceptron_tagger to\n",
            "[nltk_data]     /root/nltk_data...\n",
            "[nltk_data]   Package averaged_perceptron_tagger is already up-to-\n",
            "[nltk_data]       date!\n",
            "[nltk_data] Downloading package wordnet to /root/nltk_data...\n",
            "[nltk_data]   Package wordnet is already up-to-date!\n",
            "[nltk_data] Downloading package stopwords to /root/nltk_data...\n",
            "[nltk_data]   Package stopwords is already up-to-date!\n",
            "[nltk_data] Downloading package punkt to /root/nltk_data...\n",
            "[nltk_data]   Package punkt is already up-to-date!\n"
          ],
          "name": "stdout"
        },
        {
          "output_type": "execute_result",
          "data": {
            "text/plain": [
              "True"
            ]
          },
          "metadata": {
            "tags": []
          },
          "execution_count": 21
        }
      ]
    },
    {
      "cell_type": "code",
      "metadata": {
        "id": "lX76MWBwSApz"
      },
      "source": [
        "#Trying out lemmatizing process with everything on the first row\n",
        "\n",
        "enter= data.loc[0,:].copy()"
      ],
      "execution_count": null,
      "outputs": []
    },
    {
      "cell_type": "code",
      "metadata": {
        "colab": {
          "base_uri": "https://localhost:8080/"
        },
        "id": "-aa6Yo718xb4",
        "outputId": "922379f8-10f4-4108-9ead-af3a5d572a84"
      },
      "source": [
        "enter"
      ],
      "execution_count": null,
      "outputs": [
        {
          "output_type": "execute_result",
          "data": {
            "text/plain": [
              "Title        Enhancing CO2 solubility in the aquifer with t...\n",
              "Author                                       Mohsen Abbaszadeh\n",
              "Paperlink    https://pureportal.coventry.ac.uk/en/publicati...\n",
              "id                                                           1\n",
              "Name: 0, dtype: object"
            ]
          },
          "metadata": {
            "tags": []
          },
          "execution_count": 23
        }
      ]
    },
    {
      "cell_type": "markdown",
      "metadata": {
        "id": "oyviPt9yUO3e"
      },
      "source": [
        "  Data Cleaning on the title text which will be used to build the inverted index for easy text retrieval "
      ]
    },
    {
      "cell_type": "code",
      "metadata": {
        "id": "UOJYPcoHUIjT"
      },
      "source": [
        "#Removing all punctuation marks and coverting words in the text into lower case\n",
        "\n",
        "def clean_text(text):\n",
        "  text = text.lower() \n",
        "  text = text.translate(str.maketrans('', '', string.punctuation)) \n",
        "  \n",
        "  return text"
      ],
      "execution_count": null,
      "outputs": []
    },
    {
      "cell_type": "code",
      "metadata": {
        "id": "c8x2xjuEWqWp"
      },
      "source": [
        "#Lemmatization using POS Tag. Lemmatization is used for breaking down words into its dictionary form\n",
        "#Here we try to create a function that will classsify words to its correct part of speach \n",
        "\n",
        "def get_wordnet_pos(word):\n",
        "    \"Map POS tag to first character lemmatize() accepts\"\n",
        "    Lem = pos_tag([word])[0][1][0].upper()\n",
        "    Dictionary = {\"J\": wordnet.ADJ,\n",
        "                \"N\": wordnet.NOUN,\n",
        "                \"V\": wordnet.VERB,\n",
        "                \"R\": wordnet.ADV}\n",
        "\n",
        "    return Dictionary.get(Lem, wordnet.NOUN)"
      ],
      "execution_count": null,
      "outputs": []
    },
    {
      "cell_type": "code",
      "metadata": {
        "id": "KreAxVxJX514",
        "colab": {
          "base_uri": "https://localhost:8080/"
        },
        "outputId": "c81a50c1-148b-435e-81cf-37d94d0ca178"
      },
      "source": [
        "#Trying out the performance of the code\n",
        "\n",
        "print(\"Testing: {}\\n Code: {}\\n Is: {}\\n ON: {}\\n\".format(get_wordnet_pos(\"Testing\"), get_wordnet_pos(\"Code\"), get_wordnet_pos(\"Is\"), get_wordnet_pos(\"ON\")))"
      ],
      "execution_count": null,
      "outputs": [
        {
          "output_type": "stream",
          "text": [
            "Testing: v\n",
            " Code: n\n",
            " Is: n\n",
            " ON: n\n",
            "\n"
          ],
          "name": "stdout"
        }
      ]
    },
    {
      "cell_type": "code",
      "metadata": {
        "id": "3Q9M4iVSZaL5"
      },
      "source": [
        "#Removing all stop words\n",
        "Stop_words = stopwords.words('english') "
      ],
      "execution_count": null,
      "outputs": []
    },
    {
      "cell_type": "code",
      "metadata": {
        "id": "9DuK7zfmZjZX"
      },
      "source": [
        "Lemmatizer= WordNetLemmatizer()\n",
        "\n",
        "def Lemmatize(doc):\n",
        "    Token = nltk.word_tokenize(doc)\n",
        "    Temp = \"\"\n",
        "    for t in Token:\n",
        "        if t not in Stop_words:\n",
        "            Temp += Lemmatizer.lemmatize(t, get_wordnet_pos(t)) + \" \"\n",
        "    return Temp\n"
      ],
      "execution_count": null,
      "outputs": []
    },
    {
      "cell_type": "code",
      "metadata": {
        "colab": {
          "base_uri": "https://localhost:8080/",
          "height": 35
        },
        "id": "j6YOTXAqa_Oh",
        "outputId": "35650e97-f4c4-4235-eea6-80f0e29e31df"
      },
      "source": [
        "Lemmatize(doc = enter.Title)"
      ],
      "execution_count": null,
      "outputs": [
        {
          "output_type": "execute_result",
          "data": {
            "application/vnd.google.colaboratory.intrinsic+json": {
              "type": "string"
            },
            "text/plain": [
              "'Enhancing CO2 solubility aquifer use downhole cooler tool '"
            ]
          },
          "metadata": {
            "tags": []
          },
          "execution_count": 29
        }
      ]
    },
    {
      "cell_type": "code",
      "metadata": {
        "id": "X7-yIAhJdKx3"
      },
      "source": [
        "def clean_string(text):\n",
        "  text = text.lower() \n",
        "  text = text.translate(str.maketrans('', '', string.punctuation)) \n",
        "  text = Lemmatize(text)\n",
        "  return text"
      ],
      "execution_count": null,
      "outputs": []
    },
    {
      "cell_type": "code",
      "metadata": {
        "colab": {
          "base_uri": "https://localhost:8080/",
          "height": 69
        },
        "id": "VeyCwAWkgZC9",
        "outputId": "971805f4-4e72-4498-bcad-71581d8645ea"
      },
      "source": [
        "%time clean_string(enter.Title)"
      ],
      "execution_count": null,
      "outputs": [
        {
          "output_type": "stream",
          "text": [
            "CPU times: user 4.11 ms, sys: 0 ns, total: 4.11 ms\n",
            "Wall time: 4.38 ms\n"
          ],
          "name": "stdout"
        },
        {
          "output_type": "execute_result",
          "data": {
            "application/vnd.google.colaboratory.intrinsic+json": {
              "type": "string"
            },
            "text/plain": [
              "'enhance co2 solubility aquifer use downhole cooler tool '"
            ]
          },
          "metadata": {
            "tags": []
          },
          "execution_count": 31
        }
      ]
    },
    {
      "cell_type": "code",
      "metadata": {
        "colab": {
          "base_uri": "https://localhost:8080/"
        },
        "id": "3f5ajI4vkYKS",
        "outputId": "529b7b33-779b-4ee2-f8ba-1229d2884b85"
      },
      "source": [
        "#Applying the function to every other documents in the dataframe to convert them into lower case\n",
        "\n",
        "Clean_data = data.copy()\n",
        "\n",
        "def convert_df(df):\n",
        "  df['Author'] = df['Author'].apply(clean_string)\n",
        "  df['Title'] = df['Title'].apply(clean_string)\n",
        "\n",
        "\n",
        "%time convert_df(Clean_data)"
      ],
      "execution_count": null,
      "outputs": [
        {
          "output_type": "stream",
          "text": [
            "CPU times: user 1.21 s, sys: 49.2 ms, total: 1.26 s\n",
            "Wall time: 1.27 s\n"
          ],
          "name": "stdout"
        }
      ]
    },
    {
      "cell_type": "code",
      "metadata": {
        "id": "aB6S48BGl59L"
      },
      "source": [
        "#Vectorizing the data by combining all the column in the already cleaned data\n",
        "\n",
        "Clean_data['text'] = Clean_data[\"Title\"] + \" \" + Clean_data[\"Author\"]\n",
        "Clean_Data = Clean_data.drop([\"Author\",\"Title\", \"Paperlink\"], axis=1)"
      ],
      "execution_count": null,
      "outputs": []
    },
    {
      "cell_type": "code",
      "metadata": {
        "id": "y2EzyKoExZES"
      },
      "source": [
        "#Adding to the processed dataframe function so as to get a better result\n",
        "\n",
        "def convert_df(df):\n",
        "  df = df\n",
        "  df['Author'] = df['Author'].apply(clean_string)\n",
        "  df['Title'] = df['Title'].apply(clean_string)\n",
        "  df['text'] = df['Author'] + \" \" + df['Title']\n",
        "  df = df.drop([\"Author\",\"Title\", \"Paperlink\"], axis=1)\n",
        "  return df"
      ],
      "execution_count": null,
      "outputs": []
    },
    {
      "cell_type": "code",
      "metadata": {
        "colab": {
          "base_uri": "https://localhost:8080/"
        },
        "id": "umix-VfPoyBk",
        "outputId": "2c0129a2-131f-4ac5-a1f3-ce161aba3c35"
      },
      "source": [
        "#Label Indexing into a dictionary \n",
        "\n",
        "Document = Clean_Data.loc[0,:].copy() \n",
        "print(Document)\n",
        "test = {}"
      ],
      "execution_count": null,
      "outputs": [
        {
          "output_type": "stream",
          "text": [
            "id                                                      1\n",
            "text    enhance co2 solubility aquifer use downhole co...\n",
            "Name: 0, dtype: object\n"
          ],
          "name": "stdout"
        }
      ]
    },
    {
      "cell_type": "code",
      "metadata": {
        "id": "faigBK3CseD9"
      },
      "source": [
        "#Splitting the contents in the dictionary into sub dictionaries to build a posting list, and insert each id\n",
        "\n",
        "\n",
        "def indexing(Document, index):\n",
        "  WORDS = Document.text.split()\n",
        "  id = Document.id\n",
        "  for a in WORDS:\n",
        "    if a in index.keys():\n",
        "      if id not in index[a]:\n",
        "        index[a].append(id)\n",
        "    else:\n",
        "      index[a] = [id]\n",
        "  return index\n"
      ],
      "execution_count": null,
      "outputs": []
    },
    {
      "cell_type": "code",
      "metadata": {
        "colab": {
          "base_uri": "https://localhost:8080/"
        },
        "id": "x9FbivAnuDUh",
        "outputId": "2da8c91f-cf0c-4baf-bfdf-1c04d06967c6"
      },
      "source": [
        "#Calling the function for every content in the dataframe\n",
        "\n",
        "Inverted_Index = indexing(Document= Document, index= {})\n",
        "print(Inverted_Index)\n"
      ],
      "execution_count": null,
      "outputs": [
        {
          "output_type": "stream",
          "text": [
            "{'enhance': [1], 'co2': [1], 'solubility': [1], 'aquifer': [1], 'use': [1], 'downhole': [1], 'cooler': [1], 'tool': [1], 'mohsen': [1], 'abbaszadeh': [1]}\n"
          ],
          "name": "stdout"
        }
      ]
    },
    {
      "cell_type": "code",
      "metadata": {
        "id": "0p4J9Zh9uJ-u"
      },
      "source": [
        "\n",
        "def Indexing(df, index):\n",
        "  for i in range(len(df)):\n",
        "    Document = df.loc[i,:]\n",
        "    index = indexing(Document = Document, index = index)\n",
        "  return index"
      ],
      "execution_count": null,
      "outputs": []
    },
    {
      "cell_type": "code",
      "metadata": {
        "colab": {
          "base_uri": "https://localhost:8080/"
        },
        "id": "WcfqzspfxmuH",
        "outputId": "7a854012-65fb-4816-ad16-be19a064562c"
      },
      "source": [
        "indexed = Indexing(Clean_Data, index = {})\n",
        "len(indexed)"
      ],
      "execution_count": null,
      "outputs": [
        {
          "output_type": "execute_result",
          "data": {
            "text/plain": [
              "2574"
            ]
          },
          "metadata": {
            "tags": []
          },
          "execution_count": 39
        }
      ]
    },
    {
      "cell_type": "code",
      "metadata": {
        "colab": {
          "base_uri": "https://localhost:8080/"
        },
        "id": "fRpoNRPx1wsU",
        "outputId": "5d91beae-94dc-4a4c-d0a3-a5f622c7c334"
      },
      "source": [
        "print(indexed)"
      ],
      "execution_count": null,
      "outputs": [
        {
          "output_type": "stream",
          "text": [
            "{'enhance': [1, 140, 392, 532], 'co2': [1, 2, 4, 5, 385], 'solubility': [1, 4], 'aquifer': [1, 3], 'use': [1, 4, 16, 23, 62, 83, 85, 93, 94, 107, 130, 152, 165, 177, 180, 188, 196, 199, 200, 214, 220, 270, 279, 282, 291, 323, 377, 382, 383, 385, 394, 419, 429, 431, 437, 455, 473, 480, 484, 486], 'downhole': [1, 4], 'cooler': [1], 'tool': [1, 4, 20, 294, 475], 'mohsen': [1, 2, 3, 4, 5, 38, 39], 'abbaszadeh': [1, 2, 3, 4, 5], 'investigate': [2, 5, 105, 232], 'impact': [2, 5, 27, 40, 54, 76, 89, 113, 150, 154, 186, 201, 202, 204, 205, 260, 261, 299, 396, 472, 520], 'temperature': [2, 3, 4, 143, 467, 524, 525, 535], 'relative': [2, 5], 'permeability': [2, 5], 'curve': [2, 5], 'cure': [2], 'geological': [2, 362], 'storage': [2, 3], 'influence': [3, 62, 121, 183, 258, 319, 376, 511], 'wettability': [3], 'alteration': [3], 'co': [3], '2': [3, 247, 250, 251], 'saline': [3], 'accelerate': [4, 452], 'brine': [4], 'low': [4, 78, 169, 382], 'injection': [4, 5], 'scenario': [4, 196, 483, 484], 'cool': [4, 20, 21, 23, 212], 'cold': [5, 80, 454], 'crosslayer': [6], 'multipath': [6, 8, 190], 'multichannel': [6, 8, 141, 533], 'mac': [6], 'protocol': [6, 7, 378], 'manet': [6, 7, 9], 'mohamed': [6, 7, 8, 9, 10, 11], 'abdelshafy': [6, 7, 8, 9, 10], 'performance': [7, 75, 77, 92, 94, 124, 150, 181, 183, 201, 202, 203, 204, 205, 269, 276, 281, 304, 486], 'evaluation': [7, 16, 54, 63, 77, 80, 99, 121, 135, 237, 238, 240, 268, 292, 331, 368, 371, 486], 'receiver': [7, 93], 'direct': [7], 'transmission': [7, 115], 'single': [7], 'transceiver': [7], 'reliable': [8], 'route': [8, 217], 'migration': [8, 172, 432], 'multi': [8, 127], 'linkfailure': [8], 'wireless': [8, 190, 270], 'ad': [8], 'hoc': [8], 'network': [8, 85, 88, 93, 218, 225, 256, 324, 325, 393, 454], 'resist': [9], 'blackhole': [9], 'attack': [9, 10, 156], 'dynamic': [10, 89, 90, 113, 122, 123, 124, 125, 126, 180, 182, 186, 187, 350, 395, 425], 'source': [10, 127, 509], 'rout': [10, 35, 131, 451, 453], 'energy': [11, 41, 96, 98, 117, 130, 180, 259, 323, 526], 'efficiency': [11, 117, 256], 'building': [11, 94, 117, 426, 457, 496, 498, 499, 500, 524], 'excess': [11], 'summer': [11], 'mortality': [11], 'uk': [11, 26, 40, 41, 47, 64, 72, 112, 123, 198, 273, 311, 329, 330, 367, 368, 369, 429, 434, 439, 512, 523, 524], 'ali': [11, 152, 153, 154, 155, 157, 158, 159, 160, 161], 'abdi': [11], 'stock': [12, 14, 45, 46, 74, 253], 'liquidity': [12, 74], 'smes': [12, 25], '’': [12, 17, 34, 44, 196, 226, 230, 288, 297, 299, 300, 309, 328, 337, 345, 358, 378, 379, 387, 390, 446, 458, 487, 488, 491, 503, 519], 'likelihood': [12], 'bankruptcy': [12], 'evidence': [12, 26, 31, 45, 46, 47, 62, 112, 184, 253, 297, 343, 405, 474, 506], 'u': [12, 521], 'market': [12, 59, 74, 255, 520, 521], 'mohamad': [12, 13, 14], 'nazri': [12, 13, 14], 'abd': [12, 14], 'karim': [12, 14], 'personalisation': [13], 'power': [13, 29, 33, 99, 266, 268, 269, 270, 355, 473], 'neoliberalism': [13], 'production': [13, 28, 44, 66, 130, 179, 476], 'corruption': [13, 206], 'price': [14, 41, 74], 'volume': [14, 251, 280], 'effect': [14, 24, 41, 75, 105, 135, 235, 249, 255, 272, 363, 373, 382, 383, 441, 524, 525], 'associate': [14, 319], 'change': [14, 62, 216, 219, 260, 327, 404, 488, 515, 531], 'composition': [14], 'ftse': [14], 'bursa': [14], 'malaysian': [14], 'klci': [14], 'artificial': [15, 218], 'insemination': [15], 'captive': [15], 'lion': [15], 'bad': [15, 386], 'news': [15, 195], 'conservation': [15, 513], 'jackie': [15, 16, 18, 19], 'abell': [15, 16, 18, 19], 'psychometric': [16], 'scale': [16, 66, 333], 'human–wildlife': [16], 'interaction': [16, 164, 262], 'research': [16, 26, 50, 52, 55, 57, 70, 118, 197, 331, 370, 405], 'determine': [16], 'attitude': [16, 272, 290, 345], 'tolerance': [16], 'toward': [16, 117], 'wildlife': [16], '‘': [17, 337, 390, 458, 487, 488, 531], 'come': [17], 'back': [17, 206, 426], 'fight': [17, 206], 'give': [17], 'drive': [17, 484, 492, 503], 'achieve': [17, 97, 106], 'extraordinary': [17], 'psychological': [17, 503], 'construction': [17, 97, 332, 334], 'superrich': [17], 'entertainment': [17], 'documentary': [17], 'adam': [17, 386, 387, 388, 389, 390], 'jowett': [17], 'social': [18, 33, 125, 126, 183, 243, 248, 256, 287, 338, 355, 357, 377, 435, 441, 503, 512, 515, 523, 524], 'psychology': [18, 38, 443], 'psychologist': [19], 'tree': [19], 'life': [19, 329, 330], 'special': [19], 'feature': [19, 117, 168, 280], 'work': [19, 52, 329, 330, 354, 427], 'nonhuman': [19], 'animal': [19], 'matter': [19, 348], 'pride': [19], 'simplify': [20], 'cfd': [20, 22], 'model': [20, 36, 37, 62, 82, 83, 90, 97, 108, 122, 127, 129, 130, 133, 140, 141, 142, 143, 153, 155, 157, 158, 159, 161, 177, 178, 187, 189, 207, 277, 305, 344, 359, 395, 397, 481, 492, 526, 532, 533, 534, 535], 'assess': [20, 175, 235], 'channel': [20, 21, 78, 89, 90, 91, 92, 113, 142, 186, 187, 189, 190, 534], 'design': [20, 22, 42, 64, 97, 152, 153, 212, 240, 280, 285, 289, 495, 499], '3d': [20, 23], 'print': [20, 23, 195, 419], 'highpressure': [20], 'aluminium': [20, 23], 'alloy': [20, 372], 'cast': [20], 'essam': [20, 22, 23, 24], 'aboserie': [20, 22, 23, 24], 'adjoint': [21], 'optimization': [21, 36, 94, 165, 323, 325, 472], 'conformal': [21, 23], 'rapid': [21], 'prototyped': [21], 'mould': [21, 23], 'insert': [21], 'tongyan': [21], 'zeng': [21], 'simulation': [22, 37, 280, 332, 334, 335, 477], 'test': [22, 115, 138, 155, 365, 483], 'turbocharger': [22], 'compressor': [22], 'various': [22], 'impeller': [22], 'variable': [22, 473], 'flat': [23], 'fin': [23], 'watercooled': [23], 'splitinjection': [24], 'fuel': [24, 154, 155, 176, 179], 'mix': [24], 'cylinder': [24], 'flow': [24, 78, 143, 144, 158, 478, 535, 536], 'characteristic': [24, 218, 362], 'gdi': [24], 'engine': [24], 'crisis': [25, 149, 151, 216, 264, 347, 520, 521], 'management': [25, 43, 62, 128, 130, 182, 332, 347, 360, 370, 398, 399, 430, 431, 454, 465, 476, 477], 'hospitality': [25, 408, 410], 'sector': [25, 30, 32, 344, 416, 520], 'pakistan': [25], 'covid19': [25, 60, 115, 216, 287, 327, 426, 516], 'burhan': [25], 'leadership': [26, 358], 'cultivate': [26], 'principal': [26], 'investigator': [26], 'team': [26, 97, 296, 297, 459], 'member': [26, 275, 313], 'fund': [26], 'project': [26, 54, 58, 208, 209, 258, 424, 429, 430, 431], 'omar': [26, 27], 'abou': [26, 27], 'hamdan': [26, 27], 'self': [27, 338], 'v': [27, 219, 356], 'otherfocused': [27], 'mentor': [27], 'motif': [27, 444], 'informal': [27], 'conceptualize': [27], 'behaviour': [27, 79, 272, 299, 516], 'beneficial': [27, 104], 'outcome': [27], 'brookside': [28], 'farm': [28], 'wetland': [28], 'ecosystem': [28, 343, 428], 'treatment': [28, 140, 150, 532], 'wet': [28], 'system': [28, 35, 43, 85, 88, 90, 91, 99, 100, 128, 131, 180, 183, 187, 190, 219, 238, 240, 244, 260, 268, 292, 321, 322, 324, 344, 375, 391, 437, 465, 466, 476, 480, 512, 523, 526], 'lowenergy': [28, 94], 'methodology': [28, 96, 98], 'sewage': [28], 'purification': [28], 'biomass': [28], 'yield': [28], 'flood': [28], 'resilience': [28, 349], 'biodiversity': [28], 'enhancement': [28, 498], 'j': [28], 'c': [28, 498], 'abraham': [28], 'explore': [29, 33, 52, 65, 112, 195, 216, 234, 265, 298, 367, 369, 502, 503], 'history': [29, 248, 284], 'driver': [29, 218], 'imbalance': [29, 33], 'within': [29, 33, 83, 84, 132, 353, 381, 502, 503], 'nigerian': [29, 33, 206], 'oil': [29, 30, 32, 33, 44, 174, 179, 220, 258, 259, 333, 421], 'gas': [29, 30, 32, 33, 40, 41, 44, 259, 466, 469], 'alim': [29, 30, 32, 33], 'abubakre': [29, 30, 32, 33], 'intrastakeholder': [30, 32], 'conflict': [30, 32, 263, 446, 449], 'case': [30, 32, 38, 50, 54, 75, 181, 182, 185, 200, 211, 216, 230, 236, 243, 250, 251, 299, 334, 416, 432, 457, 492, 495], 'study': [30, 32, 50, 52, 64, 79, 88, 107, 167, 181, 185, 216, 220, 230, 243, 252, 299, 334, 358, 361, 377, 378, 405, 492, 495, 516], 'upstream': [30, 32, 42], 'nigeria': [30, 31, 32, 227, 301], 'industry': [30, 32, 33, 112, 123, 145, 174, 210, 261, 283, 330], 'risk': [31, 210, 289, 398, 399, 400, 466], 'governance': [31, 147, 148, 181, 302, 425, 447], 'disclosure': [31, 70, 175, 230], 'quality': [31, 76, 121, 132, 134, 145, 146, 147, 498], 'corporate': [31, 45, 46, 47, 73, 104, 147, 148, 174, 230, 302], 'firm': [31, 48, 77, 123, 124, 149, 201, 202, 203, 256, 257], 'abdurafiu': [31], 'noah': [31], 'stakeholder': [33], 'responsibility': [33], 'oecd': [34], 'global': [34, 50, 100, 406, 455, 521], 'principle': [34, 302], 'eu': [34, 76], 'tax': [34], 'crime': [34], 'measure': [34, 150, 168, 173, 415, 455], 'umut': [34], 'turksen': [34], 'development': [35, 39, 42, 51, 97, 131, 285, 292, 299, 308, 309, 420, 475, 476, 513, 518, 519], 'multilayered': [35, 131], 'agentbased': [35, 127, 130, 131], 'heuristic': [35, 131], 'vehicle': [35, 87, 89, 110, 113, 131, 186, 217, 307, 391, 417, 451, 471, 485, 486, 508], 'problem': [35, 39, 131, 322, 451, 452], 'random': [35, 131], 'breakdown': [35, 131], 'anees': [35, 37, 131], 'abumonshar': [35, 131], 'develop': [36, 37, 96, 98, 179, 216, 228, 303, 346], 'overbooking': [36], 'fuzzybased': [36], 'mathematical': [36, 155], 'multileg': [36], 'flight': [36, 156], 'ammar': [36, 127, 128, 129, 130], 'al': [36, 127, 128, 129, 130, 132, 134, 162, 163, 164, 165, 166, 173, 174, 175, 176, 177, 178, 180, 188, 189, 190], 'bazi': [36, 127, 128, 129, 130], 'resource': [37, 57, 182, 285, 289, 301, 325, 344, 496, 520], 'starvation': [37], 'automotive': [37], 'assembly': [37], 'line': [37], 'abu': [37], 'monshar': [37], 'outsiderdriven': [38], 'institutional': [38, 73, 174, 183, 226, 228, 246, 300], 'entrepreneurship': [38], 'emerge': [38, 56, 59, 520], 'field': [38, 81], 'positive': [38, 447, 458], 'education': [38, 52, 53, 70, 71, 72, 94, 197, 198, 272, 330, 331, 344, 347, 439, 496, 497, 498, 499, 500], 'abumuamar': [38, 39], 'driven': [39, 476], 'iterative': [39], 'adaptation': [39, 237, 241], 'pdia': [39], 'restatement': [39], 'organization': [39], 'od': [39], 'fiscal': [40, 42], 'regime': [40, 143, 478, 535], 'shale': [40, 41], 'analyse': [40, 157], 'pad': [40], 'allowance': [40], 'investment': [40, 41, 45, 46, 47, 49, 256, 300, 303, 396], 'elijah': [40, 41, 42, 44], 'acquahandoh': [40, 41, 42, 44], 'brexit': [41, 243], 'security': [41, 123, 266, 322], 'perspective': [41, 56, 112, 288, 300, 301, 355, 367, 368, 369, 371, 424, 425, 475], 'unconventional': [41], 'coalbed': [42], 'methane': [42], 'indonesia': [42, 272], 'economic': [42, 248], 'analysis': [42, 104, 145, 146, 170, 190, 199, 200, 287, 374, 395, 448, 462, 466, 468, 476, 484], 'petroleum': [42], 'policy': [42, 117, 242, 243, 283, 284, 314, 380, 428], 'integrate': [43, 52, 60, 71, 72, 94, 385, 425, 430, 465, 477], 'human': [43, 69, 157, 358, 370, 465], 'factor': [43, 62, 121, 192, 226, 348, 465], 'hf': [43, 465], 'process': [43, 94, 177, 261, 279, 297, 385, 419, 449, 465, 484, 486], 'safety': [43, 465, 471, 483], 'psms': [43, 465], 'stephen': [43, 332, 334, 335, 336, 465, 466], 'theophilus': [43, 465, 466], 'growth': [44, 79, 81, 257, 384, 507], 'ghana': [44, 230, 266], 'economy': [44, 56, 228, 301, 341], 'initial': [44], 'assessment': [44, 169, 171, 261, 466, 471], 'cash': [45, 46, 47, 48], 'holding': [45, 46, 47, 48], 'valuation': [45, 46, 47], 'london': [45, 46, 251, 362], 'exchange': [45, 46, 416], 'oluwagbenga': [45, 46, 47, 48, 49], 'adamolekun': [45, 46, 47, 48, 49], 'announcement': [47], 'competitiveness': [48], 'socially': [49], 'responsible': [49, 347], 'bottle': [50], 'house': [50, 229], 'transdisciplinary': [50], 'tackle': [50], 'challenge': [50, 59, 246, 264, 405, 427, 445, 494, 526], 'arinola': [50, 53], 'adefila': [50, 53], 'autonomy': [51], 'placement': [51], 'perception': [51, 303, 440], 'physiotherapy': [51], 'student': [51, 199, 200, 241, 272, 334, 335, 348, 429, 438, 439, 441, 462, 500], 'educator': [51], 'australia': [51], 'united': [51, 218, 226], 'kingdom': [51, 218, 226], 'lynn': [51, 52], 'clouder': [51, 52], '–': [52, 218, 326, 354, 406, 466], 'qualitative': [52], 'contextualizing': [52], 'practitioner': [52, 112], 'learn': [52, 54, 84, 88, 167, 237, 239, 240, 241, 276, 279, 286, 288, 304, 346, 426, 429, 431, 438, 463, 493, 494, 496], 'practice': [52, 125, 126, 148, 207, 359, 370, 400, 438, 463, 496, 498, 499, 500, 526], 'high': [53, 62, 70, 71, 72, 94, 133, 143, 154, 198, 331, 344, 439, 497, 535], 'decolonisation': [53], 'whose': [53, 274, 312], 'voice': [53], 'geographical': [53], 'location': [53, 428, 452], 'jovital': [54], 'jordan': [54, 146, 148], 'opportunity': [54, 57, 59, 278, 295, 306], 'virtual': [54, 473, 477], 'innovative': [54], 'teach': [54, 286, 438, 439, 462, 463, 480], 'final': [54], 'report': [54, 67, 329, 330, 331], 'activity': [54, 136, 137, 308, 309, 369], '20172021': [54], 'international': [54, 242], 'online': [54, 195, 256, 438, 441, 502, 503], 'particular': [54], 'attention': [54, 455], 'jordanian': [54], 'alun': [54], 'dewinter': [54], 'environment': [55, 73, 96, 98, 133, 160, 174, 299, 353, 438, 451, 494, 519], 'joint': [55, 323, 361], 'universityindustry': [55], 'laboratory': [55, 480], 'juil': [55], 'microlevel': [55], 'dimension': [55, 194, 195], 'implication': [55, 70, 118, 139, 257, 314], 'abiodun': [55, 56, 57, 58, 59], 'adegbile': [55, 56, 57, 58, 59], 'industry–university': [56], 'collaboration': [56, 162, 445], 'legitimacy': [56, 266, 511], 'mobilisation': [57], 'entrepreneurial': [57, 278, 295, 306], 'venture': [57], '1987–2019': [57], 'integrative': [57, 122, 160], 'review': [57, 62, 63, 70, 192, 233, 248, 297, 340, 341, 350, 420, 421, 422, 446, 456, 522], 'future': [57, 70, 96, 98, 259, 264, 526], 'towards': [58, 106, 124, 244, 275, 313, 345, 522], '5c': [58], 'theory': [58, 252, 287, 400], 'communication': [58, 90, 92, 187, 188, 189, 210, 355, 358], 'scrumbased': [58], 'distribute': [58], 'disruptive': [59], 'innovation': [59, 69, 242, 287, 424, 512, 523], 'baseofthepyramid': [59], 'multinationals': [59], 'african': [59, 62, 64, 114, 226, 264, 520, 521], 'syndemic': [60], 'require': [60], 'approach': [60, 83, 88, 141, 142, 175, 176, 191, 276, 277, 291, 293, 304, 305, 307, 308, 309, 333, 343, 349, 400, 469, 471, 472, 475, 476, 526, 533, 534], 'marginalize': [60], 'population': [60, 353], 'amanda': [60, 61, 62, 63, 64], 'rodrigues': [60, 61, 62, 63, 64], 'amorim': [60, 61, 62, 63, 64], 'adegboye': [60, 61, 62, 63, 64], 'exploratory': [61], 'efficacy': [61], 'calciumvitamin': [61], 'milk': [61], 'fortification': [61], 'periodontal': [61], 'therapy': [61, 139], 'maternal': [61], 'oral': [61], 'health': [61, 233, 381, 403, 433, 436, 440, 450, 516], 'metabolic': [61], 'inflammatory': [61], 'profile': [61], 'pregnancy': [62], 'postpartum': [62, 380], 'weight': [62], 'woman': [62, 64, 265, 267, 329, 330, 377, 379, 380, 381, 434], 'caribbean': [62, 64], 'ancestry': [62], 'living': [62, 64, 434, 435, 441], 'income': [62, 149], 'country': [62, 179, 216, 303, 346], 'systematic': [62, 63, 70, 88, 192, 297, 320, 456, 522], 'synthesis': [62], 'behavioral': [62], 'theoretical': [62, 104, 123], 'nutritional': [63], 'value': [63, 120, 149, 427, 428], 'physical': [63, 164, 440], 'property': [63, 234, 235, 262, 310, 333, 373, 376], 'blenderised': [63], 'enteral': [63], 'nutrition': [63], 'formula': [63], 'metaanalysis': [63], 'attitudinal': [64], 'determinant': [64, 506], 'diet': [64], 'lifestyle': [64], 'among': [64, 120, 328, 441], 'rationale': [64], 'book': [65, 149, 350, 464], 'contain': [65], 'multitude': [65], 'experimental': [65, 79, 99, 155, 220, 268, 361, 375, 393], 'publishing': [65], 'janneke': [65, 66, 67, 68, 69], 'adema': [65, 66, 67, 68, 69], 'small': [66, 227, 363, 471, 472], 'envision': [66], 'new': [66, 106, 128, 140, 142, 175, 176, 184, 215, 221, 251, 291, 294, 333, 342, 400, 532, 534], 'relationalities': [66], 'knowledge': [66, 122, 209, 237, 240, 272, 345, 503, 504], 'communityled': [67], 'open': [67, 289, 424], 'publication': [67], 'infrastructure': [67, 208], 'monograph': [67], 'copim': [67], 'annual': [67], 'year': [67, 439], '1': [67, 251, 361], '20192020': [67], 'post': [68, 415], 'ethic': [69, 307, 445], 'emergent': [69], 'creativity': [69], 'move': [69], 'beyond': [69, 147, 248, 459], 'write': [69, 198, 199, 200], 'enterprise': [69, 182, 183, 227, 344, 435], 'commodity': [69], 'csr': [70, 175], 'uncovered': [70], 'point': [70, 99, 258, 268, 269], 'result': [70, 487], 'literature': [70, 522], 'agenda': [70, 371], 'mahalaxmi': [70, 71, 72], 'adhikari': [70, 71, 72], 'parajuli': [70, 71, 72], 'reporting': [71, 72, 76, 174], 'insight': [71, 123, 174, 175, 226, 342], 'scotland': [71], 'northern': [71, 433, 435, 436], 'ireland': [71, 509], 'wale': [71], 'institution': [72, 229, 439], 'political': [73, 265, 301, 448], 'strategy': [73, 95, 201, 202, 205, 212, 349, 417, 485, 495], 'weak': [73, 92, 229, 300, 394], 'break': [73, 328, 386], 'convention': [73], 'daniel': [73, 74, 75, 76, 77, 231, 232, 233, 234, 235, 247, 248, 249, 250, 251], 'aghanya': [73, 74, 75, 76, 77], 'financial': [74, 149, 151, 272, 273, 274, 275, 311, 312, 313, 314, 416, 521], 'instrument': [74, 481], 'directive': [74], 'mifid': [74], 'informativeness': [74], 'government': [75, 284, 287], 'involvement': [75, 379], 'payment': [75, 150], 'method': [75, 106, 173, 221, 282, 422, 466], 'merger': [75, 77], 'acquisition': [75], 'china': [75, 236, 254], 'regulation': [76, 254, 319, 394], 'compliance': [76], 'cost': [76], 'risktaking': [76], 'bank': [76, 150, 271, 346, 397, 398, 399], 'premium': [77], 'europe': [77, 487, 488], 'highdrag': [78], 'intermittency': [78], 'turbulent': [78, 144, 158, 536], 'rishav': [78], 'agrawal': [78], 'residual': [79, 80, 81, 82, 83], 'stress': [79, 80, 81, 82, 83, 232, 234, 235], 'directiondependence': [79], 'fatigue': [79, 81, 116], 'crack': [79, 81], 'asbuilt': [79], 'stressrelieved': [79], 'selectivelasermelted': [79], 'ti6al4v': [79, 80, 116], 'abdul': [79], 'syed': [79], 'induced': [80, 108], 'spray': [80], 'substrate': [80], 'bilal': [80, 82, 83], 'ahmad': [80, 81, 84, 85, 86, 87, 88, 91, 92], 'laser': [81], 'shock': [81], 'peened': [81], 'b': [81, 496], 'measurement': [82, 181, 183, 214, 478], 'wirefeed': [82], 'additively': [82], 'manufacture': [82, 116], 'titanium': [82, 372], 'ahmed': [82, 83, 94, 95, 97, 100, 101, 102, 103, 104, 105, 106, 107, 108, 109, 110, 111, 112], 'prediction': [83, 177], 'linear': [83], 'friction': [83], 'weld': [83], 'computationally': [83], 'efficient': [83, 180, 477], 'blockchainbased': [84], 'decentralize': [84], 'machine': [84, 88, 276, 279, 293, 304], 'framework': [84, 118, 119, 180, 228, 243, 347, 470], 'collaborative': [84, 429], 'intrusion': [84, 88], 'detection': [84, 85, 88, 110, 111, 167, 215, 291, 294], 'uavs': [84], 'farhan': [84, 85, 86, 87, 88], 'spectrogram': [85, 293], 'imagebased': [85], 'anomaly': [85], 'deep': [85, 88, 167], 'convolutional': [85, 225], 'neural': [85, 93, 218, 225], 'cognitive': [86, 87, 298], 'automation': [86], 'smart': [86, 181, 182, 184, 475], 'decision': [86, 296, 298, 314], 'make': [86, 296, 298, 314], 'industrial': [86, 283, 284], 'internet': [86, 87], 'thing': [86], 'crtbiov': [87], 'radio': [87, 340], 'technique': [87, 101, 374], 'blockchainenabled': [87], 'headlight': [89, 113, 186], 'radiation': [89, 113, 186], 'pattern': [89, 113, 186, 327], 'vehicular': [89, 90, 113, 186, 187], 'vlc': [89, 113, 186], 'farah': [89, 90, 113, 186, 187, 188, 189, 190], 'mahdi': [89, 90, 113, 186, 187, 188, 189, 190, 450, 451, 452, 453, 454], 'yaseen': [89, 90, 113, 186, 187, 188, 189, 190], 'alsallami': [89, 90, 113, 186, 187], 'statistical': [90, 187], 'visible': [90, 92, 93, 187, 188, 189], 'light': [90, 92, 93, 187, 188, 189, 219, 284, 321, 480], 'ldpccoded': [91], 'cap': [91], 'spatial': [91, 92, 172, 350], 'diversity': [91, 92, 93, 145], 'uvlc': [91], 'generalizedgamma': [91], 'fading': [91], 'zahir': [91, 92], 'dcoofdm': [92], 'turbulence': [92, 140, 532], 'underwater': [92], 'precision': [93], 'indoor': [93, 188], 'threedimensional': [93], 'position': [93], 'multilayer': [93], 'perceptron': [93], 'abdulrahman': [93, 201, 202, 203, 204, 205], 'abdullahi': [93, 94, 95, 97], 'mahmoud': [93], 'renovation': [94], 'user': [94], 'engagement': [94, 381, 461, 492, 495], '80year': [95], 'projection': [95], 'nzeb': [95], 'extreme': [95], 'climatic': [95, 258], 'condition': [95, 258, 364, 467], 'iraq': [95], 'control': [96, 98, 105, 127, 153, 156, 158, 159, 290, 391, 417, 425], 'optimisation': [96, 98, 127, 128, 180, 217, 279, 469, 476, 484], 'built': [96, 98], 'monday': [96, 98], 'ikhide': [96, 98], 'training': [97, 332, 334, 335, 346], 'bim': [97], 'competency': [97], 'adaptive': [99, 101, 102, 213, 240, 268], 'maximum': [99, 268, 269], 'track': [99, 188, 268, 269, 480], 'standalone': [99, 268], 'photovoltaic': [99, 268], 'ihechiluru': [99, 268, 269], 'fortune': [99, 268, 269], 'chinatu': [99, 268, 269], 'anya': [99, 268, 269], 'output': [100, 319], 'oscillatory': [100], 'synchronization': [100], 'heterogeneous': [100, 223, 224, 225], 'hafiz': [100, 101, 102, 103], 'filteringbased': [101], 'pseudo': [101], 'openloop': [101], 'threephase': [101], 'gridsynchronization': [101], 'coordinate': [102], 'transformationfree': [102], 'observerbased': [102], 'estimation': [102, 110, 213, 290], 'distort': [102], 'singlephase': [102, 103], 'grid': [102, 132, 133, 394], 'voltage': [102, 394], 'signal': [102, 170, 291, 294, 469], 'demodulation': [103], 'type': [103, 146, 280], 'pll': [103], 'dc': [103], 'offset': [103], 'rejection': [103], 'hedge': [104, 451, 453], 'always': [104], 'empirical': [104, 145, 146, 237, 256, 297], 'hany': [104], 'mass': [105, 438], 'variation': [105, 342, 467], 'slide': [105], 'mode': [105], 'functional': [105, 234, 235, 503], 'electrical': [105, 294], 'stimulation': [105], 'aid': [105, 109, 279], 'sittostand': [105, 108], 'paraplegia': [105, 108], 'mohammed': [105, 108, 109], 'fesinduced': [106], 'movement': [106, 107, 108, 109, 355, 357], 'restoration': [107, 109], 'fe': [107, 108, 109], 'introductory': [107], 'kinematic': [108], 'smc': [109], 'scheme': [109, 391, 392, 393], 'sts': [109], 'paraplegic': [109], 'pedestrian': [110, 111, 474], 'cyclist': [110, 111], 'intent': [110], 'autonomous': [110, 307], 'survey': [110, 405], 'sarfraz': [110, 111], 'visual': [111], 'thermal': [111, 373, 374, 375], 'data': [111, 175, 202, 377, 416, 476, 506, 509], 'prospect': [112], 'islamic': [112, 397, 398, 399], 'home': [112, 450], 'finance': [112, 272], 'tanveer': [112], 'understand': [114, 199, 200, 218, 297, 381, 427, 438, 504], 'public': [114, 246, 346, 347, 379, 416, 447], 'sentiment': [114], 'relation': [114, 342], 'continental': [114], 'free': [114], 'trade': [114, 229], 'agreement': [114], 'olubunmi': [114, 115], 'ajala': [114, 115], 'lockdown': [115], 'help': [115], 'curb': [115, 354], 'wirearc': [116], 'additive': [116, 278, 279, 295, 306, 383], 'presence': [116, 231], 'processinduced': [116], 'porosity': [116, 374], 'defect': [116, 214], 'emre': [116], 'akgun': [116], 'relationship': [117, 118, 120, 229, 234, 434], 'aesthetic': [117], 'marketability': [117], 'novel': [117, 160, 173, 292], 'demand': [117, 211], 'reduction': [117, 385], 'sanam': [117, 118, 119, 120, 121], 'akhavannasab': [117, 118, 119, 120, 121], 'consumer': [118, 119, 345, 502, 503], 'empowerment': [118, 119, 502], 'consumer–firm': [118], 'conceptual': [118, 124, 347], 'hierarchical': [120, 454], 'brand': [120, 457], 'customer': [120, 121], 'mindset': [120], 'perceptual': [121], 'gap': [121, 437], 'service': [121, 132, 134, 368, 371, 416, 436, 506], 'provider': [121], 'demystify': [122], 'multilevel': [122, 182], 'nature': [122], 'capability': [122, 123, 124, 125, 126, 275, 313], 'mechanism': [122, 298, 300], 'tega': [122, 123, 124, 125, 126], 'akpobi': [122, 123, 124, 125, 126], 'explicate': [123], 'link': [123, 124, 324, 395], 'peformance': [123], 'information': [123, 198, 199, 200, 205, 257, 355, 358], 'technology': [123, 170, 205, 278, 295, 306, 355, 358, 377], 'consult': [123], 'microfoundations': [125, 126], 'routine': [125, 126, 405], 'replication': [125, 126], 'organisational': [125, 126, 204, 205], 'distribution': [127, 130, 394, 418], 'planning': [127, 130, 182, 344, 450], 'energybased': [127], 'intermittent': [127], 'renewable': [127, 130], 'fuzzy': [128, 129], 'knowledgebased': [128, 129], 'container': [128, 129], 'yard': [128, 129], 'operation': [128, 154, 267, 485], 'improve': [129, 177, 213, 215, 333, 461, 472], 'long': [129], 'stay': [129, 434], 'qos': [132], 'business': [132, 201, 202, 205, 347, 462, 508, 511], 'bgqos': [132], 'reda': [132, 133, 134], 'bodour': [132, 134], 'level': [133, 163, 166, 237, 342], 'qosdriven': [133], 'application': [133, 158, 170, 222, 423, 466, 475], 'simulated': [133, 483], 'albodour': [133], 'extension': [134], 'gridsim': [134], 'antimicrobial': [135, 137], 'phytochemical': [135], 'fraction': [135, 280], 'prosopsis': [135], 'africana': [135, 136], 'uvaria': [135, 136], 'chamae': [135, 136], 'staphylococcus': [135], 'aureus': [135], 'pseudomonas': [135], 'aeruginosa': [135], 'tim': [135, 136, 137, 138, 139], 'aldsworth': [135, 136, 137, 138, 139], 'antibiofilm': [136], 'prosopis': [136], 'extract': [136, 137, 353], 'preform': [136], 'biofilm': [136], 'clostridium': [136], 'difficile': [136], 'propionibacterium': [136, 137], 'acne': [136, 137], 'strain': [136, 363], 'select': [137], 'herbal': [137], 'causative': [137], 'agent': [137, 159], 'skin': [137], 'lesion': [137], 'role': [138, 263, 345, 346, 404, 427, 446, 501, 503], 'bacterial': [138], 'suicide': [138], 'response': [138, 157, 161, 264, 324, 337, 361, 433, 436, 469], 'antibiotic': [138, 139], 'sensitivity': [138, 139, 215, 467, 468, 484], 'growthphase': [139], 'related': [139], 'nonlinear': [140, 532], 'rans': [140, 532], 'nearwall': [140, 532], 'anisotropy': [140, 532], 'humberto': [140, 532], 'medina': [140, 532], 'particulate': [141, 143, 144, 478, 533, 535, 536], 'filter': [141, 143, 144, 168, 213, 290, 533, 535, 536], 'svetlana': [141, 142, 143, 144, 533, 534, 535, 536], 'aleksandrova': [141, 142, 143, 144, 533, 534, 535, 536], 'take': [142, 236, 534], 'porous': [142, 534], 'medium': [142, 256, 338, 534], 'monolith': [142, 534], 'multiple': [142, 195, 418, 446, 534], 'device': [142, 534], 'pressure': [143, 144, 183, 535, 536], 'loss': [143, 144, 156, 535, 536], 'gasoline': [143, 144, 535, 536], 'audit': [145, 146, 147, 300], 'committee': [145, 300], 'consider': [145, 146], 'expertise': [145], 'legal': [145, 254], 'gender': [145, 194, 218, 265, 326, 328, 345], 'salem': [145, 146, 147, 148], 'alhababsah': [145, 146, 147, 148], 'ownership': [146, 257], 'structure': [146, 257, 280, 472, 509, 529], 'recommendation': [147], 'code': [147], 'fair': [149], 'accounting': [149, 150, 182, 184, 185], 'relevance': [149], 'equity': [149], 'net': [149], 'european': [149, 172], 'alaa': [149, 150, 151], 'alhaj': [149, 150, 151], 'ismail': [149, 150, 151], 'sharebased': [150], 'shareoption': [151], 'base': [151, 154, 167, 213, 240, 322, 391, 453, 477], 'compensation': [151], 'expense': [151], 'shareholder': [151, 396], 'return': [151], 'instructive': [152], 'algorithm': [152, 323, 325, 450, 451, 452, 453], 'aircraft': [152, 153], 'elevator': [152], 'size': [152], 'preliminary': [152, 153], 'software': [152, 153], 'rashid': [152, 153, 154, 155], 'employ': [153], 'surface': [153], 'environmental': [154, 172, 235, 261, 368], 'altitude': [154], 'pem': [154, 155], 'cell': [154, 155, 157, 159, 161, 212, 214, 280, 316, 318, 365], 'uas': [154], 'validation': [155, 393, 485], 'selfhumidifying': [155], 'multipoint': [156], 'angle': [156], 'sense': [156, 441], 'avoidance': [156, 163], 'nadjim': [156], 'horri': [156], 'couple': [157, 322], 'drug': [157], 'kineticscell': [157], 'cycle': [157, 161], 'intervention': [157, 317, 431], 'topotecan': [157, 161], 'r': [157, 161, 240, 241], 'deterministic': [158], 'sublayer': [158], 'streak': [158], 'boundary': [158, 486], 'layer': [158, 466], 'reza': [158, 159, 160], 'proliferation': [159], 'anticancer': [159], 'bioinformatics': [160], 'encode': [160], 'interrogate': [160], 'timelapse': [160], 'microscopy': [160], 'image': [160, 221, 222, 374], 'pkpd': [161], 'humanrobot': [162, 164], 'contactless': [162], 'mixed': [162, 423], 'reality': [162, 274, 312, 314], 'interface': [162], 'khaled': [162, 163, 164, 165, 166], 'khudir': [162, 163, 164, 165, 166], 'task': [163, 323], 'priority': [163], 'matrix': [163, 432], 'acceleration': [163, 166, 222], 'collision': [163, 307, 474], 'relaxed': [163], 'constraint': [163], 'experience': [164, 195, 252, 273, 288, 311, 379, 426, 433, 434, 517, 519], 'safe': [164, 484, 485], 'stable': [165], 'torque': [165, 417, 418], 'redundant': [165], 'robot': [165, 166], 'short': [165], 'preview': [165], 'faster': [166], 'motion': [166], 'cartesian': [166], 'path': [166], 'exploit': [166, 324], 'redundancy': [166], 'photoplethysmography': [167, 168, 169, 170, 171], 'classification': [167, 486], 'peripheral': [167, 171], 'arterial': [167], 'disease': [167, 171], 'proofofconcept': [167], 'john': [167, 169, 170, 171], 'allen': [167, 169, 170, 171, 172], 'filteringinduced': [168], 'time': [168, 347, 404, 408, 451, 460, 505], 'shift': [168], 'pulse': [168], 'different': [168, 190, 199, 200, 269, 467], 'body': [168, 472, 511], 'site': [168, 230], 'importance': [168], 'definition': [168, 473], 'standardization': [168], 'haipeng': [168], 'liu': [168], 'frequency': [169, 291, 294, 382, 392], 'variability': [169, 260, 262], 'autonomic': [169], 'function': [169, 317], 'vascular': [171], 'dna': [172], 'reveals': [172], 'temporal': [172], 'extent': [172], 'spawn': [172], 'shad': [172], 'highly': [172, 485], 'fragment': [172, 251], 'river': [172], 'basin': [172], 'laura': [172], 'timing': [173], 'website': [173, 230], 'reconstruction': [173], 'tariq': [173, 174, 175], 'montaser': [173, 174, 175], 'adoption': [174], 'sdg': [174], 'nonenabling': [174], 'libyan': [174], 'sustainability': [175, 211, 230, 368, 371], 'updateability': [175], 'webbased': [175, 473], 'formulation': [176], 'complex': [176], 'surrogate': [176], 'mansour': [176, 177, 178, 180], 'qubeissi': [176, 177, 178, 180], 'precombustion': [177], 'discrete': [177], 'multicomponent': [177], 'autoselection': [178], 'quasicomponentscomponents': [178], 'multidimensional': [178], 'quasidiscrete': [178], 'current': [179, 294, 446, 526], 'status': [179, 264], 'potential': [179], 'tire': [179], 'pyrolysis': [179], 'alternative': [179], 'farooq': [179], 'sher': [179], 'doublepass': [180], 'photovoltaicthermal': [180], 'air': [180, 488], 'computational': [180, 310], 'fluid': [180], 'multiobjective': [180], 'city': [181, 182, 184, 211, 349, 350, 387, 389, 510, 526], 'egyptian': [181, 183, 185, 346], 'council': [181], 'loai': [181, 182, 183, 184, 185], 'alsaid': [181, 182, 183, 184, 185], 'unfold': [182], 'sustainable': [182, 244, 259, 322, 360, 422, 518, 519], 'implementation': [183, 475, 479, 513], 'governmentality': [184], 'politics': [184], 'structural': [185, 276, 304, 397], 'reform': [185], 'electricity': [185, 211], 'intruder': [188], 'sallami': [188, 189, 190], 'regularshaped': [189], 'geometrybased': [189], 'stochastic': [189, 450, 451, 453], 'vehicletovehicle': [189], 'ofdm': [190], 'wpofdm': [190], 'lexiconbased': [191], 'detect': [191], 'suiciderelated': [191], 'message': [191], 'twitter': [191, 337, 429, 431, 504], 'hosam': [191, 192, 193, 194, 195], 'alsamarraie': [191, 192, 193, 194, 195], 'lead': [192, 219, 354], 'occupational': [192, 509], 'injury': [192, 470, 473], 'fatality': [192], 'einfluss': [193], 'der': [193], 'interpersonellen': [193], 'attraktion': [193], 'und': [193], 'homophilie': [193], 'eines': [193], 'trainer': [193], 'auf': [193], 'die': [193], 'motivation': [193], 'von': [193], 'jugendfußballspielern': [193], 'hofstedes': [194], 'culture': [194, 423], 'difference': [194, 410, 444], 'ui': [194], 'satisfaction': [194, 241], 'immediacy': [195], 'context': [195, 228, 243, 300, 346, 347, 440, 447, 504, 513], 'story': [196], 'lecturer': [196, 439], 'fantastic': [196], 'hypothetical': [196], 'event': [196, 342, 511], 'hilary': [196], 'nesi': [196], 'us': [197], 'corpus': [197], 'linguistics': [197], 'adjustable': [197], 'lens': [197, 349], 'sian': [197, 198, 199, 200], 'alsop': [197, 198, 199, 200], 'corpusdriven': [198, 199, 200], 'investigation': [198, 236, 239, 282, 375], 'connection': [198], 'language': [198, 199, 200, 296], 'feedback': [198, 199, 200, 255], 'ethnic': [198], 'attainment': [198, 199, 200], 'disparity': [198, 199, 200], 'background': [199, 200], 'align': [201, 202], 'marketing': [201, 202, 205], 'alsurmi': [201, 202, 203, 204, 205], 'strategic': [203, 204, 205, 207, 359], 'orientation': [203], 'triadic': [203, 204, 205], 'alignment': [203, 204, 205], 'localize': [206], 'transparency': [206], 'eiti': [206], '“': [206, 242, 265, 266, 357], 'penkelemes': [206], '”': [206, 242, 265, 266, 357], 'ambisisi': [206, 207, 208, 209, 210, 359], 'ambituuni': [206, 207, 208, 209, 210, 359], 'hrm': [207, 359], 'operational': [207, 210, 359, 454], 'enable': [207, 245, 359, 519], 'agility': [207, 359], 'pbos': [207, 359], 'manage': [207, 209, 315, 359], 'paradoxical': [207, 359], 'tension': [207, 210, 359, 416], 'deliver': [208], 'major': [208], 'effectively': [208], 'efficiently': [208], 'dilemma': [210], 'safetycritical': [210], 'organizational': [210, 346, 416, 456], 'reputational': [210], 'concern': [210], 'effective': [210, 280, 302, 438, 451], 'enforce': [211], 'supply': [211, 360, 370, 430], 'spain': [211], 'saud': [211], 'sattar': [211], 'optimal': [212, 290], 'tab': [212], 'cylindrical': [212], 'lithiumion': [212, 213, 215, 423], 'battery': [212, 213, 215, 423], 'cheng': [212], 'zhang': [212], 'state': [213], 'charge': [213, 353, 391], 'intelligent': [213], 'extend': [213], 'kalman': [213], 'noise': [213], 'estimator': [213, 473], 'chongming': [213], 'wang': [213], 'identify': [214, 439], 'liion': [214], 'ultrasound': [214], 'acoustic': [214], 'tazdin': [214, 215], 'amietszajew': [214, 215], 'concept': [215], 'lithium': [215], 'plat': [215], 'travel': [216], 'behavior': [216], 'cause': [216], 'shohel': [216, 217, 218, 219, 220], 'amin': [216, 217, 218, 219, 220], 'program': [217, 453], 'emergency': [217], 'aftermath': [217], 'freight': [217], 'train': [217], 'accident': [217, 218], 'involve': [217], 'hazardous': [217], 'material': [217], 'backpropagation': [218], 'bpann': [218], 'old': [218, 250], 'west': [218, 260, 262, 265, 328], 'midland': [218], 'colour': [219], 'night': [219], 'urban': [219, 350], 'street': [219], 'partnight': [219], 'feasibility': [220], 'date': [220], 'palm': [220], 'bitumen': [220], 'biomodifier': [220], 'hma': [220], 'pavement': [220], 'semisupervised': [221], 'segmentation': [221], 'satellite': [221], 'sara': [221], 'sharifzadeh': [221], 'fpgabased': [222], 'processor': [222], 'processing': [222], 'sam': [222, 223, 224, 225], 'amiri': [222, 223, 224, 225], 'simultaneous': [223, 224, 478], 'multiprocessing': [223, 224], 'softwaredefined': [223, 224], 'fpga': [223, 224], 'correction': [224], 'multiprecision': [225], 'hardware': [225, 479], 'diaspora': [226, 446, 447], 'entrepreneur': [226, 229], 'push': [226], 'pull': [226], 'invest': [226], 'africa': [226, 260, 262, 265, 267, 278, 295, 306, 513], 'returnees': [226], 'isaac': [226, 227, 228, 229, 230], 'oduro': [226, 227, 228, 229, 230], 'amoako': [226, 227, 228, 229, 230], 'get': [227, 497], 'personal': [227, 272], 'issue': [227, 456], 'trust': [227, 228, 229], 'distrust': [227], 'mediumsized': [227], 'court': [228], 'dont': [228], 'know': [229], 'family': [229], 'workplace': [229, 379], 'credit': [229, 271], 'compare': [230], 'newmont': [230], 'mining': [230], 'corporation': [230], 'plant': [230], 'examine': [231, 439], 'cronobacter': [231], 'spp': [231], 'readytoeat': [231], 'edible': [231], 'insect': [231], 'amund': [231, 232, 233, 234, 235], 'transmissibility': [232], 'tetw': [232], 'bifidobacteria': [232, 234], 'expose': [232], 'acid': [232, 385], 'bile': [232], 'sugar': [233], 'cocoa': [233], 'sweet': [233], 'synergy': [233], 'bitter': [233], 'antagonism': [233], 'formulate': [233], 'chocolate': [233], 'product': [233], 'narrative': [233], 'exposure': [234, 235], 'technological': [234], 'gastrointestinal': [234], 'probiotic': [234], 'lactobacillus': [234], 'bifidobacterium': [235], 'animalis': [235], 'ssp': [235], 'lactis': [235], 'food': [236, 242, 243, 244, 345, 522], 'wastage': [236], 'chinese': [236, 256, 327, 506], 'university': [236, 248, 272, 298, 348, 441, 519], 'agricultural': [236], 'x': [236], 'style': [237, 239, 240], 'rachid': [237, 238, 239], 'anane': [237, 238, 239, 240, 241], 'usability': [238, 240], 'effectiveness': [238, 378], 'adaptivity': [238, 239], 'elearning': [238, 239, 240], 'learner': [240], 'stylebased': [241], 'imperative': [242], 'struggle': [242], 'agroecology': [242, 244, 245], 'arena': [242], 'colin': [242, 244, 246], 'anderson': [242, 244, 245, 246, 247, 248, 249, 250, 251], 'fivepoint': [243], 'reading': [243], 'justice': [243, 266, 433, 436], 'discourse': [243, 337, 462], 'britain': [243, 284, 327], 'chris': [243], 'maughan': [243], 'transformation': [244, 245, 357, 449], 'connect': [245], 'dot': [245], 'cr': [245, 365], 'confront': [246], 'interpersonal': [246], 'internalize': [246], 'perform': [246], 'critical': [246, 290, 448, 466], 'scholarship': [246, 463], 'unnoticed': [247], 'pun': [247], 'hipponax': [247], 'fr': [247], '3a': [247], 'w': [247], 'eric': [248], 'csapo': [248], 'peter': [248], 'wilson': [248, 437, 518], 'theatre': [248], '300': [248], 'bc': [248], 'vol': [248], 'ii': [248, 400], 'athens': [248], 'document': [248], 'translation': [248], 'commentary': [248], 'cambridge': [248], 'press': [248], '2020': [248, 491], 'pp': [248, 250, 251], 'xix': [248], '939': [248], 'isbn': [248, 250, 251], '9780521765572': [248], '20000': [248], 'semantic': [249], 'satiation': [249], 'poetic': [249], 'crate': [250], 'playwright': [250], 'comedy': [250], 'perrone': [250], 'cratete': [250], 'introduzione': [250], 'traduzione': [250], 'e': [250, 467, 468], 'commento': [250], 'fragmenta': [250], 'comica': [250], '277': [250, 251], 'göttingen': [250], 'verlag': [250], 'antike': [250], '2019': [250, 251, 395], '€6499': [250], '9783946317470': [250], 'greek': [251], 'tragedy': [251], 'wright': [251], 'lose': [251], 'play': [251], 'neglect': [251], 'author': [251], 'xxx': [251], 'york': [251], 'bloomsbury': [251], 'academic': [251, 445], '2016': [251, 511], 'paper': [251, 378], '£2199': [251], '£85': [251], '9781472567758': [251], '9781472567765': [251], 'hbk': [251], 'aeschylus': [251], 'sophocles': [251], 'euripides': [251], 'xii': [251], '308': [251], '£1999': [251], 'us2695': [251], '£65': [251], 'us88': [251], '9781474276474': [251], '9781474276467': [251], 'need': [252, 320, 337, 438], 'permission': [252], 'selfcare': [252], 'selfcompassion': [252], 'nursing': [252, 403], 'constructivist': [252], 'ground': [252, 406], 'hannah': [252], 'andrew': [252, 340, 508], 'regulatory': [253], 'moodcongruence': [253], 'herd': [253], 'cannabis': [253], 'panagiotis': [253, 257], 'andrikopoulos': [253, 255, 257], 'shadow': [254], 'transplantation': [254], 'takeover': [254, 507], 'defence': [254], 'wangwei': [254], 'lin': [254], 'trading': [255], 'ramadan': [255], 'frontier': [255, 521], 'panos': [255], 'supervision': [256], 'examination': [256], 'list': [256, 257], 'dongmei': [256], 'cao': [256], 'asymmetry': [257], 'nonfinancial': [257], 'sp500': [257], 'vary': [258], 'lateral': [258], 'release': [258], 'slick': [258], 'transport': [258], 'tidedominated': [258], 'estuary': [258], 'babatunde': [258, 259, 261], 'anifowose': [258, 259, 261], 'crude': [259], 'natural': [259, 520], 'key': [259, 489], 'nearterm': [260], 'climate': [260, 262], 'hydrological': [260], 'central': [260, 262, 301], 'bastien': [260, 262, 470, 472, 473, 474], 'dieppois': [260, 262], 'poverty': [261], 'extractive': [261], 'interannual': [262], 'multidecadal': [262], 'streamflow': [262], 'catchment': [262], 'largescale': [262], 'shrink': [263], 'civic': [263], 'space': [263, 324, 527], 'civil': [263, 460], 'society': [263, 460], 'resolution': [263], 'anglophone': [263], 'cameroon': [263], 'gordon': [263], 'crawford': [263], 'overview': [264], 'standby': [264], 'force': [264], 'capacity': [264], 'immediate': [264], 'nancy': [264, 265, 266, 267], 'annan': [264, 265, 266, 267], 'hybridity': [265, 266], 'contribution': [265, 427], 'hybrid': [265, 391], 'order': [265], 'expression': [266], 'provision': [266], 'peace': [267, 446, 449], 'support': [267, 275, 313, 361, 377, 392], 'comparison': [269, 290], 'solar': [269], 'pv': [269], 'converter': [269, 395], 'transfer': [270], 'relay': [270], 'resonator': [270], 'chitta': [270], 'saha': [270], 'lindsey': [271, 272, 273, 275, 311, 313, 315], 'appleyard': [271, 272, 273, 275, 311, 313, 315], 'live': [273, 311], 'financialization': [273, 311], 'fringe': [273, 311], 'rationality': [274, 312], 'muddle': [274, 312], 'messy': [274, 312, 314], 'emotional': [274, 312], 'decisionmaking': [274, 297, 312], 'sally': [274, 312, 314, 379], 'dibb': [274, 312, 314], 'great': [275, 313], 'wellbeing': [275, 313, 377, 440, 516], 'predict': [276, 304], 'two': [276, 304, 353, 453], 'dimensional': [276, 304], 'deji': [276, 277, 278, 295, 304, 305, 306], 'aremu': [276, 277, 278, 279, 280, 295, 304, 305, 306], 'pythonic': [277, 305], 'voxelizing': [277, 305], 'stereolithographic': [277, 305], 'manufacturing': [278, 279, 295, 306, 360, 477], 'subsaharan': [278, 295, 306], 'parameter': [279], 'metalbased': [279], 'adedeji': [279, 280], 'surfacebased': [280], 'lattice': [280], 'grade': [280], 'pullout': [281], 'chemical': [281], 'anchor': [281], 'bolt': [281], 'fibre': [281, 333], 'concrete': [281], 'balaji': [281, 282], 'aresh': [281, 282], 'rock': [282], 'mechanic': [282], 'finite': [282], 'element': [282], 'show': [283], 'must': [283], 'go': [283, 434, 459], 'british': [283, 371], 'creative': [283, 284, 330, 426, 427, 428], 'james': [283, 284, 307, 444], 'silverwood': [283, 284], 'camera': [284], 'action': [284], 'modern': [284], 'minigames': [285, 289], 'microlearning': [285, 289], 'professional': [285, 298, 308, 309, 329, 459], 'multicultural': [285, 289], 'organisation': [285, 289, 329, 499], 'sylvester': [285, 286, 287, 289, 492, 495], 'arnab': [285, 286, 287, 289, 492, 495], 'gamebased': [286], 'mechanical': [286, 333, 373, 376], 'engineering': [286], 'nudge': [287], 'citizen': [287], 'initiative': [287, 515], 'outbreak': [287], 'malaysia': [287], 'science': [288], 'teacher': [288, 308, 309], 'inquirybased': [288], 'serious': [288], 'game': [288, 456, 495], 'phenomenographic': [288], 'petros': [288], 'lameras': [288], 'educational': [289], 'cultural': [289, 341], 'gaussian': [290, 484, 486], 'approximate': [290], 'coordinatefree': [290], 'dual': [290], 'arvanitakis': [290, 291, 293, 294], 'broken': [291, 293], 'rotor': [291, 293, 294], 'bar': [291, 293], 'induction': [291, 293, 294], 'motor': [291, 294], 'extraction': [291, 294, 474], 'stray': [291], 'flux': [291], 'ioannis': [291, 293], 'robotic': [292], 'search': [292], 'rescue': [292], 'nazmul': [292], 'huda': [292], 'fem': [293], 'diagnosis': [293], 'nonadjacent': [293], 'shorttime': [293], 'fourier': [293], 'transform': [293], 'spectral': [294], 'component': [294], 'fault': [294], 'communal': [296], 'invasion': [296], 'sport': [296, 297, 459], 'mike': [296, 297, 298, 299, 418], 'ashford': [296, 297, 298, 299], 'player': [297, 298, 299], 'rugby': [298, 299], 'union': [298, 299], 'competitive': [298], 'match': [298], 'rule': [299], 'modification': [299], 'talent': [299], 'identification': [299, 486], 'football': [299, 457], 'wellington': [299], 'academy': [299], 'festival': [299], 'accountability': [300], 'analyst': [300, 303], 'folajimi': [300, 301, 302, 303], 'ashiru': [300, 301, 302, 303], 'banking': [301], 'dependence': [301], 'board': [302, 303, 419], 'idiosyncratic': [303], 'antecedent': [303], 'modeltodecision': [307], 'convoy': [307], 'pickering': [307], 'stem': [308, 309], 'outreach': [308, 309], 'farzana': [308, 309, 310], 'aslam': [308, 309, 310], 'characterisation': [310], 'absorption': [310], 'cdse': [310], 'nanostructure': [310], 'reduce': [314], 'vulnerability': [314, 390, 513], 'money': [315], 'active': [316, 393], 'hhv6': [316], 'infection': [316, 320], 'cerebellar': [316], 'purkinje': [316], 'mood': [316], 'disorder': [316, 401, 517], 'richard': [316, 317, 318, 319, 320, 475, 476, 477, 482], 'aspinall': [316, 317, 318, 319, 320], 'restore': [317], 'appropriate': [317], 'immune': [317, 325, 351], 'elderly': [317], 'perturbation': [318], 'receptor': [318, 351, 352], 'repertoire': [318], 'occurs': [318], 'increase': [318, 460], 'age': [318, 340, 345, 406], 'dog': [318, 319], 'polymorphism': [319], 'canine': [319], 'il7r': [319], '3′utr': [319], 'thymic': [319], 'labrador': [319], 'retriever': [319], 'posttranscriptional': [319], 'microrna': [319], '185': [319], 'burden': [320], 'chikungunya': [320], 'virus': [320], 'geriatricspecific': [320], 'epidemiological': [320], 'monitoring': [320], 'iotenabled': [321], 'intensitycontrolled': [321], 'seamless': [321], 'highway': [321], 'taufiq': [321, 322, 324, 325], 'asyhari': [321, 322, 324, 325], 'solve': [322], 'sensorcloud': [322], 'fog': [322], 'compute': [322], 'computation': [323], 'genetic': [323, 325], 'ibnu': [323], 'febry': [323], 'kurniawan': [323], 'cyberenabled': [324], 'missioncritical': [324], 'postflood': [324], 'tv': [324], 'white': [324], 'backhaul': [324], 'integration': [325], 'logistics': [325, 368, 370, 371], 'terminal': [325], 'ceo': [326], 'pay': [326], 'dependent': [326, 444], 'eno': [326], 'maycock': [326], 'christian': [327], 'community': [327, 492, 495, 502, 503], 'belonging': [327, 441], 'division': [327], 'kristin': [327, 328, 329, 330, 331], 'aune': [327, 328, 329, 330, 331], 'domestic': [328], 'abuse': [328], 'victimisation': [328], 'churchgoer': [328], 'north': [328], 'england': [328, 378], 'church': [328], 'gendered': [328], 'silence': [328], 'modest': [329, 330], 'fashion': [329, 330, 501], 'employer': [329], 'hr': [329], 'religious': [329], 'policymakers': [329], 'art': [330, 528], 'religion': [331, 443], 'beliefrelated': [331], 'hate': [331], 'incident': [331], 'austin': [332, 334, 335, 336], 'durability': [333], 'lowdensity': [333, 351], 'well': [333, 426], 'cement': [333], 'composite': [333, 361], 'reinforce': [333], 'cellulose': [333], 'microstructural': [333], 'morteza': [333], 'khorami': [333], 'realtime': [334], 'overseas': [334], 'partnership': [334], 'allow': [335], 'fail': [335, 449], 'safely': [335], 'soft': [336], 'skill': [336, 403], 'hard': [336], 'hat': [336], 'tiktok': [337], 'platformspecific': [337], 'technocultural': [337], 'taylor': [337], 'swift': [337], 'lgbtq': [337], 'allyship': [337], 'calm': [337], 'melissa': [337, 338, 339, 340, 341], 'avdeeff': [337, 338, 339, 340, 341], 'beyoncé': [338], 'authenticity': [338, 339], 'presentation': [338], 'music': [339], 'twilight': [339], 'battling': [339], 'digital': [340, 343, 357], 'dubber': [340], 'ringtone': [341], 'dialectic': [341], 'form': [341], 'sumanth': [341], 'gopinath': [341], 'groundwater': [342], 'volcanic': [342], 'seismic': [342], 'mt': [342], 'etna': [342], 'southern': [342], 'italy': [342], 'simone': [342], 'salvatore': [342], 'aveni': [342], 'bcfl': [343], 'log': [343], 'acquire': [343], 'preserve': [343], 'admissible': [343], 'forensics': [343], 'cloud': [343], 'kenny': [343], 'awuson': [343], 'david': [343, 457, 459, 513, 514, 515], 'ramus': [344, 345, 346, 347, 348], 'ayoubi': [344, 345, 346, 347, 348], 'revisit': [345, 349, 358, 406], 'subjective': [345], 'objective': [345], 'organic': [345], 'programme': [346], 'school': [347, 492], 'egypt': [347, 358], 'similar': [347], 'middleeastern': [347], 'choice': [348, 434], 'kurdistaniraq': [348], 'pillar': [349], '4': [349], 'young': [349, 403, 440], 'equal': [349], 'amman': [349], 'participatory': [349, 492, 503], 'inclusive': [349, 437], 'rana': [349, 350], 'aytug': [349, 350], 'rise': [350], 'century': [350, 509], 'fcr': [351], 'chain': [351, 360, 370, 430, 454], 'mediates': [351], 'cd36oxidized': [351], 'lipoproteininduced': [351], 'platelet': [351], 'activation': [351], 'thrombosis': [351], 'hoor': [351, 352, 353], 'ayub': [351, 352, 353], 'calcitonin': [352], 'generelated': [352], 'peptide': [352], 'adrenomedullin': [352], 'cd81': [353], 'smalp': [353], 'nanodiscs': [353], 'comprises': [353], 'distinct': [353], 'protein': [353], 'lipid': [353], 'enrich': [353], 'negatively': [353], 'headgroups': [353], 'remote': [354], 'manager': [354, 367, 369, 429], 'spy': [354], 'staff': [354], 'three': [354], 'way': [354, 442, 515, 531], 'evronia': [354, 355, 356, 357, 358], 'azer': [354, 355, 356, 357, 358], 'icts': [355], 'oppressor': [355], 'oppression': [356], 'liberation': [356], 'digitisation': [356], 'good': [357, 380], 'see': [357, 512, 523], 'ictenabled': [358], 'activism': [358], 'grassroots': [358], 'right': [358], 'group': [358, 435, 507], 'iranian': [360], 'company': [360], 'maryam': [360], 'azizsafaei': [360], 'reciprocally': [361], 'advanced': [361], 'frp': [361], 'frame': [361], 'part': [361, 400], 'echekwumemchukwu': [361], 'emmanuel': [361], 'badifu': [361], 'geotechnical': [362], 'clay': [362, 363, 364, 366], 'isle': [362], 'sheppey': [362], 'meghdad': [362, 363, 364, 365, 366], 'bagheri': [362, 363, 364, 365, 366], 'combine': [363], 'moisture': [363], 'content': [363, 499], 'stiffness': [363], 'compact': [363], 'sandclay': [363], 'mixture': [363], 'creep': [364], 'consolidation': [364], 'stiff': [364], 'saturate': [364], 'unsaturated': [364, 365, 366], 'oedometer': [365], 'nonisothermal': [365], 'ratedependency': [366], 'stressrelaxation': [366], 'gamification': [367, 369], 'warehouse': [367, 369], 'witold': [367, 368, 369, 370, 371], 'bahr': [367, 368, 369, 370, 371], 'followup': [368], 'stage': [368, 371, 453], 'purchasing': [368, 371], 'shipper': [368, 371], '3pls': [368], 'green': [371, 502, 503, 504], 'follow': [371, 434], 'forwarders': [371], 'correlation': [372], 'formation': [372], 'tribofilm': [372], 'repassivation': [372], 'biomedical': [372], 'tribocorrosion': [372], 'mingwen': [372, 373, 374, 375, 376], 'bai': [372, 373, 374, 375, 376], 'zrb2': [373, 376], 'powder': [373], 'densification': [373, 376], 'microstructure': [373, 376], 'conductivity': [373], 'zrb2sic': [373], 'ceramic': [373, 376], 'evolution': [374, 389, 420], 'suspension': [374], 'sprayed': [374, 375], 'ysz': [374], 'barrier': [374], 'coating': [374, 375, 382], 'neutron': [374], 'scatter': [374], 'chlorineinduced': [375], 'corrosion': [375], 'hvof': [375], 'stellite6': [375], 'nial': [375], 'fluidised': [375], 'bed': [375], 'biomassanthracite': [375], 'combustion': [375], 'tib2': [376], 'crb2': [376], 'association': [377], 'mental': [377, 381, 403, 440], 'selfefficacy': [377], 'firsttime': [377], 'antenatal': [377], 'babble': [377], 'cohort': [377], 'jane': [377, 381, 411, 413, 414, 415, 443], 'coad': [377, 381], 'evaluate': [378], 'best': [378, 405, 496, 498, 499, 500], 'beginning': [378], 'baby': [378, 381], 'buddy': [378, 381], 'phone': [378], 'app': [378, 381], 'elizabeth': [378, 527, 528, 529, 530, 531], 'bailey': [378], 'childbearing': [379], 'midwife': [379], 'distress': [379], 'patient': [379], 'pezaro': [379], 'care': [380, 405, 450], 'fgm': [380, 432], 'hazel': [380, 432], 'barrett': [380, 432], 'perinatal': [381], 'focus': [381], 'film': [381], 'electroless': [382], 'deposition': [382, 383], 'nickelboron': [382], 'ultrasonic': [382, 385], 'agitation': [382], 'narinder': [382, 383, 384, 385], 'bains': [382, 383, 384, 385], 'concentration': [383], 'copper': [383, 419], 'enface': [383], 'electrolyte': [383], 'inhibition': [384], 'microbial': [384], 'cellular': [384], 'substance': [384], 'singh': [384], 'aerobic': [385], 'lactic': [385], 'bacteria': [385, 423], 'dairy': [385], 'desludge': [385], 'compress': [385], 'gang': [386, 387, 389, 390], 'masculinity': [386, 387], 'murder': [386], 'trinidad': [386, 390], 'baird': [386, 387, 388, 389, 390], 'man': [387], 'kill': [387], 'nutin': [387], 'transnationalism': [387, 389], 'violence': [387, 390, 433, 434, 435, 436], 'belize': [387, 389, 390], 'manual': [388], 'para': [388, 482], 'la': [388], 'elaboración': [388], 'de': [388, 482], 'perfiles': [388], 'municiones': [388], 'armas': [388], 'pequeñas': [388], 'fourth': [389], 'corner': [389], 'triangle': [389], 'fragmentation': [389], 'homicide': [390], 'boom': [390], 'photovoltaicfed': [391], 'dcbus': [391], 'islanded': [391], 'electric': [391, 508], 'senthooran': [391, 392, 394], 'balasubramaniam': [391, 392, 393, 394, 395], 'fast': [392, 418], 'wideband': [393], 'ssr': [393], 'damp': [393], 'seriescompensated': [393], 'transformerless': [394], 'series': [394], 'compensators': [394], 'average': [395], 'mvdc': [395], 'harmonic': [395], 'ieee': [395], 'milan': [395], 'powertech': [395], 'profitsharing': [396], 'account': [396], 'wealth': [396], 'ken': [396], 'baldwin': [396, 397, 398, 399, 400, 401, 402, 403, 404, 405], 'alpha': [397], 'capital': [397], 'adequacy': [397], 'ratio': [397], 'kenneth': [397, 398, 399, 400], 'refinance': [399], 'real': [400], 'estate': [400], 'anxiety': [401], 'neurodevelopmental': [401], 'laurence': [401, 402, 403, 404, 405], 'worry': [402], 'selfharm': [402], 'suicidal': [402], 'thought': [402], 'child': [403], 'people': [403, 440], 'implement': [405], 'adhd': [405], 'clinical': [405], 'guideline': [405], 'setting': [405], 'delphi': [405], 'mixedmethods': [405], 'zero': [406], 'museum': [406, 410], 'materiality': [406], 'pandemic': [406], 'lindsay': [406, 407, 408, 409, 410], 'balfour': [406, 407, 408, 409, 410], 'traumatic': [407, 470], 'ruin': [407], 'archeology': [407], 'sound': [407], 'william': [407], 'basinskis': [407], 'disintegration': [407], 'loop': [407], 'terror': [408], 'stranger': [408], 'gate': [408], 'risky': [409], 'cosmopolitanism': [409], 'intimacy': [409], 'autoimmunity': [409], 'reluctant': [409], 'fundamentalist': [409], 'unlikely': [410], 'cryptfellows': [410], 'spectrality': [410], '911': [410], 'fiddlehead': [411], 'frond': [411], 'ball': [411, 413, 414, 415, 416], 'six': [412], 'artist': [412, 414], 'celebrate': [412], 'enid': [412], 'marx': [412], 'jill': [412], 'journeaux': [412], 'carousel': [413], 'ruination': [413], 'reconnection': [413], 'henry': [414, 426, 427, 428], 'beck': [414, 496, 497, 498, 499, 500], 'engineer': [414], 'photographer': [414], 'goal': [415, 518, 519], 'arise': [416], 'mandatory': [416], 'private': [416], 'kirstie': [416], 'nonconvex': [417], 'allocation': [417], 'energyefficient': [417, 418], 'distributor': [417], 'onroad': [417], 'offroad': [417], 'brandon': [417], 'ballard': [417], 'amongst': [418], 'drivetrains': [418], 'blundell': [418], 'closedloop': [419], 'recycle': [419], 'waste': [419, 420], 'circuit': [419], 'bioleaching': [419, 422, 423], 'electrowinning': [419], 'mahsa': [419, 420, 421, 422, 423], 'baniasadi': [419, 420, 421, 422, 423], 'biocyanidation': [420], 'metal': [420, 422, 469], 'recovery': [420, 422], 'solid': [420], 'comprehensive': [421], 'bioremediation': [421], 'spill': [421], 'advance': [422], 'ewaste': [422], 'adapt': [423], 'acidophilic': [423], 'twostep': [423], 'spent': [423], 'laptop': [423], 'opening': [424], 'closing': [424], 'contractual': [424], 'frano': [424, 425], 'barbic': [424, 425], 'multipartner': [425], 'rd': [425], 'alliance': [425], 'coordination': [425], 'freelancer': [426], 'nick': [426, 427, 428], 'create': [427], 'place': [427, 518, 527], 'freelance': [427], 'creation': [428], 'microenterprise': [428], 'reflection': [429], 'pilot': [429], 'kate': [429, 430, 431], 'barnettrichards': [429, 430, 431], 'interprofessional': [430], 'classroom': [430], 'pscmchat': [431], 'female': [432], 'genital': [432], 'mutilation': [432], 'arab': [432], 'league': [432, 457], 'region': [432], 'sexual': [433, 435, 436], 'genderbased': [433, 435, 436], 'torture': [433, 435, 436], 'sudanese': [433, 435, 436], 'refugee': [433, 435, 436], 'uganda': [433, 435, 436], 'helen': [433, 435, 436], 'liebling': [433, 435, 436], 'available': [434], 'south': [434, 435, 436, 513], 'asian': [434], 'heritage': [434], 'leave': [434], 'intimate': [434], 'partner': [434], 'ipv': [434], 'kindy': [434], 'sandhu': [434], 'survivor': [435, 436], 'settlement': [435], 'narrow': [437], 'participation': [437, 461], 'advice': [437], 'guidance': [437], 'caroline': [437, 518], 'educate': [438], 'expectation': [438, 497], 'large': [438], 'inform': [438], 'craig': [438, 439, 440, 441], 'bartle': [438, 439, 440, 441], 'outstanding': [439], 'lesson': [439], 'provide': [439, 519], 'first': [439, 497, 512, 523], 'general': [440], 'networking': [441], 'facilitate': [441], 'campus': [441], 'atheist': [442], 'santiago': [442], 'miguel': [442], 'farias': [442], 'researcher': [443], 'degree': [443], 'freedom': [443], 'sarah': [443], 'charles': [443], 'smoking': [444], 'habit': [444], 'attentional': [444], 'bias': [444], 'nicotine': [444], 'nondependent': [444], 'smoker': [444], 'bartlett': [444], 'journalist': [445], 'methodological': [445], 'consideration': [445], 'bahar': [445, 446, 447, 448, 449], 'baser': [445, 446, 447, 448, 449], 'debate': [446], 'ozturk': [446, 449], 'negative': [447], 'diplomacy': [447], 'transnational': [447], 'authoritarianism': [447], 'referendum': [448], 'party': [448], 'gamble': [448], 'kurdish': [448], 'independence': [448], 'asymmetric': [449], 'critique': [449], 'turkishkurdish': [449], 'matheuristic': [450], 'bashiri': [450, 451, 452, 453, 454], 'progressive': [451, 453], 'twolayers': [451], 'window': [451], 'assignment': [451], 'twostage': [452], 'robust': [452], 'hub': [452, 454], 'bender': [452], 'decomposition': [452], 'asset': [453], 'protection': [453, 466], 'solution': [453], 'bidding': [455], 'google': [455], 'trend': [455], 'interest': [455], 'olympic': [455, 456, 458], 'bidder': [455], 'tom': [455, 456, 458], 'bason': [455, 456, 458], 'portfolio': [457], 'english': [457], 'efl': [457], 'club': [457], 'cook': [457, 459], 'every': [458], 'loser': [458], 'win': [458], 'leverage': [458], 'unsuccessful': [458], 'bid': [458], 'benefit': [458, 503], 'core': [459, 481], 'popup': [460], 'shop': [460], 'employability': [460], 'contribute': [460], 'austerity': [460], 'tina': [460, 461, 462, 463, 464], 'bass': [460, 461, 462, 463, 464], 'employee': [461], 'everything': [462], 'textbook': [462], 'true': [462], 'undergraduate': [462], 'ethically': [463], 'mind': [463], 'ethical': [463], 'manner': [463], 'mouthings': [464], 'conversation': [464], 'bayesian': [466], 'subsea': [466], 'compression': [466], 'nanomaterials': [467], 'operating': [467], 'enobong': [467, 468, 469], 'bassey': [467, 468, 469], 'methanol': [468], 'sno2zno': [468], 'nanocomposite': [468], 'cleaning': [469], 'oxide': [469], 'sensor': [469], 'generalizabilty': [469], 'generic': [470], 'brain': [470, 473], 'trauma': [470, 473], 'computer': [470], 'ass': [470], 'severity': [470], 'bridging': [470], 'vein': [470], 'rupture': [470], 'fall': [470], 'christophe': [470, 472, 473, 474], 'crash': [471], 'lightweight': [471], 'huw': [471], 'davy': [471], 'sedan': [472], 'overlap': [472], 'rating': [472], 'peak': [473], 'jsol': [473], 'thums': [473], 'postprocessor': [473], 'cross': [474], 'speed': [474], 'cut': [475], 'machining': [475], 'bateman': [475, 476, 477], 'energysmart': [476], 'eproman': [476], 'big': [476], 'energyresource': [477], 'inprocess': [477], 'eulerianlagrangian': [478], 'velocity': [478], 'pipe': [478], 'transitional': [478], 'alban': [478, 481], 'potherat': [478], 'constraintsbased': [479], 'esc': [479], 'thermoelectric': [479], 'generator': [479], 'bates': [479, 480, 482], 'little': [481], 'earth': [481], 'experiment': [481], 'planetary': [481], 'pothérat': [481], 'atuador': [482], 'engrenagens': [482], 'com': [482], 'um': [482], 'ponto': [482], 'apoio': [482], 'barras': [482], 'comando': [482], 'joseph': [482], 'ian': [482], 'ensure': [483, 485], 'selfdriving': [483], 'car': [483], 'world': [483, 510, 518], 'felix': [483, 484, 485, 486], 'batsch': [483, 484, 485, 486], 'automate': [484, 485, 486], 'taxonomy': [485], 'belarus': [487, 488, 489, 491], 'election': [487, 488, 491], 'contest': [487, 527], 'spark': [487], 'massive': [487], 'unrest': [487], 'last': [487, 488], 'dictator': [487, 488], 'claim': [487, 488], 'victory': [487, 488], 'balki': [487, 488, 489, 490, 491], 'begumhan': [487, 488, 489, 490, 491], 'bayhan': [487, 488, 489, 490, 491], 'determination': [489], 'unity': [489], 'success': [489], 'revolution': [489], 'populism': [490], 'femicide': [490], 'turkey': [490], 'presidential': [491], 'lukashenko': [491], 'moment': [491], 'reckon': [491], 'cocreation': [492], 'rural': [492, 495, 508], 'indigenous': [492, 495], 'sarawak': [492], 'storyoriented': [493], 'michael': [493, 494], 'loizou': [493, 494], 'blending': [494], 'contextaware': [494], 'think': [495], 'village': [495], 'section': [496, 498, 499, 500], 'martin': [496, 497, 498, 499, 500], 'meet': [497], 'graduate': [497], 'job': [497], 'assurance': [498], 'curriculum': [499], 'progression': [500], 'achievement': [500], 'tbt': [501], 'nostalgia': [501], 'slow': [501], 'consumption': [501], 'rebecca': [501, 502, 503, 504, 505], 'beech': [501, 502, 503, 504, 505], 'share': [502, 503], 'disempowerment': [502], 'clothing': [502, 503, 504], 'hedonic': [503], 'undertaking': [505], 'viva': [505], 'preparation': [505], 'unprecedented': [505], 'fdi': [506], 'producer': [506], 'aggregate': [506], 'subsectoral': [506], 'runda': [506], 'gao': [506], 'rootes': [507], 'jason': [507, 509, 510], 'begley': [507, 509, 510], 'finding': [508, 512, 523], 'warwickshire': [508], 'trial': [508], 'jones': [508], 'nineteenth': [509], 'avenue': [509], 'exploration': [509], 'revival': [510], 'coventry': [510, 519], 'globalise': [510], 'legacy': [511], 'organise': [511], 'delivery': [511], 'mega': [511], 'drift': [511], 'myth': [511], 'rio': [511], 'alessandro': [511], 'merendino': [511], 'simbio': [512, 523], 'lab': [512, 523], 'benny': [512, 523], 'tjahjono': [512, 523], 'wildflower': [513], 'harvest': [513], 'index': [513], 'agulhas': [513], 'plain': [513], 'bek': [513, 514, 515], 'respond': [514], 'blooming': [514], 'nightmare': [514], 'eat': [515], 'inside': [515], 'supermarket': [515], 'surplus': [515], 'could': [515], 'stressor': [516], 'crosssectional': [516], 'lauren': [516, 517], 'bell': [516, 517], 'parent': [517], 'childrens': [517], 'healthcare': [517], 'hypermobile': [517], 'ehlersdanlos': [517], 'syndrome': [517], 'hypermobility': [517], 'spectrum': [517], 'find': [518], 'promote': [519], 'jaliyyah': [519, 521], 'bello': [519], '200709': [520], 'eurozone': [520], 'beta': [520], 'uchenna': [520], 'tonyokeke': [520], 'contagion': [521], '20072009': [521], 'ahmadubello': [521], 'plastic': [522], 'packaging': [522], 'transition': [522], 'circular': [522], 'bioeconomy': [522], 'macarena': [522, 524, 525, 526], 'beltran': [522, 524, 525, 526], 'fabric': [524, 525], 'retrofit': [524, 525, 526], 'insulation': [524, 525], 'highrise': [524], 'housing': [524], 'takeback': [524, 525], 'newcastle': [526], 'upon': [526], 'tyne': [526], 'identity': [527], 'memorial': [527], 'monument': [527], 'paris': [527], 'benjamin': [527, 528, 529, 530, 531], 'french': [528, 531], 'remember': [528], 'representation': [528], 'wwi': [528], 'contemporary': [528], 'contemporaneous': [528], 'openness': [529], 'comic': [529], 'generate': [529], 'meaning': [529], 'flexible': [529], 'bridge': [530], 'island': [530], 'charlie': [531], 'hebdo': [531], 'say': [531], 'liberté': [531], 'égalité': [531], 'fraternité': [531]}\n"
          ],
          "name": "stdout"
        }
      ]
    },
    {
      "cell_type": "code",
      "metadata": {
        "id": "usPxMTp2vkGc"
      },
      "source": [
        "#Putting all the functions together to derive inputs for the indexer\n",
        "\n",
        "def indexer(df, index):\n",
        "    combine = convert_df(df)\n",
        "    index = Indexing(df = combine, index = indexed)\n",
        "    return index"
      ],
      "execution_count": null,
      "outputs": []
    },
    {
      "cell_type": "code",
      "metadata": {
        "id": "seIoGfgY0SQS"
      },
      "source": [
        "IDX = indexer(df = data, index = {})\n"
      ],
      "execution_count": null,
      "outputs": []
    },
    {
      "cell_type": "code",
      "metadata": {
        "colab": {
          "base_uri": "https://localhost:8080/"
        },
        "id": "Iu3iWZO7X6g2",
        "outputId": "d4ad41c7-c457-4f46-9e7d-4bf991f23141"
      },
      "source": [
        "len(IDX)"
      ],
      "execution_count": null,
      "outputs": [
        {
          "output_type": "execute_result",
          "data": {
            "text/plain": [
              "2574"
            ]
          },
          "metadata": {
            "tags": []
          },
          "execution_count": 43
        }
      ]
    },
    {
      "cell_type": "markdown",
      "metadata": {
        "id": "nfrqcWIQ1gKy"
      },
      "source": [
        "**RANKING OF RESULTS**"
      ]
    },
    {
      "cell_type": "code",
      "metadata": {
        "id": "K2jZGlAQ1ldB",
        "colab": {
          "base_uri": "https://localhost:8080/"
        },
        "outputId": "c3732b17-bbe3-47ff-bd9f-9dea9630afa1"
      },
      "source": [
        "!pip install --upgrade gensim\n",
        "\n",
        "import gensim\n",
        "import numpy as np"
      ],
      "execution_count": null,
      "outputs": [
        {
          "output_type": "stream",
          "text": [
            "Requirement already satisfied: gensim in /usr/local/lib/python3.7/dist-packages (4.0.1)\n",
            "Requirement already satisfied: smart-open>=1.8.1 in /usr/local/lib/python3.7/dist-packages (from gensim) (5.1.0)\n",
            "Requirement already satisfied: scipy>=0.18.1 in /usr/local/lib/python3.7/dist-packages (from gensim) (1.4.1)\n",
            "Requirement already satisfied: numpy>=1.11.3 in /usr/local/lib/python3.7/dist-packages (from gensim) (1.19.5)\n"
          ],
          "name": "stdout"
        },
        {
          "output_type": "stream",
          "text": [
            "/usr/local/lib/python3.7/dist-packages/gensim/similarities/__init__.py:15: UserWarning: The gensim.similarities.levenshtein submodule is disabled, because the optional Levenshtein package <https://pypi.org/project/python-Levenshtein/> is unavailable. Install Levenhstein (e.g. `pip install python-Levenshtein`) to suppress this warning.\n",
            "  warnings.warn(msg)\n"
          ],
          "name": "stderr"
        }
      ]
    },
    {
      "cell_type": "code",
      "metadata": {
        "id": "KwCqgMPqQ8tg"
      },
      "source": [
        "#*Loading the Google news pretrained word to vector model\n",
        "WordToVec = gensim.models.KeyedVectors.load_word2vec_format('/content/drive/MyDrive/Colab Notebooks/IR 7071cem/GoogleNews-vectors-negative300.bin', binary=True)"
      ],
      "execution_count": null,
      "outputs": []
    },
    {
      "cell_type": "code",
      "metadata": {
        "id": "C-LZMScsSbeY"
      },
      "source": [
        "def Vec_Avg(Word2vec_model, file):\n",
        "   \n",
        "    file = [word for word in file if word in Word2vec_model.key_to_index] \n",
        "    if len(file) == 0:\n",
        "      return np.zeros(500)\n",
        "    else:\n",
        "      return np.mean(Word2vec_model[file], axis=0)"
      ],
      "execution_count": null,
      "outputs": []
    },
    {
      "cell_type": "code",
      "metadata": {
        "colab": {
          "base_uri": "https://localhost:8080/"
        },
        "id": "M5TCeZS-Tefw",
        "outputId": "602f1919-4852-429f-92ba-66fb68c24970"
      },
      "source": [
        "WORDS = Document.text.split()\n",
        "%time sample_vec = Vec_Avg(WordToVec, WORDS)"
      ],
      "execution_count": null,
      "outputs": [
        {
          "output_type": "stream",
          "text": [
            "CPU times: user 330 µs, sys: 35 µs, total: 365 µs\n",
            "Wall time: 304 µs\n"
          ],
          "name": "stdout"
        }
      ]
    },
    {
      "cell_type": "code",
      "metadata": {
        "id": "tTgzIzW6Slqf"
      },
      "source": [
        "#Computing a vector of words in the document, and constructs a database that will store them\n",
        "\n",
        "def Ranking(df):\n",
        "  corpus = df[['id', 'text']].copy()\n",
        "  Doc_vec = {}\n",
        "  for i in range(len(corpus)):\n",
        "    row = corpus.loc[i,:]\n",
        "    text = row.text.split()\n",
        "    Doc_vec[row.id]=Vec_Avg(WordToVec, text)\n",
        "  Doc_vec = pd.DataFrame.from_dict(data=Doc_vec, orient=\"index\")\n",
        "  Doc_vec['id'] = Doc_vec.index\n",
        "  return Doc_vec"
      ],
      "execution_count": null,
      "outputs": []
    },
    {
      "cell_type": "code",
      "metadata": {
        "colab": {
          "base_uri": "https://localhost:8080/",
          "height": 439
        },
        "id": "pz_W18F6Sorv",
        "outputId": "c4a62b8b-13ae-4c67-b17a-def9429f63c1"
      },
      "source": [
        "Doc_vec = Ranking(df=data)\n",
        "Doc_vec"
      ],
      "execution_count": null,
      "outputs": [
        {
          "output_type": "execute_result",
          "data": {
            "text/html": [
              "<div>\n",
              "<style scoped>\n",
              "    .dataframe tbody tr th:only-of-type {\n",
              "        vertical-align: middle;\n",
              "    }\n",
              "\n",
              "    .dataframe tbody tr th {\n",
              "        vertical-align: top;\n",
              "    }\n",
              "\n",
              "    .dataframe thead th {\n",
              "        text-align: right;\n",
              "    }\n",
              "</style>\n",
              "<table border=\"1\" class=\"dataframe\">\n",
              "  <thead>\n",
              "    <tr style=\"text-align: right;\">\n",
              "      <th></th>\n",
              "      <th>0</th>\n",
              "      <th>1</th>\n",
              "      <th>2</th>\n",
              "      <th>3</th>\n",
              "      <th>4</th>\n",
              "      <th>5</th>\n",
              "      <th>6</th>\n",
              "      <th>7</th>\n",
              "      <th>8</th>\n",
              "      <th>9</th>\n",
              "      <th>10</th>\n",
              "      <th>11</th>\n",
              "      <th>12</th>\n",
              "      <th>13</th>\n",
              "      <th>14</th>\n",
              "      <th>15</th>\n",
              "      <th>16</th>\n",
              "      <th>17</th>\n",
              "      <th>18</th>\n",
              "      <th>19</th>\n",
              "      <th>20</th>\n",
              "      <th>21</th>\n",
              "      <th>22</th>\n",
              "      <th>23</th>\n",
              "      <th>24</th>\n",
              "      <th>25</th>\n",
              "      <th>26</th>\n",
              "      <th>27</th>\n",
              "      <th>28</th>\n",
              "      <th>29</th>\n",
              "      <th>30</th>\n",
              "      <th>31</th>\n",
              "      <th>32</th>\n",
              "      <th>33</th>\n",
              "      <th>34</th>\n",
              "      <th>35</th>\n",
              "      <th>36</th>\n",
              "      <th>37</th>\n",
              "      <th>38</th>\n",
              "      <th>39</th>\n",
              "      <th>...</th>\n",
              "      <th>261</th>\n",
              "      <th>262</th>\n",
              "      <th>263</th>\n",
              "      <th>264</th>\n",
              "      <th>265</th>\n",
              "      <th>266</th>\n",
              "      <th>267</th>\n",
              "      <th>268</th>\n",
              "      <th>269</th>\n",
              "      <th>270</th>\n",
              "      <th>271</th>\n",
              "      <th>272</th>\n",
              "      <th>273</th>\n",
              "      <th>274</th>\n",
              "      <th>275</th>\n",
              "      <th>276</th>\n",
              "      <th>277</th>\n",
              "      <th>278</th>\n",
              "      <th>279</th>\n",
              "      <th>280</th>\n",
              "      <th>281</th>\n",
              "      <th>282</th>\n",
              "      <th>283</th>\n",
              "      <th>284</th>\n",
              "      <th>285</th>\n",
              "      <th>286</th>\n",
              "      <th>287</th>\n",
              "      <th>288</th>\n",
              "      <th>289</th>\n",
              "      <th>290</th>\n",
              "      <th>291</th>\n",
              "      <th>292</th>\n",
              "      <th>293</th>\n",
              "      <th>294</th>\n",
              "      <th>295</th>\n",
              "      <th>296</th>\n",
              "      <th>297</th>\n",
              "      <th>298</th>\n",
              "      <th>299</th>\n",
              "      <th>id</th>\n",
              "    </tr>\n",
              "  </thead>\n",
              "  <tbody>\n",
              "    <tr>\n",
              "      <th>1</th>\n",
              "      <td>-0.042328</td>\n",
              "      <td>0.030609</td>\n",
              "      <td>-0.001076</td>\n",
              "      <td>-0.068466</td>\n",
              "      <td>-0.167755</td>\n",
              "      <td>0.144440</td>\n",
              "      <td>-0.023532</td>\n",
              "      <td>-0.083717</td>\n",
              "      <td>0.049454</td>\n",
              "      <td>0.131735</td>\n",
              "      <td>-0.105625</td>\n",
              "      <td>-0.144135</td>\n",
              "      <td>-0.035400</td>\n",
              "      <td>0.049408</td>\n",
              "      <td>-0.036030</td>\n",
              "      <td>0.069000</td>\n",
              "      <td>-0.096558</td>\n",
              "      <td>0.116913</td>\n",
              "      <td>-0.102341</td>\n",
              "      <td>-0.099182</td>\n",
              "      <td>-0.041351</td>\n",
              "      <td>-0.019470</td>\n",
              "      <td>-0.082077</td>\n",
              "      <td>0.157562</td>\n",
              "      <td>-0.149902</td>\n",
              "      <td>-0.119736</td>\n",
              "      <td>-0.045120</td>\n",
              "      <td>0.224014</td>\n",
              "      <td>-0.038483</td>\n",
              "      <td>-0.178329</td>\n",
              "      <td>0.025040</td>\n",
              "      <td>-0.029266</td>\n",
              "      <td>-0.009811</td>\n",
              "      <td>0.011086</td>\n",
              "      <td>-0.114014</td>\n",
              "      <td>0.056488</td>\n",
              "      <td>0.042578</td>\n",
              "      <td>0.016613</td>\n",
              "      <td>0.185669</td>\n",
              "      <td>0.012268</td>\n",
              "      <td>...</td>\n",
              "      <td>-0.144043</td>\n",
              "      <td>-0.045797</td>\n",
              "      <td>0.025791</td>\n",
              "      <td>0.108360</td>\n",
              "      <td>0.092567</td>\n",
              "      <td>-0.020487</td>\n",
              "      <td>-0.138443</td>\n",
              "      <td>-0.036469</td>\n",
              "      <td>-0.209534</td>\n",
              "      <td>-0.082821</td>\n",
              "      <td>0.047443</td>\n",
              "      <td>-0.070038</td>\n",
              "      <td>0.055077</td>\n",
              "      <td>-0.070969</td>\n",
              "      <td>0.014476</td>\n",
              "      <td>-0.072189</td>\n",
              "      <td>-0.125092</td>\n",
              "      <td>-0.044098</td>\n",
              "      <td>-0.005249</td>\n",
              "      <td>0.048920</td>\n",
              "      <td>0.004074</td>\n",
              "      <td>0.257065</td>\n",
              "      <td>0.014740</td>\n",
              "      <td>-0.074066</td>\n",
              "      <td>-0.228098</td>\n",
              "      <td>0.089175</td>\n",
              "      <td>-0.015106</td>\n",
              "      <td>0.038700</td>\n",
              "      <td>0.066467</td>\n",
              "      <td>-0.068260</td>\n",
              "      <td>0.128265</td>\n",
              "      <td>-0.110733</td>\n",
              "      <td>0.133049</td>\n",
              "      <td>-0.105835</td>\n",
              "      <td>0.016251</td>\n",
              "      <td>-0.080515</td>\n",
              "      <td>-0.031891</td>\n",
              "      <td>-0.025040</td>\n",
              "      <td>-0.015503</td>\n",
              "      <td>1</td>\n",
              "    </tr>\n",
              "    <tr>\n",
              "      <th>2</th>\n",
              "      <td>-0.100977</td>\n",
              "      <td>0.040027</td>\n",
              "      <td>0.004196</td>\n",
              "      <td>-0.011914</td>\n",
              "      <td>-0.084094</td>\n",
              "      <td>0.041797</td>\n",
              "      <td>-0.002112</td>\n",
              "      <td>-0.179297</td>\n",
              "      <td>0.157617</td>\n",
              "      <td>0.149515</td>\n",
              "      <td>-0.006836</td>\n",
              "      <td>-0.117334</td>\n",
              "      <td>-0.061761</td>\n",
              "      <td>0.002606</td>\n",
              "      <td>-0.098630</td>\n",
              "      <td>0.098035</td>\n",
              "      <td>-0.132672</td>\n",
              "      <td>0.106555</td>\n",
              "      <td>-0.005750</td>\n",
              "      <td>-0.143976</td>\n",
              "      <td>0.042078</td>\n",
              "      <td>-0.042920</td>\n",
              "      <td>-0.112048</td>\n",
              "      <td>0.093774</td>\n",
              "      <td>-0.077563</td>\n",
              "      <td>-0.079224</td>\n",
              "      <td>-0.054614</td>\n",
              "      <td>0.072852</td>\n",
              "      <td>-0.055676</td>\n",
              "      <td>-0.133691</td>\n",
              "      <td>-0.082312</td>\n",
              "      <td>-0.053366</td>\n",
              "      <td>-0.049646</td>\n",
              "      <td>-0.023697</td>\n",
              "      <td>-0.307324</td>\n",
              "      <td>-0.076501</td>\n",
              "      <td>0.073857</td>\n",
              "      <td>-0.017398</td>\n",
              "      <td>0.172339</td>\n",
              "      <td>0.062466</td>\n",
              "      <td>...</td>\n",
              "      <td>-0.177295</td>\n",
              "      <td>-0.117383</td>\n",
              "      <td>-0.017297</td>\n",
              "      <td>0.129272</td>\n",
              "      <td>0.139160</td>\n",
              "      <td>0.014600</td>\n",
              "      <td>-0.195533</td>\n",
              "      <td>0.007202</td>\n",
              "      <td>-0.154077</td>\n",
              "      <td>-0.107004</td>\n",
              "      <td>0.056958</td>\n",
              "      <td>0.061145</td>\n",
              "      <td>-0.069556</td>\n",
              "      <td>-0.021289</td>\n",
              "      <td>0.020410</td>\n",
              "      <td>-0.038745</td>\n",
              "      <td>-0.069495</td>\n",
              "      <td>-0.064111</td>\n",
              "      <td>-0.085999</td>\n",
              "      <td>0.135147</td>\n",
              "      <td>0.035132</td>\n",
              "      <td>0.119800</td>\n",
              "      <td>-0.023730</td>\n",
              "      <td>-0.020673</td>\n",
              "      <td>-0.208514</td>\n",
              "      <td>0.017249</td>\n",
              "      <td>0.041760</td>\n",
              "      <td>-0.005054</td>\n",
              "      <td>0.106335</td>\n",
              "      <td>-0.130933</td>\n",
              "      <td>0.052332</td>\n",
              "      <td>-0.080170</td>\n",
              "      <td>0.139746</td>\n",
              "      <td>-0.047162</td>\n",
              "      <td>0.027631</td>\n",
              "      <td>-0.032196</td>\n",
              "      <td>0.040588</td>\n",
              "      <td>0.045282</td>\n",
              "      <td>-0.031119</td>\n",
              "      <td>2</td>\n",
              "    </tr>\n",
              "    <tr>\n",
              "      <th>3</th>\n",
              "      <td>-0.028890</td>\n",
              "      <td>0.041341</td>\n",
              "      <td>0.019589</td>\n",
              "      <td>-0.085612</td>\n",
              "      <td>-0.136068</td>\n",
              "      <td>0.085342</td>\n",
              "      <td>-0.051649</td>\n",
              "      <td>-0.145725</td>\n",
              "      <td>0.087079</td>\n",
              "      <td>0.106635</td>\n",
              "      <td>-0.056684</td>\n",
              "      <td>0.003713</td>\n",
              "      <td>0.063605</td>\n",
              "      <td>0.065470</td>\n",
              "      <td>-0.175327</td>\n",
              "      <td>0.074246</td>\n",
              "      <td>-0.126044</td>\n",
              "      <td>0.078044</td>\n",
              "      <td>0.008080</td>\n",
              "      <td>-0.090763</td>\n",
              "      <td>-0.039985</td>\n",
              "      <td>0.024604</td>\n",
              "      <td>-0.077226</td>\n",
              "      <td>0.021023</td>\n",
              "      <td>-0.023153</td>\n",
              "      <td>-0.140227</td>\n",
              "      <td>-0.072144</td>\n",
              "      <td>0.121568</td>\n",
              "      <td>-0.064562</td>\n",
              "      <td>-0.144477</td>\n",
              "      <td>-0.129001</td>\n",
              "      <td>-0.071289</td>\n",
              "      <td>0.012126</td>\n",
              "      <td>0.010064</td>\n",
              "      <td>-0.221164</td>\n",
              "      <td>-0.036285</td>\n",
              "      <td>0.132189</td>\n",
              "      <td>0.057726</td>\n",
              "      <td>0.099467</td>\n",
              "      <td>-0.003771</td>\n",
              "      <td>...</td>\n",
              "      <td>-0.128469</td>\n",
              "      <td>-0.100986</td>\n",
              "      <td>0.000203</td>\n",
              "      <td>0.152154</td>\n",
              "      <td>0.151964</td>\n",
              "      <td>0.013197</td>\n",
              "      <td>-0.079997</td>\n",
              "      <td>-0.018772</td>\n",
              "      <td>-0.215847</td>\n",
              "      <td>-0.146105</td>\n",
              "      <td>-0.075562</td>\n",
              "      <td>-0.002168</td>\n",
              "      <td>-0.026218</td>\n",
              "      <td>-0.002713</td>\n",
              "      <td>0.013563</td>\n",
              "      <td>-0.105754</td>\n",
              "      <td>-0.044481</td>\n",
              "      <td>0.026679</td>\n",
              "      <td>-0.020721</td>\n",
              "      <td>0.155924</td>\n",
              "      <td>0.106500</td>\n",
              "      <td>0.183567</td>\n",
              "      <td>0.052680</td>\n",
              "      <td>0.013028</td>\n",
              "      <td>-0.287354</td>\n",
              "      <td>0.074092</td>\n",
              "      <td>0.036146</td>\n",
              "      <td>-0.002414</td>\n",
              "      <td>0.185954</td>\n",
              "      <td>-0.153130</td>\n",
              "      <td>0.027500</td>\n",
              "      <td>-0.005927</td>\n",
              "      <td>0.083740</td>\n",
              "      <td>0.050178</td>\n",
              "      <td>0.009291</td>\n",
              "      <td>-0.049750</td>\n",
              "      <td>-0.029527</td>\n",
              "      <td>0.033129</td>\n",
              "      <td>0.019121</td>\n",
              "      <td>3</td>\n",
              "    </tr>\n",
              "    <tr>\n",
              "      <th>4</th>\n",
              "      <td>-0.008403</td>\n",
              "      <td>0.048299</td>\n",
              "      <td>0.018255</td>\n",
              "      <td>0.037364</td>\n",
              "      <td>-0.144552</td>\n",
              "      <td>0.110420</td>\n",
              "      <td>-0.029093</td>\n",
              "      <td>-0.158222</td>\n",
              "      <td>0.046274</td>\n",
              "      <td>0.095154</td>\n",
              "      <td>-0.122498</td>\n",
              "      <td>-0.117411</td>\n",
              "      <td>0.005173</td>\n",
              "      <td>-0.004252</td>\n",
              "      <td>-0.100883</td>\n",
              "      <td>0.105865</td>\n",
              "      <td>-0.125743</td>\n",
              "      <td>0.045166</td>\n",
              "      <td>-0.059509</td>\n",
              "      <td>-0.086644</td>\n",
              "      <td>0.057210</td>\n",
              "      <td>0.008952</td>\n",
              "      <td>-0.039602</td>\n",
              "      <td>0.077342</td>\n",
              "      <td>-0.120003</td>\n",
              "      <td>-0.101629</td>\n",
              "      <td>-0.089483</td>\n",
              "      <td>0.167847</td>\n",
              "      <td>-0.054067</td>\n",
              "      <td>-0.073466</td>\n",
              "      <td>-0.039632</td>\n",
              "      <td>-0.017537</td>\n",
              "      <td>0.023610</td>\n",
              "      <td>-0.036031</td>\n",
              "      <td>-0.168620</td>\n",
              "      <td>0.059835</td>\n",
              "      <td>0.006713</td>\n",
              "      <td>-0.026248</td>\n",
              "      <td>0.114471</td>\n",
              "      <td>0.115458</td>\n",
              "      <td>...</td>\n",
              "      <td>-0.067141</td>\n",
              "      <td>-0.085459</td>\n",
              "      <td>-0.057320</td>\n",
              "      <td>0.101710</td>\n",
              "      <td>0.103658</td>\n",
              "      <td>0.031928</td>\n",
              "      <td>-0.192881</td>\n",
              "      <td>-0.025065</td>\n",
              "      <td>-0.144689</td>\n",
              "      <td>0.026848</td>\n",
              "      <td>0.094922</td>\n",
              "      <td>-0.011403</td>\n",
              "      <td>-0.014018</td>\n",
              "      <td>-0.063093</td>\n",
              "      <td>-0.049825</td>\n",
              "      <td>-0.064936</td>\n",
              "      <td>-0.055054</td>\n",
              "      <td>-0.003499</td>\n",
              "      <td>-0.040894</td>\n",
              "      <td>0.034526</td>\n",
              "      <td>0.041712</td>\n",
              "      <td>0.188883</td>\n",
              "      <td>-0.055542</td>\n",
              "      <td>-0.064830</td>\n",
              "      <td>-0.175166</td>\n",
              "      <td>0.086880</td>\n",
              "      <td>-0.000539</td>\n",
              "      <td>-0.016134</td>\n",
              "      <td>0.063497</td>\n",
              "      <td>-0.108871</td>\n",
              "      <td>0.114909</td>\n",
              "      <td>-0.115144</td>\n",
              "      <td>0.162242</td>\n",
              "      <td>-0.048731</td>\n",
              "      <td>0.032461</td>\n",
              "      <td>-0.055182</td>\n",
              "      <td>0.061376</td>\n",
              "      <td>-0.006638</td>\n",
              "      <td>-0.005717</td>\n",
              "      <td>4</td>\n",
              "    </tr>\n",
              "    <tr>\n",
              "      <th>5</th>\n",
              "      <td>-0.036819</td>\n",
              "      <td>0.042725</td>\n",
              "      <td>0.002426</td>\n",
              "      <td>-0.057739</td>\n",
              "      <td>-0.086044</td>\n",
              "      <td>0.056458</td>\n",
              "      <td>-0.049622</td>\n",
              "      <td>-0.172363</td>\n",
              "      <td>0.100602</td>\n",
              "      <td>0.200424</td>\n",
              "      <td>-0.049072</td>\n",
              "      <td>-0.185852</td>\n",
              "      <td>-0.045563</td>\n",
              "      <td>-0.035084</td>\n",
              "      <td>-0.059505</td>\n",
              "      <td>0.035084</td>\n",
              "      <td>-0.143353</td>\n",
              "      <td>0.148834</td>\n",
              "      <td>0.023865</td>\n",
              "      <td>-0.105530</td>\n",
              "      <td>0.054878</td>\n",
              "      <td>-0.043457</td>\n",
              "      <td>-0.112015</td>\n",
              "      <td>0.078796</td>\n",
              "      <td>-0.031128</td>\n",
              "      <td>-0.088638</td>\n",
              "      <td>-0.050415</td>\n",
              "      <td>0.076874</td>\n",
              "      <td>-0.087845</td>\n",
              "      <td>-0.057556</td>\n",
              "      <td>-0.064133</td>\n",
              "      <td>-0.052139</td>\n",
              "      <td>-0.015732</td>\n",
              "      <td>-0.058002</td>\n",
              "      <td>-0.249878</td>\n",
              "      <td>0.023376</td>\n",
              "      <td>0.034636</td>\n",
              "      <td>0.009747</td>\n",
              "      <td>0.083374</td>\n",
              "      <td>0.074020</td>\n",
              "      <td>...</td>\n",
              "      <td>-0.100693</td>\n",
              "      <td>-0.167084</td>\n",
              "      <td>0.018478</td>\n",
              "      <td>0.106979</td>\n",
              "      <td>0.177917</td>\n",
              "      <td>0.053711</td>\n",
              "      <td>-0.208992</td>\n",
              "      <td>-0.027229</td>\n",
              "      <td>-0.111465</td>\n",
              "      <td>-0.071499</td>\n",
              "      <td>0.141602</td>\n",
              "      <td>0.014725</td>\n",
              "      <td>-0.039459</td>\n",
              "      <td>-0.025097</td>\n",
              "      <td>-0.051331</td>\n",
              "      <td>-0.051331</td>\n",
              "      <td>0.006317</td>\n",
              "      <td>-0.103699</td>\n",
              "      <td>0.010605</td>\n",
              "      <td>0.087116</td>\n",
              "      <td>0.008171</td>\n",
              "      <td>0.091766</td>\n",
              "      <td>-0.065147</td>\n",
              "      <td>-0.035355</td>\n",
              "      <td>-0.175255</td>\n",
              "      <td>0.020599</td>\n",
              "      <td>0.088562</td>\n",
              "      <td>-0.019287</td>\n",
              "      <td>0.019516</td>\n",
              "      <td>-0.109161</td>\n",
              "      <td>0.057693</td>\n",
              "      <td>-0.059345</td>\n",
              "      <td>0.084351</td>\n",
              "      <td>-0.069847</td>\n",
              "      <td>0.057594</td>\n",
              "      <td>-0.030342</td>\n",
              "      <td>0.071487</td>\n",
              "      <td>-0.012489</td>\n",
              "      <td>-0.034241</td>\n",
              "      <td>5</td>\n",
              "    </tr>\n",
              "    <tr>\n",
              "      <th>...</th>\n",
              "      <td>...</td>\n",
              "      <td>...</td>\n",
              "      <td>...</td>\n",
              "      <td>...</td>\n",
              "      <td>...</td>\n",
              "      <td>...</td>\n",
              "      <td>...</td>\n",
              "      <td>...</td>\n",
              "      <td>...</td>\n",
              "      <td>...</td>\n",
              "      <td>...</td>\n",
              "      <td>...</td>\n",
              "      <td>...</td>\n",
              "      <td>...</td>\n",
              "      <td>...</td>\n",
              "      <td>...</td>\n",
              "      <td>...</td>\n",
              "      <td>...</td>\n",
              "      <td>...</td>\n",
              "      <td>...</td>\n",
              "      <td>...</td>\n",
              "      <td>...</td>\n",
              "      <td>...</td>\n",
              "      <td>...</td>\n",
              "      <td>...</td>\n",
              "      <td>...</td>\n",
              "      <td>...</td>\n",
              "      <td>...</td>\n",
              "      <td>...</td>\n",
              "      <td>...</td>\n",
              "      <td>...</td>\n",
              "      <td>...</td>\n",
              "      <td>...</td>\n",
              "      <td>...</td>\n",
              "      <td>...</td>\n",
              "      <td>...</td>\n",
              "      <td>...</td>\n",
              "      <td>...</td>\n",
              "      <td>...</td>\n",
              "      <td>...</td>\n",
              "      <td>...</td>\n",
              "      <td>...</td>\n",
              "      <td>...</td>\n",
              "      <td>...</td>\n",
              "      <td>...</td>\n",
              "      <td>...</td>\n",
              "      <td>...</td>\n",
              "      <td>...</td>\n",
              "      <td>...</td>\n",
              "      <td>...</td>\n",
              "      <td>...</td>\n",
              "      <td>...</td>\n",
              "      <td>...</td>\n",
              "      <td>...</td>\n",
              "      <td>...</td>\n",
              "      <td>...</td>\n",
              "      <td>...</td>\n",
              "      <td>...</td>\n",
              "      <td>...</td>\n",
              "      <td>...</td>\n",
              "      <td>...</td>\n",
              "      <td>...</td>\n",
              "      <td>...</td>\n",
              "      <td>...</td>\n",
              "      <td>...</td>\n",
              "      <td>...</td>\n",
              "      <td>...</td>\n",
              "      <td>...</td>\n",
              "      <td>...</td>\n",
              "      <td>...</td>\n",
              "      <td>...</td>\n",
              "      <td>...</td>\n",
              "      <td>...</td>\n",
              "      <td>...</td>\n",
              "      <td>...</td>\n",
              "      <td>...</td>\n",
              "      <td>...</td>\n",
              "      <td>...</td>\n",
              "      <td>...</td>\n",
              "      <td>...</td>\n",
              "      <td>...</td>\n",
              "    </tr>\n",
              "    <tr>\n",
              "      <th>532</th>\n",
              "      <td>-0.009121</td>\n",
              "      <td>0.108412</td>\n",
              "      <td>-0.052578</td>\n",
              "      <td>0.054545</td>\n",
              "      <td>0.000590</td>\n",
              "      <td>0.046414</td>\n",
              "      <td>-0.090416</td>\n",
              "      <td>-0.216607</td>\n",
              "      <td>-0.049018</td>\n",
              "      <td>0.085698</td>\n",
              "      <td>-0.060204</td>\n",
              "      <td>-0.120443</td>\n",
              "      <td>0.050754</td>\n",
              "      <td>0.043633</td>\n",
              "      <td>-0.028049</td>\n",
              "      <td>0.095323</td>\n",
              "      <td>0.055284</td>\n",
              "      <td>0.121636</td>\n",
              "      <td>-0.016995</td>\n",
              "      <td>-0.091539</td>\n",
              "      <td>-0.004666</td>\n",
              "      <td>-0.019391</td>\n",
              "      <td>-0.062439</td>\n",
              "      <td>0.012404</td>\n",
              "      <td>-0.051097</td>\n",
              "      <td>-0.115940</td>\n",
              "      <td>-0.064487</td>\n",
              "      <td>0.077040</td>\n",
              "      <td>0.023424</td>\n",
              "      <td>-0.106683</td>\n",
              "      <td>-0.113173</td>\n",
              "      <td>-0.067261</td>\n",
              "      <td>-0.016385</td>\n",
              "      <td>0.074958</td>\n",
              "      <td>-0.120605</td>\n",
              "      <td>0.036621</td>\n",
              "      <td>0.011431</td>\n",
              "      <td>-0.013011</td>\n",
              "      <td>0.099504</td>\n",
              "      <td>0.025960</td>\n",
              "      <td>...</td>\n",
              "      <td>-0.058241</td>\n",
              "      <td>-0.124659</td>\n",
              "      <td>0.078898</td>\n",
              "      <td>0.146430</td>\n",
              "      <td>0.112712</td>\n",
              "      <td>0.017680</td>\n",
              "      <td>-0.210341</td>\n",
              "      <td>-0.119493</td>\n",
              "      <td>-0.061720</td>\n",
              "      <td>-0.040473</td>\n",
              "      <td>0.141832</td>\n",
              "      <td>-0.045302</td>\n",
              "      <td>-0.054213</td>\n",
              "      <td>0.014269</td>\n",
              "      <td>0.011163</td>\n",
              "      <td>-0.060337</td>\n",
              "      <td>-0.035943</td>\n",
              "      <td>-0.100016</td>\n",
              "      <td>0.086314</td>\n",
              "      <td>-0.007324</td>\n",
              "      <td>0.064019</td>\n",
              "      <td>0.072144</td>\n",
              "      <td>-0.095310</td>\n",
              "      <td>0.093913</td>\n",
              "      <td>-0.044245</td>\n",
              "      <td>-0.014222</td>\n",
              "      <td>0.019192</td>\n",
              "      <td>-0.031982</td>\n",
              "      <td>-0.019416</td>\n",
              "      <td>-0.116387</td>\n",
              "      <td>0.055298</td>\n",
              "      <td>0.000868</td>\n",
              "      <td>-0.045383</td>\n",
              "      <td>-0.003554</td>\n",
              "      <td>0.071235</td>\n",
              "      <td>-0.024208</td>\n",
              "      <td>0.013943</td>\n",
              "      <td>0.167643</td>\n",
              "      <td>0.082981</td>\n",
              "      <td>532</td>\n",
              "    </tr>\n",
              "    <tr>\n",
              "      <th>533</th>\n",
              "      <td>0.124854</td>\n",
              "      <td>0.053467</td>\n",
              "      <td>0.090771</td>\n",
              "      <td>0.034473</td>\n",
              "      <td>-0.129456</td>\n",
              "      <td>0.012988</td>\n",
              "      <td>-0.003467</td>\n",
              "      <td>-0.052496</td>\n",
              "      <td>0.050293</td>\n",
              "      <td>0.114136</td>\n",
              "      <td>-0.103090</td>\n",
              "      <td>-0.170117</td>\n",
              "      <td>0.145331</td>\n",
              "      <td>-0.137695</td>\n",
              "      <td>-0.082471</td>\n",
              "      <td>0.127637</td>\n",
              "      <td>-0.050317</td>\n",
              "      <td>0.160352</td>\n",
              "      <td>-0.029883</td>\n",
              "      <td>-0.137012</td>\n",
              "      <td>-0.026514</td>\n",
              "      <td>0.070630</td>\n",
              "      <td>-0.046313</td>\n",
              "      <td>0.014343</td>\n",
              "      <td>-0.026251</td>\n",
              "      <td>-0.049072</td>\n",
              "      <td>-0.054590</td>\n",
              "      <td>0.115758</td>\n",
              "      <td>0.114844</td>\n",
              "      <td>-0.104297</td>\n",
              "      <td>-0.030396</td>\n",
              "      <td>0.043604</td>\n",
              "      <td>-0.081641</td>\n",
              "      <td>-0.019312</td>\n",
              "      <td>-0.066992</td>\n",
              "      <td>-0.104199</td>\n",
              "      <td>0.099048</td>\n",
              "      <td>-0.063232</td>\n",
              "      <td>0.026520</td>\n",
              "      <td>0.024707</td>\n",
              "      <td>...</td>\n",
              "      <td>-0.004089</td>\n",
              "      <td>-0.047510</td>\n",
              "      <td>0.008728</td>\n",
              "      <td>0.112891</td>\n",
              "      <td>0.098926</td>\n",
              "      <td>-0.026947</td>\n",
              "      <td>-0.151990</td>\n",
              "      <td>-0.140747</td>\n",
              "      <td>0.121094</td>\n",
              "      <td>-0.018018</td>\n",
              "      <td>0.083643</td>\n",
              "      <td>-0.105420</td>\n",
              "      <td>0.072168</td>\n",
              "      <td>-0.001172</td>\n",
              "      <td>-0.067578</td>\n",
              "      <td>-0.090637</td>\n",
              "      <td>0.082117</td>\n",
              "      <td>0.017017</td>\n",
              "      <td>0.118042</td>\n",
              "      <td>-0.143443</td>\n",
              "      <td>0.100293</td>\n",
              "      <td>0.198706</td>\n",
              "      <td>-0.049878</td>\n",
              "      <td>-0.012793</td>\n",
              "      <td>0.020728</td>\n",
              "      <td>0.041064</td>\n",
              "      <td>0.016187</td>\n",
              "      <td>0.082031</td>\n",
              "      <td>0.092578</td>\n",
              "      <td>-0.125671</td>\n",
              "      <td>0.128308</td>\n",
              "      <td>-0.035645</td>\n",
              "      <td>-0.019556</td>\n",
              "      <td>-0.003223</td>\n",
              "      <td>0.007080</td>\n",
              "      <td>0.043730</td>\n",
              "      <td>0.114148</td>\n",
              "      <td>0.139844</td>\n",
              "      <td>0.026086</td>\n",
              "      <td>533</td>\n",
              "    </tr>\n",
              "    <tr>\n",
              "      <th>534</th>\n",
              "      <td>0.023846</td>\n",
              "      <td>0.050122</td>\n",
              "      <td>-0.012231</td>\n",
              "      <td>0.076372</td>\n",
              "      <td>-0.084674</td>\n",
              "      <td>-0.000800</td>\n",
              "      <td>0.014740</td>\n",
              "      <td>-0.089343</td>\n",
              "      <td>0.082776</td>\n",
              "      <td>-0.010095</td>\n",
              "      <td>-0.065241</td>\n",
              "      <td>-0.131689</td>\n",
              "      <td>0.066766</td>\n",
              "      <td>-0.078997</td>\n",
              "      <td>-0.082544</td>\n",
              "      <td>0.054053</td>\n",
              "      <td>-0.085046</td>\n",
              "      <td>0.085730</td>\n",
              "      <td>-0.055542</td>\n",
              "      <td>-0.107330</td>\n",
              "      <td>-0.015344</td>\n",
              "      <td>0.014323</td>\n",
              "      <td>-0.058899</td>\n",
              "      <td>0.031189</td>\n",
              "      <td>0.065955</td>\n",
              "      <td>-0.054761</td>\n",
              "      <td>-0.096985</td>\n",
              "      <td>0.094995</td>\n",
              "      <td>0.042383</td>\n",
              "      <td>-0.148096</td>\n",
              "      <td>-0.027295</td>\n",
              "      <td>-0.016467</td>\n",
              "      <td>-0.093384</td>\n",
              "      <td>-0.004370</td>\n",
              "      <td>0.001190</td>\n",
              "      <td>-0.042957</td>\n",
              "      <td>0.086719</td>\n",
              "      <td>-0.049915</td>\n",
              "      <td>0.135254</td>\n",
              "      <td>-0.018448</td>\n",
              "      <td>...</td>\n",
              "      <td>-0.019189</td>\n",
              "      <td>-0.065405</td>\n",
              "      <td>0.050537</td>\n",
              "      <td>0.087417</td>\n",
              "      <td>0.125830</td>\n",
              "      <td>-0.007578</td>\n",
              "      <td>-0.015479</td>\n",
              "      <td>-0.189453</td>\n",
              "      <td>-0.015210</td>\n",
              "      <td>0.074518</td>\n",
              "      <td>0.027222</td>\n",
              "      <td>0.059424</td>\n",
              "      <td>-0.031641</td>\n",
              "      <td>0.063800</td>\n",
              "      <td>0.007794</td>\n",
              "      <td>-0.002692</td>\n",
              "      <td>-0.043173</td>\n",
              "      <td>-0.013232</td>\n",
              "      <td>-0.005200</td>\n",
              "      <td>-0.068005</td>\n",
              "      <td>0.099072</td>\n",
              "      <td>0.069263</td>\n",
              "      <td>0.018005</td>\n",
              "      <td>0.040540</td>\n",
              "      <td>-0.072003</td>\n",
              "      <td>-0.049420</td>\n",
              "      <td>-0.026892</td>\n",
              "      <td>0.011218</td>\n",
              "      <td>0.080225</td>\n",
              "      <td>-0.099170</td>\n",
              "      <td>0.058356</td>\n",
              "      <td>-0.055326</td>\n",
              "      <td>0.022791</td>\n",
              "      <td>-0.063828</td>\n",
              "      <td>-0.010034</td>\n",
              "      <td>0.083201</td>\n",
              "      <td>0.003607</td>\n",
              "      <td>-0.046704</td>\n",
              "      <td>-0.016516</td>\n",
              "      <td>534</td>\n",
              "    </tr>\n",
              "    <tr>\n",
              "      <th>535</th>\n",
              "      <td>0.060522</td>\n",
              "      <td>0.123969</td>\n",
              "      <td>0.034013</td>\n",
              "      <td>0.059155</td>\n",
              "      <td>-0.125946</td>\n",
              "      <td>-0.023846</td>\n",
              "      <td>-0.096674</td>\n",
              "      <td>-0.167264</td>\n",
              "      <td>0.079393</td>\n",
              "      <td>0.154944</td>\n",
              "      <td>0.010010</td>\n",
              "      <td>-0.118115</td>\n",
              "      <td>0.025479</td>\n",
              "      <td>0.005481</td>\n",
              "      <td>-0.177539</td>\n",
              "      <td>0.072546</td>\n",
              "      <td>-0.072217</td>\n",
              "      <td>0.020746</td>\n",
              "      <td>0.029974</td>\n",
              "      <td>-0.228125</td>\n",
              "      <td>0.014465</td>\n",
              "      <td>-0.012091</td>\n",
              "      <td>-0.063159</td>\n",
              "      <td>0.024078</td>\n",
              "      <td>-0.014932</td>\n",
              "      <td>-0.038960</td>\n",
              "      <td>-0.023901</td>\n",
              "      <td>0.068050</td>\n",
              "      <td>0.037006</td>\n",
              "      <td>-0.052893</td>\n",
              "      <td>-0.054126</td>\n",
              "      <td>-0.142505</td>\n",
              "      <td>0.032275</td>\n",
              "      <td>0.019800</td>\n",
              "      <td>-0.171411</td>\n",
              "      <td>-0.033496</td>\n",
              "      <td>0.007581</td>\n",
              "      <td>0.031604</td>\n",
              "      <td>-0.005273</td>\n",
              "      <td>0.093042</td>\n",
              "      <td>...</td>\n",
              "      <td>-0.042505</td>\n",
              "      <td>-0.018921</td>\n",
              "      <td>0.030933</td>\n",
              "      <td>0.054968</td>\n",
              "      <td>0.118726</td>\n",
              "      <td>-0.018091</td>\n",
              "      <td>-0.155194</td>\n",
              "      <td>0.016254</td>\n",
              "      <td>-0.065186</td>\n",
              "      <td>-0.053442</td>\n",
              "      <td>0.069458</td>\n",
              "      <td>0.019446</td>\n",
              "      <td>0.015295</td>\n",
              "      <td>-0.075439</td>\n",
              "      <td>-0.075854</td>\n",
              "      <td>-0.098248</td>\n",
              "      <td>-0.082159</td>\n",
              "      <td>-0.015564</td>\n",
              "      <td>-0.010974</td>\n",
              "      <td>-0.023674</td>\n",
              "      <td>0.079956</td>\n",
              "      <td>0.201562</td>\n",
              "      <td>-0.025391</td>\n",
              "      <td>-0.009357</td>\n",
              "      <td>-0.105920</td>\n",
              "      <td>0.060986</td>\n",
              "      <td>0.080505</td>\n",
              "      <td>0.104810</td>\n",
              "      <td>0.010059</td>\n",
              "      <td>-0.063199</td>\n",
              "      <td>0.043192</td>\n",
              "      <td>-0.024512</td>\n",
              "      <td>0.006451</td>\n",
              "      <td>0.033057</td>\n",
              "      <td>0.035596</td>\n",
              "      <td>0.000667</td>\n",
              "      <td>0.083423</td>\n",
              "      <td>0.078864</td>\n",
              "      <td>0.000018</td>\n",
              "      <td>535</td>\n",
              "    </tr>\n",
              "    <tr>\n",
              "      <th>536</th>\n",
              "      <td>0.126918</td>\n",
              "      <td>0.144252</td>\n",
              "      <td>0.010538</td>\n",
              "      <td>-0.017683</td>\n",
              "      <td>-0.100307</td>\n",
              "      <td>-0.002851</td>\n",
              "      <td>-0.148089</td>\n",
              "      <td>-0.115064</td>\n",
              "      <td>0.125732</td>\n",
              "      <td>0.195940</td>\n",
              "      <td>-0.011649</td>\n",
              "      <td>-0.125140</td>\n",
              "      <td>0.011523</td>\n",
              "      <td>0.056867</td>\n",
              "      <td>-0.198887</td>\n",
              "      <td>0.045881</td>\n",
              "      <td>-0.091204</td>\n",
              "      <td>0.071882</td>\n",
              "      <td>0.040946</td>\n",
              "      <td>-0.235840</td>\n",
              "      <td>0.021955</td>\n",
              "      <td>0.022531</td>\n",
              "      <td>-0.064348</td>\n",
              "      <td>-0.029646</td>\n",
              "      <td>-0.004046</td>\n",
              "      <td>0.047092</td>\n",
              "      <td>0.100621</td>\n",
              "      <td>0.034558</td>\n",
              "      <td>0.022661</td>\n",
              "      <td>0.033639</td>\n",
              "      <td>-0.076259</td>\n",
              "      <td>-0.077881</td>\n",
              "      <td>0.034773</td>\n",
              "      <td>-0.021903</td>\n",
              "      <td>-0.133475</td>\n",
              "      <td>0.027762</td>\n",
              "      <td>-0.052229</td>\n",
              "      <td>-0.001116</td>\n",
              "      <td>-0.103516</td>\n",
              "      <td>0.085275</td>\n",
              "      <td>...</td>\n",
              "      <td>0.008240</td>\n",
              "      <td>0.021310</td>\n",
              "      <td>0.115653</td>\n",
              "      <td>0.028495</td>\n",
              "      <td>0.177525</td>\n",
              "      <td>0.026411</td>\n",
              "      <td>-0.185085</td>\n",
              "      <td>0.038657</td>\n",
              "      <td>-0.022949</td>\n",
              "      <td>-0.047259</td>\n",
              "      <td>0.075649</td>\n",
              "      <td>-0.010236</td>\n",
              "      <td>0.087263</td>\n",
              "      <td>-0.009844</td>\n",
              "      <td>-0.101911</td>\n",
              "      <td>-0.132552</td>\n",
              "      <td>-0.068229</td>\n",
              "      <td>-0.024187</td>\n",
              "      <td>-0.021153</td>\n",
              "      <td>0.003010</td>\n",
              "      <td>0.026437</td>\n",
              "      <td>0.189593</td>\n",
              "      <td>-0.054199</td>\n",
              "      <td>-0.045733</td>\n",
              "      <td>-0.088449</td>\n",
              "      <td>0.076800</td>\n",
              "      <td>0.125628</td>\n",
              "      <td>0.083601</td>\n",
              "      <td>0.005249</td>\n",
              "      <td>-0.030784</td>\n",
              "      <td>0.017077</td>\n",
              "      <td>0.009208</td>\n",
              "      <td>-0.045689</td>\n",
              "      <td>-0.026507</td>\n",
              "      <td>0.069266</td>\n",
              "      <td>0.027239</td>\n",
              "      <td>0.097482</td>\n",
              "      <td>0.117545</td>\n",
              "      <td>-0.007455</td>\n",
              "      <td>536</td>\n",
              "    </tr>\n",
              "  </tbody>\n",
              "</table>\n",
              "<p>536 rows × 301 columns</p>\n",
              "</div>"
            ],
            "text/plain": [
              "            0         1         2         3  ...       297       298       299   id\n",
              "1   -0.042328  0.030609 -0.001076 -0.068466  ... -0.031891 -0.025040 -0.015503    1\n",
              "2   -0.100977  0.040027  0.004196 -0.011914  ...  0.040588  0.045282 -0.031119    2\n",
              "3   -0.028890  0.041341  0.019589 -0.085612  ... -0.029527  0.033129  0.019121    3\n",
              "4   -0.008403  0.048299  0.018255  0.037364  ...  0.061376 -0.006638 -0.005717    4\n",
              "5   -0.036819  0.042725  0.002426 -0.057739  ...  0.071487 -0.012489 -0.034241    5\n",
              "..        ...       ...       ...       ...  ...       ...       ...       ...  ...\n",
              "532 -0.009121  0.108412 -0.052578  0.054545  ...  0.013943  0.167643  0.082981  532\n",
              "533  0.124854  0.053467  0.090771  0.034473  ...  0.114148  0.139844  0.026086  533\n",
              "534  0.023846  0.050122 -0.012231  0.076372  ...  0.003607 -0.046704 -0.016516  534\n",
              "535  0.060522  0.123969  0.034013  0.059155  ...  0.083423  0.078864  0.000018  535\n",
              "536  0.126918  0.144252  0.010538 -0.017683  ...  0.097482  0.117545 -0.007455  536\n",
              "\n",
              "[536 rows x 301 columns]"
            ]
          },
          "metadata": {
            "tags": []
          },
          "execution_count": 49
        }
      ]
    },
    {
      "cell_type": "markdown",
      "metadata": {
        "id": "3Ew1WQvVWil-"
      },
      "source": [
        "**QUERY PROCESSOR**"
      ]
    },
    {
      "cell_type": "code",
      "metadata": {
        "colab": {
          "base_uri": "https://localhost:8080/"
        },
        "id": "C9fmTxWAWz7Z",
        "outputId": "2ed93ec5-16c1-404e-eb24-b764c05c1c7f"
      },
      "source": [
        "test= 'Temparature measurement'\n",
        "\n",
        "print(\"User query: {}.\" .format(test))\n",
        "normalize = clean_string(test)\n",
        "print(\"Normalized query: {}.\" .format(normalize))"
      ],
      "execution_count": null,
      "outputs": [
        {
          "output_type": "stream",
          "text": [
            "User query: Temparature measurement.\n",
            "Normalized query: temparature measurement .\n"
          ],
          "name": "stdout"
        }
      ]
    },
    {
      "cell_type": "code",
      "metadata": {
        "id": "WVS9bI_qWzkh"
      },
      "source": [
        "#Then split\n",
        "test_split = normalize.split()\n",
        "\n",
        "#convert the test split into a function\n",
        "\n",
        "def processor_query(query):\n",
        "  PQ = clean_string(query)\n",
        "  return PQ.split()"
      ],
      "execution_count": null,
      "outputs": []
    },
    {
      "cell_type": "code",
      "metadata": {
        "id": "nkjOjioEZLYm"
      },
      "source": [
        "retrieves = []\n",
        "for word in test_split:\n",
        "  if word in indexed.keys():\n",
        "    retrieves.append(indexed[word])"
      ],
      "execution_count": null,
      "outputs": []
    },
    {
      "cell_type": "code",
      "metadata": {
        "id": "PkD_SBqwZaFl"
      },
      "source": [
        "#Searching for an intersection among all the posting list\n",
        "\n",
        "def L_intersection(lists):\n",
        "  intersect = list(set.intersection(*map(set, lists)))\n",
        "  intersect.sort()\n",
        "  return intersect"
      ],
      "execution_count": null,
      "outputs": []
    },
    {
      "cell_type": "code",
      "metadata": {
        "id": "w69YDF21ZsrA",
        "colab": {
          "base_uri": "https://localhost:8080/"
        },
        "outputId": "254b556b-bd31-4662-9d78-8e3686ca49e9"
      },
      "source": [
        "result = L_intersection(retrieves)\n",
        "print(result)"
      ],
      "execution_count": null,
      "outputs": [
        {
          "output_type": "stream",
          "text": [
            "[82, 181, 183, 214, 478]\n"
          ],
          "name": "stdout"
        }
      ]
    },
    {
      "cell_type": "code",
      "metadata": {
        "id": "H8eFaJKx2Rk8"
      },
      "source": [
        "# Defining a function for retrieving paper ids that is related to the word or sentence looked up.\n",
        "\n",
        "def search_engine(query, index=IDX):\n",
        "  query_split = processor_query(query)\n",
        "  retrieves = []\n",
        "  for w in query_split:\n",
        "    if w in index.keys():\n",
        "      retrieves.append(index[w])\n",
        "  if len(retrieves)>0:\n",
        "    search_result = L_intersection(retrieves)\n",
        "  else:\n",
        "      search_result = 'No Information Found'\n",
        "  return search_result"
      ],
      "execution_count": null,
      "outputs": []
    },
    {
      "cell_type": "code",
      "metadata": {
        "colab": {
          "base_uri": "https://localhost:8080/"
        },
        "id": "T4i6KEQg_7Ff",
        "outputId": "fb52bb63-a4b9-4e72-cf23-5bef47780e3c"
      },
      "source": [
        "result= search_engine(\"age\", indexed)\n",
        "print(result)"
      ],
      "execution_count": null,
      "outputs": [
        {
          "output_type": "stream",
          "text": [
            "[318, 340, 345, 406]\n"
          ],
          "name": "stdout"
        }
      ]
    },
    {
      "cell_type": "code",
      "metadata": {
        "colab": {
          "base_uri": "https://localhost:8080/",
          "height": 204
        },
        "id": "UpLbnepevFl-",
        "outputId": "4f6a7eae-8d04-4d77-8bda-014406889a99"
      },
      "source": [
        "# This stage maps the retrieved ids to relevant titles and prints out all the information pertaining to this paper\n",
        "\n",
        "meta_data = data.drop(['text'], axis=1).copy()\n",
        "meta_data.head(5)"
      ],
      "execution_count": null,
      "outputs": [
        {
          "output_type": "execute_result",
          "data": {
            "text/html": [
              "<div>\n",
              "<style scoped>\n",
              "    .dataframe tbody tr th:only-of-type {\n",
              "        vertical-align: middle;\n",
              "    }\n",
              "\n",
              "    .dataframe tbody tr th {\n",
              "        vertical-align: top;\n",
              "    }\n",
              "\n",
              "    .dataframe thead th {\n",
              "        text-align: right;\n",
              "    }\n",
              "</style>\n",
              "<table border=\"1\" class=\"dataframe\">\n",
              "  <thead>\n",
              "    <tr style=\"text-align: right;\">\n",
              "      <th></th>\n",
              "      <th>Title</th>\n",
              "      <th>Author</th>\n",
              "      <th>Paperlink</th>\n",
              "      <th>id</th>\n",
              "    </tr>\n",
              "  </thead>\n",
              "  <tbody>\n",
              "    <tr>\n",
              "      <th>0</th>\n",
              "      <td>enhance co2 solubility aquifer use downhole co...</td>\n",
              "      <td>mohsen abbaszadeh</td>\n",
              "      <td>https://pureportal.coventry.ac.uk/en/publicati...</td>\n",
              "      <td>1</td>\n",
              "    </tr>\n",
              "    <tr>\n",
              "      <th>1</th>\n",
              "      <td>investigate impact temperature relative permea...</td>\n",
              "      <td>mohsen abbaszadeh</td>\n",
              "      <td>https://pureportal.coventry.ac.uk/en/publicati...</td>\n",
              "      <td>2</td>\n",
              "    </tr>\n",
              "    <tr>\n",
              "      <th>2</th>\n",
              "      <td>influence temperature wettability alteration c...</td>\n",
              "      <td>mohsen abbaszadeh</td>\n",
              "      <td>https://pureportal.coventry.ac.uk/en/publicati...</td>\n",
              "      <td>3</td>\n",
              "    </tr>\n",
              "    <tr>\n",
              "      <th>3</th>\n",
              "      <td>accelerate co2 solubility brine low temperatur...</td>\n",
              "      <td>mohsen abbaszadeh</td>\n",
              "      <td>https://pureportal.coventry.ac.uk/en/publicati...</td>\n",
              "      <td>4</td>\n",
              "    </tr>\n",
              "    <tr>\n",
              "      <th>4</th>\n",
              "      <td>investigate impact relative permeability curve...</td>\n",
              "      <td>mohsen abbaszadeh</td>\n",
              "      <td>https://pureportal.coventry.ac.uk/en/publicati...</td>\n",
              "      <td>5</td>\n",
              "    </tr>\n",
              "  </tbody>\n",
              "</table>\n",
              "</div>"
            ],
            "text/plain": [
              "                                               Title  ... id\n",
              "0  enhance co2 solubility aquifer use downhole co...  ...  1\n",
              "1  investigate impact temperature relative permea...  ...  2\n",
              "2  influence temperature wettability alteration c...  ...  3\n",
              "3  accelerate co2 solubility brine low temperatur...  ...  4\n",
              "4  investigate impact relative permeability curve...  ...  5\n",
              "\n",
              "[5 rows x 4 columns]"
            ]
          },
          "metadata": {
            "tags": []
          },
          "execution_count": 57
        }
      ]
    },
    {
      "cell_type": "code",
      "metadata": {
        "colab": {
          "base_uri": "https://localhost:8080/",
          "height": 173
        },
        "id": "1veTK9HNAxPb",
        "outputId": "fab8a9e7-cfe4-4506-bd89-2e0c259a5a9e"
      },
      "source": [
        "# Printing out the entire row of the retrieved query and return the rows of the retrieved query\n",
        "\n",
        "def id_df(retrieved_id, df):\n",
        "    return df[df.id.isin(retrieved_id)].reset_index(drop=True)\n",
        "\n",
        "result_meta = id_df(result, meta_data)\n",
        "result_meta.head(5)"
      ],
      "execution_count": null,
      "outputs": [
        {
          "output_type": "execute_result",
          "data": {
            "text/html": [
              "<div>\n",
              "<style scoped>\n",
              "    .dataframe tbody tr th:only-of-type {\n",
              "        vertical-align: middle;\n",
              "    }\n",
              "\n",
              "    .dataframe tbody tr th {\n",
              "        vertical-align: top;\n",
              "    }\n",
              "\n",
              "    .dataframe thead th {\n",
              "        text-align: right;\n",
              "    }\n",
              "</style>\n",
              "<table border=\"1\" class=\"dataframe\">\n",
              "  <thead>\n",
              "    <tr style=\"text-align: right;\">\n",
              "      <th></th>\n",
              "      <th>Title</th>\n",
              "      <th>Author</th>\n",
              "      <th>Paperlink</th>\n",
              "      <th>id</th>\n",
              "    </tr>\n",
              "  </thead>\n",
              "  <tbody>\n",
              "    <tr>\n",
              "      <th>0</th>\n",
              "      <td>perturbation cell receptor repertoire occurs i...</td>\n",
              "      <td>richard aspinall</td>\n",
              "      <td>https://pureportal.coventry.ac.uk/en/publicati...</td>\n",
              "      <td>318</td>\n",
              "    </tr>\n",
              "    <tr>\n",
              "      <th>1</th>\n",
              "      <td>review radio digital age andrew dubber</td>\n",
              "      <td>melissa avdeeff</td>\n",
              "      <td>https://pureportal.coventry.ac.uk/en/publicati...</td>\n",
              "      <td>340</td>\n",
              "    </tr>\n",
              "    <tr>\n",
              "      <th>2</th>\n",
              "      <td>revisit role gender age subjective objective k...</td>\n",
              "      <td>ramus ayoubi</td>\n",
              "      <td>https://pureportal.coventry.ac.uk/en/publicati...</td>\n",
              "      <td>345</td>\n",
              "    </tr>\n",
              "    <tr>\n",
              "      <th>3</th>\n",
              "      <td>ground zero revisit – museum materiality age g...</td>\n",
              "      <td>lindsay balfour</td>\n",
              "      <td>https://pureportal.coventry.ac.uk/en/publicati...</td>\n",
              "      <td>406</td>\n",
              "    </tr>\n",
              "  </tbody>\n",
              "</table>\n",
              "</div>"
            ],
            "text/plain": [
              "                                               Title  ...   id\n",
              "0  perturbation cell receptor repertoire occurs i...  ...  318\n",
              "1            review radio digital age andrew dubber   ...  340\n",
              "2  revisit role gender age subjective objective k...  ...  345\n",
              "3  ground zero revisit – museum materiality age g...  ...  406\n",
              "\n",
              "[4 rows x 4 columns]"
            ]
          },
          "metadata": {
            "tags": []
          },
          "execution_count": 58
        }
      ]
    },
    {
      "cell_type": "code",
      "metadata": {
        "id": "ohKm59INdwEj"
      },
      "source": [
        "#Computing a vector for the query\n",
        "query_vec = Vec_Avg(WordToVec, test_split)"
      ],
      "execution_count": null,
      "outputs": []
    },
    {
      "cell_type": "code",
      "metadata": {
        "id": "YnIMIcVOd3vq"
      },
      "source": [
        "#Retrieve vectors of retrieved documents\n",
        "result_vecs = id_df(result, Doc_vec)"
      ],
      "execution_count": null,
      "outputs": []
    },
    {
      "cell_type": "code",
      "metadata": {
        "id": "6J4bkEw9eMMe"
      },
      "source": [
        "#Computing the cosine simliarity between the retrieved documents and queries\n",
        "\n",
        "def cos_similarity(a, b):\n",
        "  dot = np.dot(a, b)\n",
        "  norma = np.linalg.norm(a)\n",
        "  normb = np.linalg.norm(b)\n",
        "  cos = dot / (norma * normb)\n",
        "  return(cos)"
      ],
      "execution_count": null,
      "outputs": []
    },
    {
      "cell_type": "code",
      "metadata": {
        "id": "UDRPSfbWeOuE"
      },
      "source": [
        "Cosine = []\n",
        "for i in range(len(result_vecs)):\n",
        "  Doc_Vecs = result_vecs.loc[i,:].drop(['id'])\n",
        "  Cosine.append(cos_similarity(Doc_Vecs, query_vec))\n",
        "result_meta['rank'] = Cosine"
      ],
      "execution_count": null,
      "outputs": []
    },
    {
      "cell_type": "code",
      "metadata": {
        "colab": {
          "base_uri": "https://localhost:8080/",
          "height": 173
        },
        "id": "EY9j3YWbeSlg",
        "outputId": "47aae113-57b2-4b73-f6af-441fbe76e37d"
      },
      "source": [
        "#Sorts the retrieved documents by cosine similarity according to its relevance\n",
        "result_meta.sort_values('rank', axis=0)"
      ],
      "execution_count": null,
      "outputs": [
        {
          "output_type": "execute_result",
          "data": {
            "text/html": [
              "<div>\n",
              "<style scoped>\n",
              "    .dataframe tbody tr th:only-of-type {\n",
              "        vertical-align: middle;\n",
              "    }\n",
              "\n",
              "    .dataframe tbody tr th {\n",
              "        vertical-align: top;\n",
              "    }\n",
              "\n",
              "    .dataframe thead th {\n",
              "        text-align: right;\n",
              "    }\n",
              "</style>\n",
              "<table border=\"1\" class=\"dataframe\">\n",
              "  <thead>\n",
              "    <tr style=\"text-align: right;\">\n",
              "      <th></th>\n",
              "      <th>Title</th>\n",
              "      <th>Author</th>\n",
              "      <th>Paperlink</th>\n",
              "      <th>id</th>\n",
              "      <th>rank</th>\n",
              "    </tr>\n",
              "  </thead>\n",
              "  <tbody>\n",
              "    <tr>\n",
              "      <th>3</th>\n",
              "      <td>ground zero revisit – museum materiality age g...</td>\n",
              "      <td>lindsay balfour</td>\n",
              "      <td>https://pureportal.coventry.ac.uk/en/publicati...</td>\n",
              "      <td>406</td>\n",
              "      <td>0.256327</td>\n",
              "    </tr>\n",
              "    <tr>\n",
              "      <th>0</th>\n",
              "      <td>perturbation cell receptor repertoire occurs i...</td>\n",
              "      <td>richard aspinall</td>\n",
              "      <td>https://pureportal.coventry.ac.uk/en/publicati...</td>\n",
              "      <td>318</td>\n",
              "      <td>0.263182</td>\n",
              "    </tr>\n",
              "    <tr>\n",
              "      <th>1</th>\n",
              "      <td>review radio digital age andrew dubber</td>\n",
              "      <td>melissa avdeeff</td>\n",
              "      <td>https://pureportal.coventry.ac.uk/en/publicati...</td>\n",
              "      <td>340</td>\n",
              "      <td>0.291557</td>\n",
              "    </tr>\n",
              "    <tr>\n",
              "      <th>2</th>\n",
              "      <td>revisit role gender age subjective objective k...</td>\n",
              "      <td>ramus ayoubi</td>\n",
              "      <td>https://pureportal.coventry.ac.uk/en/publicati...</td>\n",
              "      <td>345</td>\n",
              "      <td>0.320297</td>\n",
              "    </tr>\n",
              "  </tbody>\n",
              "</table>\n",
              "</div>"
            ],
            "text/plain": [
              "                                               Title  ...      rank\n",
              "3  ground zero revisit – museum materiality age g...  ...  0.256327\n",
              "0  perturbation cell receptor repertoire occurs i...  ...  0.263182\n",
              "1            review radio digital age andrew dubber   ...  0.291557\n",
              "2  revisit role gender age subjective objective k...  ...  0.320297\n",
              "\n",
              "[4 rows x 5 columns]"
            ]
          },
          "metadata": {
            "tags": []
          },
          "execution_count": 63
        }
      ]
    },
    {
      "cell_type": "code",
      "metadata": {
        "id": "nv67gDfaeWLa"
      },
      "source": [
        "#Converting and combining the query processor, the indexer, with its relevancy  to return a value\n",
        "\n",
        "def Ranked_results(query, results):\n",
        "  query_norm = processor_query(query)\n",
        "  query_vec = Vec_Avg(WordToVec, query_norm)\n",
        "  result_vecs = id_df(results.id, Doc_vec)\n",
        "\n",
        "  Cosine = []\n",
        "  for i in range(len(result_vecs)):\n",
        "    Doc_Vecs = result_vecs.loc[i,:].drop(['id'])\n",
        "    Cosine.append(cos_similarity(Doc_Vecs, query_vec))\n",
        "  results['rank'] = Cosine\n",
        "  results = results.sort_values('rank', axis=0)\n",
        "  return results"
      ],
      "execution_count": null,
      "outputs": []
    },
    {
      "cell_type": "code",
      "metadata": {
        "id": "6Vufn7JKeY-R"
      },
      "source": [
        "final_result = Ranked_results(\"measurement\", result_meta)"
      ],
      "execution_count": null,
      "outputs": []
    },
    {
      "cell_type": "code",
      "metadata": {
        "id": "uZMG1T0YDmrQ"
      },
      "source": [
        "#Printing output\n",
        "\n",
        "def print_results(data):\n",
        "  for i in range(len(data)):\n",
        "    res = data.loc[i,:]\n",
        "    print(res.Title)\n",
        "    print(res.Author)\n",
        "    if i == len(data):\n",
        "        print(res.Paperlink)\n",
        "    else:\n",
        "        print(\"{}\\n\" .format(res.Paperlink))"
      ],
      "execution_count": null,
      "outputs": []
    },
    {
      "cell_type": "code",
      "metadata": {
        "colab": {
          "base_uri": "https://localhost:8080/"
        },
        "id": "-akxUjP2E5a8",
        "outputId": "f02777ac-3571-4be6-a1a9-b38b0ffa2f14"
      },
      "source": [
        "print_results(final_result)"
      ],
      "execution_count": null,
      "outputs": [
        {
          "output_type": "stream",
          "text": [
            "perturbation cell receptor repertoire occurs increase age dog \n",
            "richard aspinall \n",
            "https://pureportal.coventry.ac.uk/en/publications/perturbation-of-the-t-cell-receptor-repertoire-occurs-with-increa\n",
            "\n",
            "review radio digital age andrew dubber \n",
            "melissa avdeeff \n",
            "https://pureportal.coventry.ac.uk/en/publications/review-radio-in-the-digital-age-by-andrew-dubber\n",
            "\n",
            "revisit role gender age subjective objective knowledge consumer ’ attitude towards organic food \n",
            "ramus ayoubi \n",
            "https://pureportal.coventry.ac.uk/en/publications/a-revisit-to-the-role-of-gender-age-subjective-and-objective-know\n",
            "\n",
            "ground zero revisit – museum materiality age global pandemic \n",
            "lindsay balfour \n",
            "https://pureportal.coventry.ac.uk/en/publications/ground-zero-revisited-museums-and-materiality-in-an-age-of-global\n",
            "\n"
          ],
          "name": "stdout"
        }
      ]
    },
    {
      "cell_type": "code",
      "metadata": {
        "id": "guoKNLa-tfea"
      },
      "source": [
        "def Search(query, dat=None):\n",
        "  result = search_engine(query)\n",
        "  result = id_df(result, meta_data)\n",
        "  result = Ranked_results(query, result)\n",
        "  print_results(result)"
      ],
      "execution_count": null,
      "outputs": []
    },
    {
      "cell_type": "code",
      "metadata": {
        "colab": {
          "base_uri": "https://localhost:8080/"
        },
        "id": "tfDbAZibuKab",
        "outputId": "9d1f5722-d499-449b-a367-7a8e651a5b95"
      },
      "source": [
        "#Search engine input point\n",
        "\n",
        "query = input(\"Search for:\")\n",
        "Search(query)"
      ],
      "execution_count": null,
      "outputs": [
        {
          "output_type": "stream",
          "text": [
            "Search for:impact of temperature\n",
            "investigate impact temperature relative permeability curve cure geological co2 storage \n",
            "mohsen abbaszadeh \n",
            "https://pureportal.coventry.ac.uk/en/publications/investigating-the-impact-of-temperature-on-relative-permeability-\n",
            "\n"
          ],
          "name": "stdout"
        }
      ]
    }
  ]
}
